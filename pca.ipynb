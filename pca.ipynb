{
 "cells": [
  {
   "cell_type": "code",
   "execution_count": 1,
   "id": "898573ac",
   "metadata": {},
   "outputs": [],
   "source": [
    "#import libraries \n",
    "import math\n",
    "import numpy as np\n",
    "import pandas as pd\n",
    "import matplotlib.pylab as plt\n",
    "import seaborn as sns\n",
    "import plotly.express as px\n",
    "import plotly.graph_objects as go\n",
    "import plotly.figure_factory as ff\n",
    "import plotly.subplots as sp\n",
    "%matplotlib inline"
   ]
  },
  {
   "cell_type": "markdown",
   "id": "3bf17057",
   "metadata": {},
   "source": [
    "# Principal Component Analysis Algorithm:\n",
    "The steps for computing the  PCA Algorithm are:\n",
    "- Calculate the covariance matrix X of the data points.\n",
    "- Compute the eigenvectors and their corresponding eigenvalues.\n",
    "- Arrange the eigenvectors in descending order based on their eigenvalues.\n",
    "- Select the first k eigenvectors that fulfill the desired explained variance.\n",
    "- Transform the original data, which is in the shape of m observations by n features, into m observations by k selected features."
   ]
  },
  {
   "cell_type": "code",
   "execution_count": 2,
   "id": "dde2640c",
   "metadata": {},
   "outputs": [],
   "source": [
    "class PCA:\n",
    "    def __init__(self, target_explained_variance=None):\n",
    "        \n",
    "        self.target_explained_variance = target_explained_variance\n",
    "        self.feature_size = -1\n",
    "# standarize the independent variable\n",
    "    def standardize(self, X):\n",
    "       \n",
    "        from sklearn.preprocessing import StandardScaler\n",
    "        sc = StandardScaler()\n",
    "        return sc.fit_transform(X)\n",
    "# compute the mean of the input variables    \n",
    "    def compute_mean_vector(self, X_std):\n",
    "        \n",
    "        return np.mean(X_std, axis=0)\n",
    "    \n",
    "#  Compute the coviance matrix \n",
    "    def compute_cov(self, X_std, mean_vec):\n",
    "# first method to calculate the covariance matrix the covariance matrix formula              \n",
    "#        m, n = X_std.shape\n",
    "#        cov_matrix = np.zeros((n, n))  # Initialize a matrix to store the covariance values\n",
    "#        for i in range(n):\n",
    "#            for j in range(n):\n",
    "#                 cov_matrix[i, j] = np.dot((X_std[:, i] - mean_vec[i]), (X_std[:, j] - mean_vec[j])) / (m - 1)\n",
    "      \n",
    "\n",
    "# Calculate the covariance matrix  using the np.cov\n",
    "        centered_data = X_std - self.compute_mean_vector(X_std )\n",
    "        cov_matrix = np.cov(centered_data, rowvar=False)\n",
    "    \n",
    "        return cov_matrix\n",
    "    def compute_eigen_vector(self, cov_mat):\n",
    " \n",
    "        # Calcualte eigenvalues and eigenvectors using np.linalg.eig()\n",
    "        eigenvalues, eigenvectors = np.linalg.eig(cov_mat)\n",
    "        return eigenvalues, eigenvectors\n",
    "    def compute_explained_variance(self, eigen_vals):\n",
    "      \n",
    "        \n",
    "        # Sort eigenvlaues in descending order\n",
    "        sort_eigen_vals = sorted(eigen_vals, reverse = True)\n",
    "        # Calculate explained variance for each principal component\n",
    "        return [eigen_val /  sum(eigen_vals) for eigen_val in sort_eigen_vals]\n",
    "    def cumulative_sum(self, var_exp):\n",
    "        \n",
    "        return np.cumsum(var_exp)\n",
    "    def compute_weight_matrix(self, eig_pairs, cum_var_exp):\n",
    "        \n",
    "        \n",
    "        cum_var_exp  =np.array(cum_var_exp) \n",
    "        if self.target_explained_variance is not None:\n",
    "            k = np.argmax(cum_var_exp >= self.target_explained_variance) \n",
    "            \n",
    "        else:\n",
    "            k = len(eig_pairs)\n",
    "        weight_matrix = np.hstack([eig_pair[1].reshape(-1,1)for eig_pair in eig_pairs[:k]]) \n",
    "        return weight_matrix\n",
    "   \n",
    "\n",
    "    def transform_data(self, X_std, matrix_w):\n",
    "        return X_std.dot(matrix_w)\n",
    "\n",
    "    def fit(self, X):\n",
    "\n",
    "        self.feature_size = X.shape[1]\n",
    "        \n",
    "        # your code here\n",
    "        matrix_w = []\n",
    "        # Standardize X\n",
    "        X_std = self.standardize(X)\n",
    "       # Compute mean vector and covariance matrix\n",
    "        mean_vec = self.compute_mean_vector(X_std)\n",
    "        cov_mat = self.compute_cov(X_std, mean_vec)\n",
    "    \n",
    "        # Compute eigenvectors and eigenvalues\n",
    "        eigen_vals, eigen_vecs = self.compute_eigen_vector(cov_mat)\n",
    "    \n",
    "        # Compute explained variance and cumulative sum\n",
    "        var_exp = self.compute_explained_variance(eigen_vals)\n",
    "        cum_var_exp = self.cumulative_sum(var_exp)\n",
    "       \n",
    "        \n",
    "        # Compute weight matrix\n",
    "        eig_pairs = list(zip(np.abs(eigen_vals), eigen_vecs.T))\n",
    "        eig_pairs.sort(key=lambda pair: pair[0], reverse=True)\n",
    "        weight_matrix = self.compute_weight_matrix(eig_pairs, cum_var_exp)\n",
    "      \n",
    "        # Assign the relevant portion of weight_matrix to matrix_w\n",
    "        matrix_w = weight_matrix  # This selects the first k principal component\n",
    "        print(len(matrix_w),len(matrix_w[0]))\n",
    "       # return self.transform_data(X_std=X_std, matrix_w=matrix_w)\n",
    "        return self.transform_data(X_std, matrix_w)"
   ]
  },
  {
   "cell_type": "markdown",
   "id": "a5f6f706",
   "metadata": {},
   "source": [
    "## Step1: Covariance Matrix Computation:"
   ]
  },
  {
   "cell_type": "code",
   "execution_count": 7,
   "id": "d042946a",
   "metadata": {},
   "outputs": [
    {
     "data": {
      "text/plain": [
       "(10000, 784)"
      ]
     },
     "execution_count": 7,
     "metadata": {},
     "output_type": "execute_result"
    }
   ],
   "source": [
    "\n",
    "df= pd.read_csv('fashion-mnist.csv')\n",
    "\n",
    "# The independent variables\n",
    "feature_names = df.drop('label', axis=1).columns .tolist()\n",
    "\n",
    "\n",
    "# The dependent variable\n",
    "X = df.drop('label', axis = 1).values\n",
    "y = df.label.values\n",
    "X.shape"
   ]
  },
  {
   "cell_type": "code",
   "execution_count": 4,
   "id": "7488f046",
   "metadata": {},
   "outputs": [
    {
     "data": {
      "image/png": "[encoded data removed]",
      "text/plain": [
       "<Figure size 864x288 with 2 Axes>"
      ]
     },
     "metadata": {},
     "output_type": "display_data"
    }
   ],
   "source": [
    "# Choose target_explained_variance=0.80 \n",
    "pca = PCA(target_explained_variance=0.80)\n",
    "\n",
    "# Get the X_std,  mean_vec,and cov_mat\n",
    "X_std = pca.standardize(X)\n",
    "mean_vec = pca.compute_mean_vector(X_std)\n",
    "cov_mat = pca.compute_cov(X_std, mean_vec)\n",
    "\n",
    "# Visualize the first ten elements of the covariance matrix\n",
    "feature_names_10 = feature_names[:10]\n",
    "cov_mat_10  = cov_mat[ :10, :10]\n",
    "\n",
    "# Set up Seaborn style\n",
    "sns.set(style=\"white\")\n",
    "\n",
    "# Create a heatmap of the covariance matrix\n",
    "plt.figure(figsize=(12, 4))\n",
    "\n",
    "\n",
    "# Create the heatmap\n",
    "sns.heatmap(cov_mat_10, annot=True, cmap='coolwarm', center=0,\n",
    "            xticklabels=feature_names_10, yticklabels=feature_names_10)\n",
    "\n",
    "plt.title(\"Covariance Matrix\")\n",
    "plt.show()"
   ]
  },
  {
   "cell_type": "markdown",
   "id": "e09d9223",
   "metadata": {},
   "source": [
    "# Step2: Compute the Eigenvalues and Eigenvectors of Covariance Matrix."
   ]
  },
  {
   "cell_type": "code",
   "execution_count": 8,
   "id": "496c98fb",
   "metadata": {},
   "outputs": [
    {
     "data": {
      "application/vnd.plotly.v1+json": {
       "config": {
        "plotlyServerURL": "https://plotly.com"
       },
       "data": [
        {
         "mode": "lines+markers",
         "name": "Eigenvalues",
         "type": "scatter",
         "x": [
          1,
          2,
          3,
          4,
          5,
          6,
          7,
          8,
          9,
          10,
          11,
          12,
          13,
          14,
          15,
          16,
          17,
          18,
          19,
          20,
          21,
          22,
          23,
          24,
          25,
          26,
          27,
          28,
          29,
          30,
          31,
          32,
          33,
          34,
          35,
          36,
          37,
          38,
          39,
          40,
          41,
          42,
          43,
          44,
          45,
          46,
          47,
          48,
          49,
          50,
          51,
          52,
          53,
          54,
          55,
          56,
          57,
          58,
          59,
          60,
          61,
          62,
          63,
          64,
          65,
          66,
          67,
          68,
          69,
          70,
          71,
          72,
          73,
          74,
          75,
          76,
          77,
          78,
          79,
          80,
          81,
          82,
          83,
          84,
          85,
          86,
          87,
          88,
          89,
          90,
          91,
          92,
          93,
          94,
          95,
          96,
          97,
          98,
          99,
          100,
          101,
          102,
          103,
          104,
          105,
          106,
          107,
          108,
          109,
          110,
          111,
          112,
          113,
          114,
          115,
          116,
          117,
          118,
          119,
          120,
          121,
          122,
          123,
          124,
          125,
          126,
          127,
          128,
          129,
          130,
          131,
          132,
          133,
          134,
          135,
          136,
          137,
          138,
          139,
          140,
          141,
          142,
          143,
          144,
          145,
          146,
          147,
          148,
          149,
          150,
          151,
          152,
          153,
          154,
          155,
          156,
          157,
          158,
          159,
          160,
          161,
          162,
          163,
          164,
          165,
          166,
          167,
          168,
          169,
          170,
          171,
          172,
          173,
          174,
          175,
          176,
          177,
          178,
          179,
          180,
          181,
          182,
          183,
          184,
          185,
          186,
          187,
          188,
          189,
          190,
          191,
          192,
          193,
          194,
          195,
          196,
          197,
          198,
          199,
          200,
          201,
          202,
          203,
          204,
          205,
          206,
          207,
          208,
          209,
          210,
          211,
          212,
          213,
          214,
          215,
          216,
          217,
          218,
          219,
          220,
          221,
          222,
          223,
          224,
          225,
          226,
          227,
          228,
          229,
          230,
          231,
          232,
          233,
          234,
          235,
          236,
          237,
          238,
          239,
          240,
          241,
          242,
          243,
          244,
          245,
          246,
          247,
          248,
          249,
          250,
          251,
          252,
          253,
          254,
          255,
          256,
          257,
          258,
          259,
          260,
          261,
          262,
          263,
          264,
          265,
          266,
          267,
          268,
          269,
          270,
          271,
          272,
          273,
          274,
          275,
          276,
          277,
          278,
          279,
          280,
          281,
          282,
          283,
          284,
          285,
          286,
          287,
          288,
          289,
          290,
          291,
          292,
          293,
          294,
          295,
          296,
          297,
          298,
          299,
          300,
          301,
          302,
          303,
          304,
          305,
          306,
          307,
          308,
          309,
          310,
          311,
          312,
          313,
          314,
          315,
          316,
          317,
          318,
          319,
          320,
          321,
          322,
          323,
          324,
          325,
          326,
          327,
          328,
          329,
          330,
          331,
          332,
          333,
          334,
          335,
          336,
          337,
          338,
          339,
          340,
          341,
          342,
          343,
          344,
          345,
          346,
          347,
          348,
          349,
          350,
          351,
          352,
          353,
          354,
          355,
          356,
          357,
          358,
          359,
          360,
          361,
          362,
          363,
          364,
          365,
          366,
          367,
          368,
          369,
          370,
          371,
          372,
          373,
          374,
          375,
          376,
          377,
          378,
          379,
          380,
          381,
          382,
          383,
          384,
          385,
          386,
          387,
          388,
          389,
          390,
          391,
          392,
          393,
          394,
          395,
          396,
          397,
          398,
          399,
          400,
          401,
          402,
          403,
          404,
          405,
          406,
          407,
          408,
          409,
          410,
          411,
          412,
          413,
          414,
          415,
          416,
          417,
          418,
          419,
          420,
          421,
          422,
          423,
          424,
          425,
          426,
          427,
          428,
          429,
          430,
          431,
          432,
          433,
          434,
          435,
          436,
          437,
          438,
          439,
          440,
          441,
          442,
          443,
          444,
          445,
          446,
          447,
          448,
          449,
          450,
          451,
          452,
          453,
          454,
          455,
          456,
          457,
          458,
          459,
          460,
          461,
          462,
          463,
          464,
          465,
          466,
          467,
          468,
          469,
          470,
          471,
          472,
          473,
          474,
          475,
          476,
          477,
          478,
          479,
          480,
          481,
          482,
          483,
          484,
          485,
          486,
          487,
          488,
          489,
          490,
          491,
          492,
          493,
          494,
          495,
          496,
          497,
          498,
          499,
          500,
          501,
          502,
          503,
          504,
          505,
          506,
          507,
          508,
          509,
          510,
          511,
          512,
          513,
          514,
          515,
          516,
          517,
          518,
          519,
          520,
          521,
          522,
          523,
          524,
          525,
          526,
          527,
          528,
          529,
          530,
          531,
          532,
          533,
          534,
          535,
          536,
          537,
          538,
          539,
          540,
          541,
          542,
          543,
          544,
          545,
          546,
          547,
          548,
          549,
          550,
          551,
          552,
          553,
          554,
          555,
          556,
          557,
          558,
          559,
          560,
          561,
          562,
          563,
          564,
          565,
          566,
          567,
          568,
          569,
          570,
          571,
          572,
          573,
          574,
          575,
          576,
          577,
          578,
          579,
          580,
          581,
          582,
          583,
          584,
          585,
          586,
          587,
          588,
          589,
          590,
          591,
          592,
          593,
          594,
          595,
          596,
          597,
          598,
          599,
          600,
          601,
          602,
          603,
          604,
          605,
          606,
          607,
          608,
          609,
          610,
          611,
          612,
          613,
          614,
          615,
          616,
          617,
          618,
          619,
          620,
          621,
          622,
          623,
          624,
          625,
          626,
          627,
          628,
          629,
          630,
          631,
          632,
          633,
          634,
          635,
          636,
          637,
          638,
          639,
          640,
          641,
          642,
          643,
          644,
          645,
          646,
          647,
          648,
          649,
          650,
          651,
          652,
          653,
          654,
          655,
          656,
          657,
          658,
          659,
          660,
          661,
          662,
          663,
          664,
          665,
          666,
          667,
          668,
          669,
          670,
          671,
          672,
          673,
          674,
          675,
          676,
          677,
          678,
          679,
          680,
          681,
          682,
          683,
          684,
          685,
          686,
          687,
          688,
          689,
          690,
          691,
          692,
          693,
          694,
          695,
          696,
          697,
          698,
          699,
          700,
          701,
          702,
          703,
          704,
          705,
          706,
          707,
          708,
          709,
          710,
          711,
          712,
          713,
          714,
          715,
          716,
          717,
          718,
          719,
          720,
          721,
          722,
          723,
          724,
          725,
          726,
          727,
          728,
          729,
          730,
          731,
          732,
          733,
          734,
          735,
          736,
          737,
          738,
          739,
          740,
          741,
          742,
          743,
          744,
          745,
          746,
          747,
          748,
          749,
          750,
          751,
          752,
          753,
          754,
          755,
          756,
          757,
          758,
          759,
          760,
          761,
          762,
          763,
          764,
          765,
          766,
          767,
          768,
          769,
          770,
          771,
          772,
          773,
          774,
          775,
          776,
          777,
          778,
          779,
          780,
          781,
          782,
          783,
          784
         ],
         "xaxis": "x",
         "y": [
          172.80202113518646,
          113.24801577782628,
          43.03842650302557,
          39.55883209174649,
          31.278120038899054,
          23.61001396649082,
          21.948355856032716,
          17.73898280970345,
          13.629539711423183,
          10.94059805121862,
          9.370023702743937,
          7.594130813137786,
          7.496852082108521,
          6.924563278923126,
          6.4169432505794255,
          5.663352786493337,
          5.481815379238338,
          5.048134775996788,
          4.870879937750907,
          4.82937191812055,
          4.400517340531058,
          4.034462237761073,
          3.7871245330084635,
          3.654603516674074,
          3.5831513984718057,
          3.426457609776179,
          3.306902256624102,
          3.1619238249139987,
          3.0716941785897864,
          2.9714836407840455,
          2.8466316786701533,
          2.7678389866055526,
          2.642202791755151,
          2.6224986159932784,
          2.5891028704390666,
          2.4810109642926834,
          2.4281981249969005,
          2.370558190701036,
          2.301228965840636,
          2.1620223679510917,
          2.136141954591692,
          2.0823553321631207,
          2.0372233008336544,
          2.0180753960291966,
          1.9476180044290174,
          1.889636314013778,
          1.8397901521013393,
          1.777320136376748,
          1.755811104180061,
          1.7037115627772608,
          1.6901261510534713,
          1.6380216684958842,
          1.6008815245079124,
          1.578756386626533,
          1.5360481618815809,
          1.4796105822182126,
          1.4912224044769007,
          1.4235415469639994,
          1.3980384990079615,
          1.363811090839678,
          1.3445289590564526,
          1.3357873955214556,
          1.3298856373175592,
          1.3218960764956527,
          1.2753537581395704,
          1.2611496781019291,
          1.2293550509413074,
          1.214526010523925,
          1.1894360667707617,
          1.17356644155878,
          1.1641356843747401,
          1.133602711129293,
          1.1109353238839597,
          1.0817264759985217,
          1.0732029080694263,
          1.0467312381513363,
          1.0415306306644165,
          1.0241005852475333,
          1.017729129366108,
          0.9998856555015546,
          0.9972243119277074,
          0.9707662285167352,
          0.964262774994775,
          0.9406695699454797,
          0.9318091525549596,
          0.9227247753952541,
          0.9061785357199186,
          0.8782813803787616,
          0.8734107537190596,
          0.8514865106281512,
          0.8445975991641151,
          0.824634034456188,
          0.8186362556676194,
          0.8141840028260395,
          0.7941035463792403,
          0.7879713492109885,
          0.7756134651259005,
          0.7698989476063807,
          0.764911081136331,
          0.7569359428531459,
          0.7391476134224354,
          0.7350218328541409,
          0.7282640165851392,
          0.7238500638354202,
          0.708461386309572,
          0.7015559885988744,
          0.6968385500573867,
          0.6824581942123539,
          0.6805038116736553,
          0.6707398721943072,
          0.6578310961843596,
          0.6548386591922752,
          0.6492886374631839,
          0.6423042367303194,
          0.6339805671442985,
          0.6281506548948749,
          0.6153031799056493,
          0.5928116119150154,
          0.6094525252312846,
          0.600979222198084,
          0.605887455265522,
          0.5868442348511846,
          0.5787280393922971,
          0.572143110430502,
          0.5676114976063492,
          0.5695373681983154,
          0.5530017572090226,
          0.5610556166787201,
          0.5456385378510723,
          0.5409275763441443,
          0.5360267536930192,
          0.5161169348620507,
          0.5245846401069748,
          0.5284333898325368,
          0.5280673949537497,
          0.505251629506869,
          0.5021047997759124,
          0.4978049014517005,
          0.49653834299186683,
          0.48681590816541415,
          0.4688503229097042,
          0.47707182917900404,
          0.4809555393756818,
          0.48460818066853706,
          0.4625076838812958,
          0.4547609446452167,
          0.459758893813835,
          0.45237433665163634,
          0.4495233102511592,
          0.4512684623715064,
          0.43957961817090424,
          0.44323121340481253,
          0.4332457054510617,
          0.4301407099512348,
          0.4270356036425913,
          0.4229338546562279,
          0.41728544539381685,
          0.41326386803254034,
          0.4081834141317342,
          0.40476594163627033,
          0.4020069415122893,
          0.39473330620253955,
          0.3973318565295341,
          0.40017220976187884,
          0.39037125492221203,
          0.3852633777709905,
          0.38376628589825196,
          0.38072309066341653,
          0.3784955531689862,
          0.374636961868556,
          0.3738095923293424,
          0.36884100273338677,
          0.3643996735107568,
          0.3599432131347929,
          0.35799743096925185,
          0.3637986894887849,
          0.3545514492916016,
          0.3501710090359072,
          0.3474575598060224,
          0.34903239750644016,
          0.3435509043282412,
          0.33461931218328156,
          0.3376384727101214,
          0.3385534007668047,
          0.33206760705346017,
          0.32815523233605215,
          0.3262156190651647,
          0.3229420308874847,
          0.3216284119527974,
          0.31946152456617377,
          0.3166206682346672,
          0.3154598000756122,
          0.30821311120305,
          0.3111199597838203,
          0.3101495403002196,
          0.30241986802636667,
          0.3009577416272606,
          0.2987026416666318,
          0.2976441539873436,
          0.29428851833955866,
          0.29324919722842807,
          0.2905965625107881,
          0.28876671465296777,
          0.2866198943874762,
          0.28444705520098024,
          0.2832884869424055,
          0.28233302849144665,
          0.2785893783266261,
          0.28181543112513563,
          0.27703785042589313,
          0.25770731260382185,
          0.25498585453499273,
          0.2619102151525516,
          0.27388747301859845,
          0.27103539129505577,
          0.26913186373646947,
          0.26655057360368145,
          0.2639566374617441,
          0.2555566831783361,
          0.27261465407312363,
          0.2674320546047955,
          0.2608974761095096,
          0.25297735385400505,
          0.2520281842300971,
          0.24923923571423295,
          0.24419347566348126,
          0.2454340933930291,
          0.24776374488701441,
          0.2469299945541092,
          0.2416088915049006,
          0.2401583769152003,
          0.23915727563478717,
          0.23602889594574436,
          0.23548594914721213,
          0.2347654795858512,
          0.2346772006307458,
          0.23233689559990336,
          0.2279636730698907,
          0.2297869603038287,
          0.2305185879809759,
          0.22586042636401985,
          0.22596667442680504,
          0.22383975748229992,
          0.2218723350644379,
          0.21931828624787802,
          0.21867599849416547,
          0.21665145051765478,
          0.21740902062134193,
          0.21501149871464414,
          0.21386525077596238,
          0.213172579076467,
          0.21241911149033468,
          0.2108893875661249,
          0.20954849501420897,
          0.20690230371651952,
          0.2059140216903362,
          0.20419044122225144,
          0.20320096103239868,
          0.20561355006284038,
          0.20174699451823838,
          0.19820642440417172,
          0.1992765785972809,
          0.19885901700782874,
          0.1966225184885222,
          0.194785237048108,
          0.19364079377126026,
          0.19256497211072587,
          0.1915952791428176,
          0.17644362557628335,
          0.19322785770604683,
          0.19068644137994337,
          0.18315250179491271,
          0.18712730244549736,
          0.18867792596684027,
          0.18817105168396742,
          0.18039894159795075,
          0.1848212387967878,
          0.18393604438242184,
          0.18017019989482191,
          0.17800216497875385,
          0.17843504888085007,
          0.17944220136891173,
          0.17821316260437786,
          0.18418447396715246,
          0.17220092520293606,
          0.1744088937529229,
          0.17596894780469022,
          0.17051009028914266,
          0.16889230455746515,
          0.16826559495221294,
          0.16778548263681478,
          0.16769499218153866,
          0.16609871668110357,
          0.16510075216186879,
          0.16342263706408244,
          0.16418502958362596,
          0.16249928314216985,
          0.16218198203575665,
          0.1611284752519681,
          0.1604097592515796,
          0.1585508819002745,
          0.15908124904044543,
          0.15581328633232677,
          0.157603969015558,
          0.15746821544714446,
          0.1540963535261707,
          0.1543258395301291,
          0.1531185079495901,
          0.1521729499344549,
          0.15072438279740202,
          0.15007010240293056,
          0.14881477801466747,
          0.14677242515597883,
          0.14760613545440165,
          0.14811795268060335,
          0.14557332827400016,
          0.14512866821278628,
          0.13370390914458505,
          0.1339938190508256,
          0.15040547266327767,
          0.13503684025042897,
          0.14393092952621708,
          0.13949910046049402,
          0.14112936420890368,
          0.14261055121807648,
          0.14351887442538572,
          0.14240647485504668,
          0.1385730563255702,
          0.13762126201813976,
          0.13778767829908278,
          0.135834125847942,
          0.13646820545744268,
          0.13616857887765313,
          0.14077075032983447,
          0.004581895349653392,
          0.005190229097982779,
          0.13270313955917495,
          0.13145590940957783,
          0.13162692287388092,
          0.13234597366566614,
          0.13219527938933323,
          0.1303464186334009,
          0.12957763565317357,
          0.12780112605142516,
          0.12907962704686957,
          0.12879742258205013,
          0.12677646440011087,
          0.12556422907144102,
          0.12477878144133495,
          0.12449147990333066,
          0.12393214101448087,
          0.12263961992622929,
          0.11878780061961554,
          0.1201672561707256,
          0.12175224737216321,
          0.12206967164744985,
          0.12099284305141908,
          0.12093524299705243,
          0.11744370662549401,
          0.11796553212973919,
          0.11658279576919688,
          0.11645720822317479,
          0.11580669026703969,
          0.11550331382127849,
          0.11424993426458344,
          0.11323628754138997,
          0.11312363471592977,
          0.11232279771478651,
          0.11207734959006582,
          0.11157271319734158,
          0.11107060712879978,
          0.10964869616317705,
          0.10932934313347854,
          0.10843023055936991,
          0.11046620116989177,
          0.10769484555248117,
          0.10705970662503525,
          0.10808797593554323,
          0.1065979900680238,
          0.1078893715440634,
          0.10621227231599817,
          0.10572346011615306,
          0.10467971099626444,
          0.10374990444382855,
          0.00622139649154979,
          0.10447836202355269,
          0.1024839840441797,
          0.10405873607521977,
          0.1031327081005135,
          0.1019626570708948,
          0.10165873197804262,
          0.10123131894996683,
          0.1006447081709557,
          0.09960863817755083,
          0.09990806606415206,
          0.09875620635708052,
          0.09696453293568597,
          0.09818293885052987,
          0.09790301963984901,
          0.0990973449163345,
          0.09658700840173116,
          0.09591597858127555,
          0.09526285625641812,
          0.09492438177583351,
          0.09447864314476156,
          0.09310130388178187,
          0.09378974109598215,
          0.09398739871024578,
          0.09263319629479246,
          0.09177433760958977,
          0.09140589277414682,
          0.09231348109923097,
          0.09106187902361489,
          0.07472256835455676,
          0.07524594582579724,
          0.09042528738425108,
          0.0757693039402325,
          0.07589014572207581,
          0.08982163287086202,
          0.0761962981841778,
          0.08926091507966893,
          0.0893231526640263,
          0.08822794216801759,
          0.0767250049141089,
          0.0769130277087757,
          0.08963116377724893,
          0.08736098700085015,
          0.08788804372231081,
          0.07731575219679525,
          0.08674111826181385,
          0.07764310287383586,
          0.08655173432447734,
          0.07796809727767798,
          0.08623315928460501,
          0.08580500305461441,
          0.07854493355811513,
          0.07883209973601138,
          0.07915830718897521,
          0.07957025381517986,
          0.08543226684248446,
          0.08474077825397335,
          0.08484506980751043,
          0.08019680612584038,
          0.0807718168617947,
          0.08235945683486895,
          0.08194990000466836,
          0.0811032590212763,
          0.08037298909881202,
          0.08270027414829008,
          0.08369509048516857,
          0.08348103032953691,
          0.08406638756597873,
          0.08154046775519255,
          0.08335280828861738,
          0.004104908927237985,
          0.005778562172195788,
          0.07109469395177648,
          0.07143819764535717,
          0.07167972379717001,
          0.07201235011071377,
          0.07229762568973921,
          0.07265967473752241,
          0.0732921058145018,
          0.07346788929556416,
          0.07412849635325407,
          0.07437566464989155,
          0.07391974397258304,
          0.006061495061449524,
          0.00656391619334238,
          0.007641074170940187,
          0.007059653276499861,
          0.006809725020574936,
          0.0068689320735479415,
          0.06777945513000815,
          0.06799586501409499,
          0.06834410503283568,
          0.0687506599920783,
          0.06905659261828213,
          0.07015752856461699,
          0.07037915796344837,
          0.07044489637437315,
          0.07063212243972451,
          0.007135104982870564,
          0.00788998716338684,
          0.0076072861937497745,
          0.008746892497370358,
          0.008364028824894247,
          0.06494103300401845,
          0.06509727894821979,
          0.065279274591401,
          0.0660919680200256,
          0.06582877028800649,
          0.06709559089531938,
          0.06554757591257088,
          0.06690907446272082,
          0.06684674053445046,
          0.008209015902794983,
          0.010541582521237049,
          0.008541543083510243,
          0.010189341093974461,
          0.00997012778504005,
          0.009033747424542079,
          0.009361364311827316,
          0.009138517026372143,
          0.06300198533986914,
          0.06313296957436518,
          0.06354326238596826,
          0.0640140400026625,
          0.0642537629282255,
          0.06338379007345894,
          0.06456889172510223,
          0.00959057853696182,
          0.00978998930292133,
          0.009897154172389533,
          0.010118140988969022,
          0.01068279406323737,
          0.06114628622137834,
          0.06185042089043573,
          0.06232313805890345,
          0.059259557621757684,
          0.060457088383856446,
          0.0590418724998573,
          0.05979805715753534,
          0.06261004411070116,
          0.06207465773788576,
          0.060805858119501656,
          0.05968214817016985,
          0.060242147245978275,
          0.059650734740799426,
          0.010900824422544187,
          0.011071092253307714,
          0.011368827033924103,
          0.011455285402883415,
          0.011285971589440523,
          0.011540515649522923,
          0.011702566551007484,
          0.05879331700421622,
          0.011960728400691489,
          0.012064050167849111,
          0.058341832979938384,
          0.05825506399324886,
          0.05795241076352755,
          0.05778433648929185,
          0.05755295341562868,
          0.0572691433136106,
          0.012562583847137498,
          0.012318663064066229,
          0.056891258023196764,
          0.013155298664723194,
          0.012646142066778854,
          0.012952699776219437,
          0.01219701077241874,
          0.01240403866280762,
          0.012901105004129733,
          0.056487394800436797,
          0.055983566864998335,
          0.05619783862096774,
          0.05557826196332801,
          0.055304907760538216,
          0.05497026492975514,
          0.054828962380662434,
          0.013385868556038266,
          0.013419596393276266,
          0.013630152845506383,
          0.013691903191465724,
          0.013829881123511056,
          0.0139706379575171,
          0.01431619110875545,
          0.014077320152361305,
          0.014550470107872408,
          0.014651797356233578,
          0.0148301961323902,
          0.015908570310654378,
          0.015712038887108176,
          0.015413843810548965,
          0.015037739961723579,
          0.015562570755286512,
          0.015604914572146073,
          0.015282055430762905,
          0.05435603703395576,
          0.05414908203116013,
          0.05376197447261733,
          0.053437912089901216,
          0.05311418691834767,
          0.05292407875822347,
          0.05257260992538408,
          0.05321791655580128,
          0.05186931003883061,
          0.052035054450536744,
          0.05213830139458702,
          0.0523306271297354,
          0.0514782978101831,
          0.05113034512314708,
          0.05128566550050361,
          0.05061279676113024,
          0.050407325035535765,
          0.04562812144494347,
          0.050097500852412664,
          0.04593709262900212,
          0.046143276832031545,
          0.04992475948024261,
          0.04969296296656304,
          0.04631656578781472,
          0.04715777147191791,
          0.046817256615635655,
          0.046738001626870924,
          0.049241380903697875,
          0.04866063872264807,
          0.04939805578837079,
          0.04912697811006172,
          0.048229799753357186,
          0.04894861902010137,
          0.047494946195129666,
          0.047583762757976794,
          0.048082168399045194,
          0.04791362262688692,
          0.0476948647990189,
          0.016109362807119363,
          0.01621172245600768,
          0.01643157127731504,
          0.016651359862003577,
          0.016450723080383683,
          0.04504315058340783,
          0.045193913785696746,
          0.04460683432144762,
          0.04510147729253831,
          0.04420262794396599,
          0.04447571742763607,
          0.04547978262819332,
          0.01676598074534561,
          0.016891359906640764,
          0.017038338986234282,
          0.017219356349630226,
          0.01733992241150055,
          0.017399788260650664,
          0.017624773171592938,
          0.017651149202760123,
          0.017968168067016264,
          0.01808025836817028,
          0.018235433237932152,
          0.018473298123715592,
          0.04387893478800804,
          0.043716478145237755,
          0.043511860034004965,
          0.04279295432903705,
          0.04067092301073449,
          0.04122403814572456,
          0.042528845109961154,
          0.042263885352085646,
          0.041474209972519806,
          0.04325940480484465,
          0.04057091679780425,
          0.04203378410571169,
          0.04182675525308429,
          0.04311434541012858,
          0.043035079791291175,
          0.04172456055847305,
          0.018309075074763925,
          0.01871288153374972,
          0.01901376368686658,
          0.04087403661155634,
          0.04024594564442711,
          0.03999865995100563,
          0.018897631388517043,
          0.01914113542702808,
          0.03973180689990084,
          0.03957963854659475,
          0.0194392496784635,
          0.039884795899175436,
          0.039404288067944486,
          0.019657721526937583,
          0.019261552688468905,
          0.03914771104499302,
          0.019829526723706237,
          0.038811592145155845,
          0.039066654201269965,
          0.03833279072609993,
          0.019237558323043146,
          0.020165312456287346,
          0.03799082361978698,
          0.03810586132365014,
          0.037493627256941386,
          0.03742200524208505,
          0.03722811062374975,
          0.020261504174818777,
          0.02040920508693591,
          0.03705542284763234,
          0.02084187423252604,
          0.020628645949631746,
          0.03675352707446878,
          0.036676393413412334,
          0.020985978777862135,
          0.03649065393736579,
          0.021159138394450317,
          0.021421053788615967,
          0.03562726773339563,
          0.03578508687203501,
          0.036233067889707565,
          0.03617904150443879,
          0.02153591277542554,
          0.03599261282794964,
          0.035423803718698625,
          0.0350090244375398,
          0.03472953981899275,
          0.034531970084011016,
          0.0205861933194818,
          0.03529553514708282,
          0.03428262501780435,
          0.021078254843523474,
          0.03409789568617423,
          0.033468780279974686,
          0.03397038353100336,
          0.03370531988508457,
          0.033665810397087034,
          0.02218787509617445,
          0.022087194626799686,
          0.022478470511264607,
          0.03281030271849159,
          0.02199193921643703,
          0.03321543301523861,
          0.02189056059475029,
          0.021880536614825235,
          0.022653173023690288,
          0.03325786182307135,
          0.03305169976891446,
          0.03254797933334284,
          0.023085331228499085,
          0.023256881647386454,
          0.03239946339815009,
          0.0322310108553172,
          0.02264413389980645,
          0.02305401327751426,
          0.02398050678481341,
          0.02391765612280003,
          0.023666887135307995,
          0.03197128789094937,
          0.024283014364325964,
          0.023551137699746417,
          0.023461647679256514,
          0.031205663462802763,
          0.03156606038651309,
          0.031730600149589484,
          0.03180056136195313,
          0.030744005113284012,
          0.030155442465132257,
          0.024647815831488173,
          0.02500165790711374,
          0.02448804528588889,
          0.02452238429074427,
          0.03004728905236745,
          0.025179443675054612,
          0.025294174282277815,
          0.029743846403957948,
          0.026720029651515195,
          0.03044744816492972,
          0.029053450556438317,
          0.029452684686526516,
          0.030378500069963447,
          0.02553074937152325,
          0.02931913081818223,
          0.026410229023339196,
          0.02625943842959259,
          0.026941367340715575,
          0.027693706059537374,
          0.02785862283930396,
          0.027477448151875642,
          0.028642446234496407,
          0.028170200664508573,
          0.030531934057291564,
          0.025893068147320026,
          0.025811525658061118,
          0.02689716756033345,
          0.028788022073424548,
          0.02832410592968495,
          0.02843188810040342,
          0.024944221804669656,
          0.025745530151493685,
          0.029560994102512745,
          0.027405781313120683,
          0.028055104449670222,
          0.02711772200134375,
          0.02598434160357663,
          0.03439309649442047,
          0.031309516649163156
         ],
         "yaxis": "y"
        },
        {
         "mode": "lines+markers",
         "name": "Cumulative Sum",
         "type": "scatter",
         "x": [
          1,
          2,
          3,
          4,
          5,
          6,
          7,
          8,
          9,
          10,
          11,
          12,
          13,
          14,
          15,
          16,
          17,
          18,
          19,
          20,
          21,
          22,
          23,
          24,
          25,
          26,
          27,
          28,
          29,
          30,
          31,
          32,
          33,
          34,
          35,
          36,
          37,
          38,
          39,
          40,
          41,
          42,
          43,
          44,
          45,
          46,
          47,
          48,
          49,
          50,
          51,
          52,
          53,
          54,
          55,
          56,
          57,
          58,
          59,
          60,
          61,
          62,
          63,
          64,
          65,
          66,
          67,
          68,
          69,
          70,
          71,
          72,
          73,
          74,
          75,
          76,
          77,
          78,
          79,
          80,
          81,
          82,
          83,
          84,
          85,
          86,
          87,
          88,
          89,
          90,
          91,
          92,
          93,
          94,
          95,
          96,
          97,
          98,
          99,
          100,
          101,
          102,
          103,
          104,
          105,
          106,
          107,
          108,
          109,
          110,
          111,
          112,
          113,
          114,
          115,
          116,
          117,
          118,
          119,
          120,
          121,
          122,
          123,
          124,
          125,
          126,
          127,
          128,
          129,
          130,
          131,
          132,
          133,
          134,
          135,
          136,
          137,
          138,
          139,
          140,
          141,
          142,
          143,
          144,
          145,
          146,
          147,
          148,
          149,
          150,
          151,
          152,
          153,
          154,
          155,
          156,
          157,
          158,
          159,
          160,
          161,
          162,
          163,
          164,
          165,
          166,
          167,
          168,
          169,
          170,
          171,
          172,
          173,
          174,
          175,
          176,
          177,
          178,
          179,
          180,
          181,
          182,
          183,
          184,
          185,
          186,
          187,
          188,
          189,
          190,
          191,
          192,
          193,
          194,
          195,
          196,
          197,
          198,
          199,
          200,
          201,
          202,
          203,
          204,
          205,
          206,
          207,
          208,
          209,
          210,
          211,
          212,
          213,
          214,
          215,
          216,
          217,
          218,
          219,
          220,
          221,
          222,
          223,
          224,
          225,
          226,
          227,
          228,
          229,
          230,
          231,
          232,
          233,
          234,
          235,
          236,
          237,
          238,
          239,
          240,
          241,
          242,
          243,
          244,
          245,
          246,
          247,
          248,
          249,
          250,
          251,
          252,
          253,
          254,
          255,
          256,
          257,
          258,
          259,
          260,
          261,
          262,
          263,
          264,
          265,
          266,
          267,
          268,
          269,
          270,
          271,
          272,
          273,
          274,
          275,
          276,
          277,
          278,
          279,
          280,
          281,
          282,
          283,
          284,
          285,
          286,
          287,
          288,
          289,
          290,
          291,
          292,
          293,
          294,
          295,
          296,
          297,
          298,
          299,
          300,
          301,
          302,
          303,
          304,
          305,
          306,
          307,
          308,
          309,
          310,
          311,
          312,
          313,
          314,
          315,
          316,
          317,
          318,
          319,
          320,
          321,
          322,
          323,
          324,
          325,
          326,
          327,
          328,
          329,
          330,
          331,
          332,
          333,
          334,
          335,
          336,
          337,
          338,
          339,
          340,
          341,
          342,
          343,
          344,
          345,
          346,
          347,
          348,
          349,
          350,
          351,
          352,
          353,
          354,
          355,
          356,
          357,
          358,
          359,
          360,
          361,
          362,
          363,
          364,
          365,
          366,
          367,
          368,
          369,
          370,
          371,
          372,
          373,
          374,
          375,
          376,
          377,
          378,
          379,
          380,
          381,
          382,
          383,
          384,
          385,
          386,
          387,
          388,
          389,
          390,
          391,
          392,
          393,
          394,
          395,
          396,
          397,
          398,
          399,
          400,
          401,
          402,
          403,
          404,
          405,
          406,
          407,
          408,
          409,
          410,
          411,
          412,
          413,
          414,
          415,
          416,
          417,
          418,
          419,
          420,
          421,
          422,
          423,
          424,
          425,
          426,
          427,
          428,
          429,
          430,
          431,
          432,
          433,
          434,
          435,
          436,
          437,
          438,
          439,
          440,
          441,
          442,
          443,
          444,
          445,
          446,
          447,
          448,
          449,
          450,
          451,
          452,
          453,
          454,
          455,
          456,
          457,
          458,
          459,
          460,
          461,
          462,
          463,
          464,
          465,
          466,
          467,
          468,
          469,
          470,
          471,
          472,
          473,
          474,
          475,
          476,
          477,
          478,
          479,
          480,
          481,
          482,
          483,
          484,
          485,
          486,
          487,
          488,
          489,
          490,
          491,
          492,
          493,
          494,
          495,
          496,
          497,
          498,
          499,
          500,
          501,
          502,
          503,
          504,
          505,
          506,
          507,
          508,
          509,
          510,
          511,
          512,
          513,
          514,
          515,
          516,
          517,
          518,
          519,
          520,
          521,
          522,
          523,
          524,
          525,
          526,
          527,
          528,
          529,
          530,
          531,
          532,
          533,
          534,
          535,
          536,
          537,
          538,
          539,
          540,
          541,
          542,
          543,
          544,
          545,
          546,
          547,
          548,
          549,
          550,
          551,
          552,
          553,
          554,
          555,
          556,
          557,
          558,
          559,
          560,
          561,
          562,
          563,
          564,
          565,
          566,
          567,
          568,
          569,
          570,
          571,
          572,
          573,
          574,
          575,
          576,
          577,
          578,
          579,
          580,
          581,
          582,
          583,
          584,
          585,
          586,
          587,
          588,
          589,
          590,
          591,
          592,
          593,
          594,
          595,
          596,
          597,
          598,
          599,
          600,
          601,
          602,
          603,
          604,
          605,
          606,
          607,
          608,
          609,
          610,
          611,
          612,
          613,
          614,
          615,
          616,
          617,
          618,
          619,
          620,
          621,
          622,
          623,
          624,
          625,
          626,
          627,
          628,
          629,
          630,
          631,
          632,
          633,
          634,
          635,
          636,
          637,
          638,
          639,
          640,
          641,
          642,
          643,
          644,
          645,
          646,
          647,
          648,
          649,
          650,
          651,
          652,
          653,
          654,
          655,
          656,
          657,
          658,
          659,
          660,
          661,
          662,
          663,
          664,
          665,
          666,
          667,
          668,
          669,
          670,
          671,
          672,
          673,
          674,
          675,
          676,
          677,
          678,
          679,
          680,
          681,
          682,
          683,
          684,
          685,
          686,
          687,
          688,
          689,
          690,
          691,
          692,
          693,
          694,
          695,
          696,
          697,
          698,
          699,
          700,
          701,
          702,
          703,
          704,
          705,
          706,
          707,
          708,
          709,
          710,
          711,
          712,
          713,
          714,
          715,
          716,
          717,
          718,
          719,
          720,
          721,
          722,
          723,
          724,
          725,
          726,
          727,
          728,
          729,
          730,
          731,
          732,
          733,
          734,
          735,
          736,
          737,
          738,
          739,
          740,
          741,
          742,
          743,
          744,
          745,
          746,
          747,
          748,
          749,
          750,
          751,
          752,
          753,
          754,
          755,
          756,
          757,
          758,
          759,
          760,
          761,
          762,
          763,
          764,
          765,
          766,
          767,
          768,
          769,
          770,
          771,
          772,
          773,
          774,
          775,
          776,
          777,
          778,
          779,
          780,
          781,
          782,
          783,
          784
         ],
         "xaxis": "x2",
         "y": [
          0.2203887001697357,
          0.364823254986379,
          0.4197137175633882,
          0.4701663657885633,
          0.5100579375065418,
          0.5401697397579375,
          0.5681622920799363,
          0.5907862830383833,
          0.6081691615555416,
          0.6221226105241813,
          0.6340729762134334,
          0.643758398917587,
          0.6533197540156741,
          0.6621512219016374,
          0.6703352800091047,
          0.6775582219111642,
          0.684549634153129,
          0.6909879376767504,
          0.6972001734545018,
          0.7033594706240538,
          0.7089718141046623,
          0.7141172972571332,
          0.7189473301915148,
          0.7236083481204975,
          0.7281782372574005,
          0.7325482818543586,
          0.736765847627826,
          0.7407985104244224,
          0.744716095895305,
          0.7485058745846161,
          0.7521364192472466,
          0.7556664730772299,
          0.7590362926837043,
          0.7623809819262192,
          0.7656830788141682,
          0.7688473171600818,
          0.7719441989268987,
          0.774967567721391,
          0.7779025152251461,
          0.7806599210487613,
          0.7833843194421238,
          0.7860401193102742,
          0.7886383585685696,
          0.7912121769212349,
          0.7936961351388734,
          0.7961061445143611,
          0.798452580959624,
          0.8007193442304953,
          0.8029586752548188,
          0.8051315594278048,
          0.8072871170023436,
          0.8093762214236816,
          0.8114179579496452,
          0.8134314764585583,
          0.8153905256384887,
          0.8172924048250148,
          0.8191794744948617,
          0.8209950346897715,
          0.822778068739718,
          0.8245174497470275,
          0.8262322386579465,
          0.8279358787303723,
          0.8296319918027624,
          0.8313179151278746,
          0.8329444791875222,
          0.8345529276098872,
          0.836120825716311,
          0.8376698111218248,
          0.8391867972483096,
          0.8406835435300885,
          0.8421682619877495,
          0.843614039220987,
          0.8450309068617415,
          0.8464105220445871,
          0.8477792664167537,
          0.8491142492803092,
          0.8504425993792906,
          0.8517487195007051,
          0.8530467135778137,
          0.8543219503978852,
          0.8555937929865287,
          0.8568318913945566,
          0.8580616954107776,
          0.8592614090625487,
          0.860449822291681,
          0.8616266494637699,
          0.8627823738488035,
          0.8639025186858452,
          0.8650164516101356,
          0.8661024227351064,
          0.8671796078618975,
          0.8682313318045668,
          0.8692754062842123,
          0.8703138024378165,
          0.8713265883256031,
          0.8723315533154959,
          0.8733207572743982,
          0.8743026730367854,
          0.8752782273608011,
          0.8762436103317945,
          0.8771863063760051,
          0.8781237404712485,
          0.8790525557648499,
          0.8799757415796828,
          0.8808793009421457,
          0.8817740532801559,
          0.8826627890788834,
          0.8835331844212213,
          0.884401087177972,
          0.8852565371756851,
          0.8860955235444029,
          0.8869306934108906,
          0.8877587848759408,
          0.8885779685574544,
          0.8893865363751682,
          0.8901876688239302,
          0.8909724158259552,
          0.8917497010044996,
          0.8925224393546526,
          0.8932889178294943,
          0.8940449794758639,
          0.8947934304330422,
          0.8955315301353233,
          0.8962612315334348,
          0.8969876096131051,
          0.8977115314708303,
          0.8984270920717449,
          0.8991323809200016,
          0.8998282788460186,
          0.9005181684934503,
          0.9012018077166871,
          0.9018757624953779,
          0.9025492504905491,
          0.9032182966406039,
          0.9038765432262781,
          0.9045209323899821,
          0.9051613081416351,
          0.9057961998775554,
          0.906429476266787,
          0.9070503528312954,
          0.9076684136984516,
          0.908281816050265,
          0.9088902651854641,
          0.9094882287541853,
          0.910078103031115,
          0.9106644715488758,
          0.911244465768966,
          0.9118214161506216,
          0.9123969561194039,
          0.9129702703514448,
          0.9135355597523166,
          0.914096191971971,
          0.9146487460292165,
          0.9151973400290637,
          0.915741973830189,
          0.9162813763318098,
          0.9168135749502401,
          0.9173406445186657,
          0.9178612345643167,
          0.9183774660248296,
          0.9188901787044446,
          0.919400551399012,
          0.9199073015563384,
          0.9204107375676546,
          0.920908610294436,
          0.921399968523305,
          0.9218894173871693,
          0.9223749850126213,
          0.9228577116753938,
          0.9233355171577565,
          0.9238122674273612,
          0.9242826808439851,
          0.9247474298663619,
          0.9252114124041423,
          0.9256704777342615,
          0.9261270614475602,
          0.9265792502156044,
          0.9270258522461338,
          0.9274710021112699,
          0.9279141434557214,
          0.9283523023195451,
          0.928784087454018,
          0.9292147057051185,
          0.9296414733712564,
          0.9300649866369359,
          0.9304835101277686,
          0.930899559869482,
          0.9313114345336203,
          0.9317216338309565,
          0.9321290695177087,
          0.9325328820255758,
          0.9329352139823304,
          0.9333320109820598,
          0.9337275703256136,
          0.934120659981088,
          0.9345063610347099,
          0.9348901973176857,
          0.9352711574852909,
          0.9356507676760715,
          0.9360260981473568,
          0.9364001030865261,
          0.9367707249013916,
          0.9371390129600414,
          0.9375045630013654,
          0.9378673418412831,
          0.9382286430633414,
          0.9385887257102656,
          0.9389481482224876,
          0.9393034562829325,
          0.9396567855516071,
          0.9400060968835858,
          0.9403537848843609,
          0.9406994587207843,
          0.9410427048311798,
          0.9413837830344953,
          0.941723737012233,
          0.9420603827288121,
          0.9423944184738772,
          0.9427271625891347,
          0.9430558380251967,
          0.9433817705857962,
          0.9437069751214461,
          0.9440296180501688,
          0.9443510504244184,
          0.9446689258221105,
          0.9449849194043969,
          0.9452998496359717,
          0.945612872021155,
          0.9459243121440069,
          0.9462324559330576,
          0.9465387497609626,
          0.9468437668016606,
          0.947144793961171,
          0.947445128655753,
          0.9477445444759545,
          0.9480438477067079,
          0.9483401661530221,
          0.9486341655613412,
          0.9489272318644123,
          0.9492179727785738,
          0.9495061667553076,
          0.9497942252251054,
          0.9500797065688638,
          0.9503626786961992,
          0.9506423934339788,
          0.9509212890090991,
          0.9511985687026187,
          0.9514748822043694,
          0.9517491041400388,
          0.952021864170971,
          0.9522937407804335,
          0.952564656430407,
          0.9528336210970235,
          0.9531008756125398,
          0.9533647552215783,
          0.9536273743928642,
          0.9538896103478487,
          0.9541500312945045,
          0.9544091902752906,
          0.9546664948924064,
          0.9549206487839108,
          0.9551742701246074,
          0.9554270591600178,
          0.9556778281092992,
          0.9559262538217028,
          0.9561732199310037,
          0.9564196593888101,
          0.9566652534138274,
          0.9569096107092545,
          0.9571528088887644,
          0.9573934454425581,
          0.9576334355376841,
          0.9578720944531373,
          0.958107812255016,
          0.9583427179380769,
          0.958577306778355,
          0.958810896302009,
          0.9590409739827537,
          0.9592707599302981,
          0.9594996174011511,
          0.9597271903671919,
          0.9599544803433246,
          0.9601815012167458,
          0.9604065343560491,
          0.9606309620995566,
          0.9608534001771887,
          0.9610730222500335,
          0.9612904878613602,
          0.9615058901768283,
          0.9617204931977373,
          0.9619344838917279,
          0.9621483591757615,
          0.9623601985977123,
          0.9625707652330269,
          0.9627801639716501,
          0.9629885903680792,
          0.9631958391349336,
          0.963402683221461,
          0.9636081836837116,
          0.9638127675080428,
          0.9640156569734963,
          0.9642178700178995,
          0.9644188753860355,
          0.9646197076164253,
          0.96481842917893,
          0.9650152536775859,
          0.9652117854937732,
          0.9654070701826747,
          0.9656011489232862,
          0.9657933801864994,
          0.9659852047172596,
          0.9661766015226074,
          0.9663663973090065,
          0.9665553043764623,
          0.9667435586811063,
          0.9669307496860979,
          0.967116411383727,
          0.9673015059696274,
          0.9674850729803841,
          0.9676681144632131,
          0.9678499974863801,
          0.9680316202340938,
          0.9682116141770434,
          0.9683911507500724,
          0.9685690654829174,
          0.9687457991551367,
          0.9689215311698449,
          0.9690970509401152,
          0.9692711001220501,
          0.9694447671654427,
          0.9696180076532429,
          0.9697902312968225,
          0.9699611246892573,
          0.9701316483356268,
          0.9703008956178274,
          0.9704696873768431,
          0.9706382869429929,
          0.9708061616371021,
          0.9709738182236055,
          0.9711400597848192,
          0.9713053208535559,
          0.9714699467707552,
          0.9716342127692753,
          0.971797208108483,
          0.9719588966119953,
          0.972119039051598,
          0.9722781797449184,
          0.972436954018841,
          0.9725950149216476,
          0.9727514273654795,
          0.9729071129071635,
          0.9730623936114331,
          0.9732167057846054,
          0.9733709444956676,
          0.9735242037296538,
          0.9736757036299594,
          0.9738261548232968,
          0.9739759404894381,
          0.9741246281648076,
          0.9742731556679994,
          0.9744208535118745,
          0.9745681644346932,
          0.9747138768189676,
          0.9748582964157949,
          0.9750025723371628,
          0.9751458268849116,
          0.9752887683923799,
          0.9754310662953467,
          0.9755727238209437,
          0.9757136104976654,
          0.9758534545426827,
          0.9759928912903857,
          0.9761311813255086,
          0.9762690348550213,
          0.9764066350879382,
          0.97654398722578,
          0.9766805293184514,
          0.9768164825458353,
          0.9769519438354893,
          0.977086781702543,
          0.9772202883900751,
          0.9773535382806202,
          0.97748625298751,
          0.9776185738158945,
          0.977750107482769,
          0.9778808137782355,
          0.9780108551823238,
          0.9781405089656208,
          0.9782696176337561,
          0.9783979781486797,
          0.9785253991630388,
          0.9786524382922656,
          0.9787788253269363,
          0.9789047772794063,
          0.9790299980964429,
          0.9791548619093738,
          0.9792785287926422,
          0.9794017141876689,
          0.9795240437629028,
          0.9796455403572533,
          0.9797666052671227,
          0.9798871016896743,
          0.9800069715875956,
          0.9801265893964246,
          0.9802453291843728,
          0.9803634719560248,
          0.9804812069684624,
          0.9805982543666458,
          0.9807148318566775,
          0.9808309705975394,
          0.9809462974404674,
          0.9810608543929005,
          0.9811751684243557,
          0.9812890896237801,
          0.9814029314464692,
          0.9815154558334256,
          0.9816275467198005,
          0.9817389654071756,
          0.9818495935247139,
          0.9819599801052638,
          0.982069960380734,
          0.9821793945931757,
          0.9822883534243183,
          0.9823965633545486,
          0.9825046402731407,
          0.9826118570855479,
          0.982718600352099,
          0.982825070610041,
          0.9829313773358163,
          0.9830368518308684,
          0.9831418916534311,
          0.9832464091343172,
          0.9833504044324146,
          0.9834538421220771,
          0.9835568570961588,
          0.9836593634122301,
          0.983761645027594,
          0.9838631275490095,
          0.9839640846808441,
          0.9840646257733517,
          0.9841648006190976,
          0.9842642397778577,
          0.9843632644443928,
          0.984461871613553,
          0.9845599651548872,
          0.9846578188952106,
          0.9847549983321422,
          0.9848517873075344,
          0.9849484221634143,
          0.9850443895374337,
          0.9851396894049053,
          0.9852345468374096,
          0.9853290890357561,
          0.9854233649949374,
          0.985517064666502,
          0.9856105401468641,
          0.9857032090356014,
          0.9857954161732636,
          0.985887259475401,
          0.9859786785517082,
          0.986069789589751,
          0.9861604625291418,
          0.9862505455128503,
          0.9863403897116829,
          0.9864301500688866,
          0.9865196277637995,
          0.9866077013441044,
          0.9866953847432448,
          0.9867825496292427,
          0.9868692703759616,
          0.9869557151172683,
          0.9870412876699931,
          0.9871266223428953,
          0.9872118775161866,
          0.987296170065706,
          0.9873801269374037,
          0.9874637251786729,
          0.9875469812330911,
          0.9876300051734231,
          0.9877128298403883,
          0.9877951798848219,
          0.9878771280194545,
          0.9879587704156263,
          0.9880398123901922,
          0.9881206509765372,
          0.9882011696707687,
          0.9882815213099796,
          0.9883613730741457,
          0.9884408589233104,
          0.9885200278649839,
          0.9885989108188722,
          0.9886768957316181,
          0.9887544464682683,
          0.9888315523900476,
          0.9889083841796283,
          0.9889846495844138,
          0.9890607671608874,
          0.9891368446732182,
          0.989212423285037,
          0.9892877242650275,
          0.9893627082416506,
          0.9894371164033811,
          0.989511413901451,
          0.9895853254008419,
          0.989659022541219,
          0.9897324245796377,
          0.9898054646515756,
          0.9898780227751692,
          0.9899500658186143,
          0.990021739567131,
          0.9900931400371671,
          0.9901640235883624,
          0.9902345585083494,
          0.990304666630675,
          0.9903745945381806,
          0.9904439192849028,
          0.9905129800848046,
          0.9905815471744412,
          0.9906497009605365,
          0.9907175741681439,
          0.990785315080771,
          0.9908528135327485,
          0.9909198637274734,
          0.9909866053015385,
          0.9910531015866972,
          0.9911194661924946,
          0.9911856194107443,
          0.9912512739387805,
          0.9913166827869105,
          0.9913818935421257,
          0.9914464442251377,
          0.9915107328530752,
          0.9915746263366241,
          0.9916382995088234,
          0.9917016770517701,
          0.9917646784752175,
          0.9918274800782348,
          0.9918901357739137,
          0.9919525639935033,
          0.9920146249280171,
          0.9920761363779831,
          0.9921374595414808,
          0.9921985677446244,
          0.9922593969478292,
          0.992320084453418,
          0.9923806586839033,
          0.9924408028875956,
          0.9925005128045471,
          0.9925601216410608,
          0.992619192985616,
          0.992678043320443,
          0.9927366306915141,
          0.9927948240060968,
          0.9928528281319258,
          0.992910467665592,
          0.9929679893073583,
          0.9930254365602516,
          0.9930823273429531,
          0.9931390509014427,
          0.9931954261663422,
          0.9932513885986056,
          0.993307143836485,
          0.9933626381079748,
          0.9934178104024446,
          0.9934727976906788,
          0.9935276838849176,
          0.9935822612765421,
          0.9936365018278501,
          0.9936904044540792,
          0.9937440136131701,
          0.9937973587312537,
          0.9938505735119966,
          0.993903468999945,
          0.9939560454230851,
          0.9940081754603401,
          0.994060046450032,
          0.9941117898935347,
          0.9941631188744656,
          0.9942141324715128,
          0.9942650008483235,
          0.9943156741056184,
          0.9943661532900352,
          0.9944164088354933,
          0.9944663371470671,
          0.9945161620801486,
          0.9945656617115082,
          0.9946145506878437,
          0.9946631502423557,
          0.9947116030797759,
          0.9947594218015797,
          0.9948071491779082,
          0.994854629264404,
          0.9949018891079058,
          0.9949487639187754,
          0.9949955403547117,
          0.9950420799017423,
          0.995088290927996,
          0.9951344330499351,
          0.9951803374039742,
          0.9952259770830091,
          0.9952714154822522,
          0.9953165943870205,
          0.9953616097002775,
          0.9954062596027458,
          0.9954505530553797,
          0.9954945945310009,
          0.9955384588896549,
          0.9955821823549039,
          0.9956256702195679,
          0.9956689954574413,
          0.9957119826377385,
          0.9957549194283202,
          0.9957976049301084,
          0.9958400214301555,
          0.995882383817237,
          0.9959245373817766,
          0.9959663830727054,
          0.9960078942009393,
          0.9960492159145258,
          0.9960903227866613,
          0.9961310984126335,
          0.9961716562969521,
          0.9962121249539542,
          0.9962523837597966,
          0.9962923153742067,
          0.9963321145360644,
          0.9963713249068715,
          0.9964102648059326,
          0.9964490969531522,
          0.9964878411651674,
          0.9965263008933828,
          0.9965646226846117,
          0.9966025574703505,
          0.9966402590494361,
          0.9966778224925714,
          0.9967152156034198,
          0.9967522698702711,
          0.9967889856142395,
          0.9968255156933081,
          0.9968617772301852,
          0.9968979013035514,
          0.9969338290888121,
          0.9969696100823571,
          0.9970051404866644,
          0.9970404605589718,
          0.9970755048196951,
          0.9971104576777754,
          0.9971450431500064,
          0.9971794037025625,
          0.9972137078834855,
          0.9972477861457923,
          0.997281469293752,
          0.9973149601260043,
          0.9973481001045367,
          0.9973811236744863,
          0.9974140432465596,
          0.9974468786491086,
          0.9974794401239767,
          0.9975116998750798,
          0.9975438133007567,
          0.9975756999815492,
          0.997607513409333,
          0.9976389488060803,
          0.9976702242296164,
          0.9977014558577814,
          0.9977324259930657,
          0.9977630103154306,
          0.9977935144791514,
          0.9978236988164557,
          0.9978537355289379,
          0.9978836581074002,
          0.9979133195308176,
          0.9979427621618067,
          0.9979721648504243,
          0.9980010563143354,
          0.9980299362499049,
          0.9980586049012623,
          0.9980869029322682,
          0.99811507255715,
          0.9981431206949338,
          0.9981710395361821,
          0.9981989455930204,
          0.998226412122592,
          0.9982537321630043,
          0.9982807181610663,
          0.9983076010016506,
          0.9983343661549414,
          0.9983609475197949,
          0.9983872569369951,
          0.9984135122108474,
          0.998439541756978,
          0.9984653829279275,
          0.9984911014176279,
          0.9985163916520297,
          0.9985414627690639,
          0.9985662552508923,
          0.9985908211010621,
          0.9986153563492346,
          0.9986397686213181,
          0.9986640184456937,
          0.9986881201569506,
          0.9987119862414475,
          0.9987355467654193,
          0.9987588978421633,
          0.998782154997386,
          0.9988052142452716,
          0.9988281305351315,
          0.9988506425046313,
          0.9988731208345984,
          0.998895312222713,
          0.998917427258962,
          0.9989393885273472,
          0.9989611189293273,
          0.9989826618767388,
          0.999004044917743,
          0.9990252817732609,
          0.9990462627401079,
          0.9990672192810776,
          0.9990878954306742,
          0.9991084410325503,
          0.9991287305471594,
          0.9991487694090003,
          0.9991686716463481,
          0.9991885198791265,
          0.9992081784281395,
          0.999227668896539,
          0.9992468477692275,
          0.9992657619441162,
          0.9992844485923005,
          0.99930300600947,
          0.999321264631268,
          0.9993392186011919,
          0.9993570365104951,
          0.999374674900974,
          0.9993921373167918,
          0.9994095209772895,
          0.9994266360977406,
          0.9994437082022931,
          0.9994604862420059,
          0.9994770058906108,
          0.9994934597361385,
          0.9995095884063586,
          0.9995256105078749,
          0.9995414304036133,
          0.9995571414127942,
          0.9995726972687525,
          0.9995880835490623,
          0.9996033380545825,
          0.999618263304958,
          0.9996329818784248,
          0.9996475917507135,
          0.9996620913554982,
          0.9996764852878863,
          0.9996906051668967,
          0.9997045078892692,
          0.9997181325395037,
          0.9997315770909871,
          0.9997445723998645,
          0.9997574769013631,
          0.9997701926293889,
          0.9997828152881351,
          0.9997953012706656,
          0.9998075329281645,
          0.9998194722498168,
          0.999831127355907,
          0.9998426488406643,
          0.9998538044756237,
          0.9998646982115027,
          0.9998753655487757,
          0.9998858351852568,
          0.9998958979380178,
          0.9999056432314661,
          0.9999153454323145,
          0.9999244454214374,
          0.9999334491807629,
          0.9999422096975745,
          0.9999508947027379,
          0.999959266207587,
          0.9999672008687501,
          0.9999749315944031,
          0.9999823014723571,
          0.9999889210005141,
          0.9999947646703612,
          0.9999999999999993
         ],
         "yaxis": "y2"
        }
       ],
       "layout": {
        "annotations": [
         {
          "font": {
           "size": 16
          },
          "showarrow": false,
          "text": "Eigenvalues of Covariance Matrix",
          "x": 0.5,
          "xanchor": "center",
          "xref": "paper",
          "y": 1,
          "yanchor": "bottom",
          "yref": "paper"
         },
         {
          "font": {
           "size": 16
          },
          "showarrow": false,
          "text": "Cumulative Sum of Eigenvalues",
          "x": 0.5,
          "xanchor": "center",
          "xref": "paper",
          "y": 0.375,
          "yanchor": "bottom",
          "yref": "paper"
         }
        ],
        "showlegend": true,
        "template": {
         "data": {
          "bar": [
           {
            "error_x": {
             "color": "#2a3f5f"
            },
            "error_y": {
             "color": "#2a3f5f"
            },
            "marker": {
             "line": {
              "color": "#E5ECF6",
              "width": 0.5
             },
             "pattern": {
              "fillmode": "overlay",
              "size": 10,
              "solidity": 0.2
             }
            },
            "type": "bar"
           }
          ],
          "barpolar": [
           {
            "marker": {
             "line": {
              "color": "#E5ECF6",
              "width": 0.5
             },
             "pattern": {
              "fillmode": "overlay",
              "size": 10,
              "solidity": 0.2
             }
            },
            "type": "barpolar"
           }
          ],
          "carpet": [
           {
            "aaxis": {
             "endlinecolor": "#2a3f5f",
             "gridcolor": "white",
             "linecolor": "white",
             "minorgridcolor": "white",
             "startlinecolor": "#2a3f5f"
            },
            "baxis": {
             "endlinecolor": "#2a3f5f",
             "gridcolor": "white",
             "linecolor": "white",
             "minorgridcolor": "white",
             "startlinecolor": "#2a3f5f"
            },
            "type": "carpet"
           }
          ],
          "choropleth": [
           {
            "colorbar": {
             "outlinewidth": 0,
             "ticks": ""
            },
            "type": "choropleth"
           }
          ],
          "contour": [
           {
            "colorbar": {
             "outlinewidth": 0,
             "ticks": ""
            },
            "colorscale": [
             [
              0,
              "#0d0887"
             ],
             [
              0.1111111111111111,
              "#46039f"
             ],
             [
              0.2222222222222222,
              "#7201a8"
             ],
             [
              0.3333333333333333,
              "#9c179e"
             ],
             [
              0.4444444444444444,
              "#bd3786"
             ],
             [
              0.5555555555555556,
              "#d8576b"
             ],
             [
              0.6666666666666666,
              "#ed7953"
             ],
             [
              0.7777777777777778,
              "#fb9f3a"
             ],
             [
              0.8888888888888888,
              "#fdca26"
             ],
             [
              1,
              "#f0f921"
             ]
            ],
            "type": "contour"
           }
          ],
          "contourcarpet": [
           {
            "colorbar": {
             "outlinewidth": 0,
             "ticks": ""
            },
            "type": "contourcarpet"
           }
          ],
          "heatmap": [
           {
            "colorbar": {
             "outlinewidth": 0,
             "ticks": ""
            },
            "colorscale": [
             [
              0,
              "#0d0887"
             ],
             [
              0.1111111111111111,
              "#46039f"
             ],
             [
              0.2222222222222222,
              "#7201a8"
             ],
             [
              0.3333333333333333,
              "#9c179e"
             ],
             [
              0.4444444444444444,
              "#bd3786"
             ],
             [
              0.5555555555555556,
              "#d8576b"
             ],
             [
              0.6666666666666666,
              "#ed7953"
             ],
             [
              0.7777777777777778,
              "#fb9f3a"
             ],
             [
              0.8888888888888888,
              "#fdca26"
             ],
             [
              1,
              "#f0f921"
             ]
            ],
            "type": "heatmap"
           }
          ],
          "heatmapgl": [
           {
            "colorbar": {
             "outlinewidth": 0,
             "ticks": ""
            },
            "colorscale": [
             [
              0,
              "#0d0887"
             ],
             [
              0.1111111111111111,
              "#46039f"
             ],
             [
              0.2222222222222222,
              "#7201a8"
             ],
             [
              0.3333333333333333,
              "#9c179e"
             ],
             [
              0.4444444444444444,
              "#bd3786"
             ],
             [
              0.5555555555555556,
              "#d8576b"
             ],
             [
              0.6666666666666666,
              "#ed7953"
             ],
             [
              0.7777777777777778,
              "#fb9f3a"
             ],
             [
              0.8888888888888888,
              "#fdca26"
             ],
             [
              1,
              "#f0f921"
             ]
            ],
            "type": "heatmapgl"
           }
          ],
          "histogram": [
           {
            "marker": {
             "pattern": {
              "fillmode": "overlay",
              "size": 10,
              "solidity": 0.2
             }
            },
            "type": "histogram"
           }
          ],
          "histogram2d": [
           {
            "colorbar": {
             "outlinewidth": 0,
             "ticks": ""
            },
            "colorscale": [
             [
              0,
              "#0d0887"
             ],
             [
              0.1111111111111111,
              "#46039f"
             ],
             [
              0.2222222222222222,
              "#7201a8"
             ],
             [
              0.3333333333333333,
              "#9c179e"
             ],
             [
              0.4444444444444444,
              "#bd3786"
             ],
             [
              0.5555555555555556,
              "#d8576b"
             ],
             [
              0.6666666666666666,
              "#ed7953"
             ],
             [
              0.7777777777777778,
              "#fb9f3a"
             ],
             [
              0.8888888888888888,
              "#fdca26"
             ],
             [
              1,
              "#f0f921"
             ]
            ],
            "type": "histogram2d"
           }
          ],
          "histogram2dcontour": [
           {
            "colorbar": {
             "outlinewidth": 0,
             "ticks": ""
            },
            "colorscale": [
             [
              0,
              "#0d0887"
             ],
             [
              0.1111111111111111,
              "#46039f"
             ],
             [
              0.2222222222222222,
              "#7201a8"
             ],
             [
              0.3333333333333333,
              "#9c179e"
             ],
             [
              0.4444444444444444,
              "#bd3786"
             ],
             [
              0.5555555555555556,
              "#d8576b"
             ],
             [
              0.6666666666666666,
              "#ed7953"
             ],
             [
              0.7777777777777778,
              "#fb9f3a"
             ],
             [
              0.8888888888888888,
              "#fdca26"
             ],
             [
              1,
              "#f0f921"
             ]
            ],
            "type": "histogram2dcontour"
           }
          ],
          "mesh3d": [
           {
            "colorbar": {
             "outlinewidth": 0,
             "ticks": ""
            },
            "type": "mesh3d"
           }
          ],
          "parcoords": [
           {
            "line": {
             "colorbar": {
              "outlinewidth": 0,
              "ticks": ""
             }
            },
            "type": "parcoords"
           }
          ],
          "pie": [
           {
            "automargin": true,
            "type": "pie"
           }
          ],
          "scatter": [
           {
            "marker": {
             "colorbar": {
              "outlinewidth": 0,
              "ticks": ""
             }
            },
            "type": "scatter"
           }
          ],
          "scatter3d": [
           {
            "line": {
             "colorbar": {
              "outlinewidth": 0,
              "ticks": ""
             }
            },
            "marker": {
             "colorbar": {
              "outlinewidth": 0,
              "ticks": ""
             }
            },
            "type": "scatter3d"
           }
          ],
          "scattercarpet": [
           {
            "marker": {
             "colorbar": {
              "outlinewidth": 0,
              "ticks": ""
             }
            },
            "type": "scattercarpet"
           }
          ],
          "scattergeo": [
           {
            "marker": {
             "colorbar": {
              "outlinewidth": 0,
              "ticks": ""
             }
            },
            "type": "scattergeo"
           }
          ],
          "scattergl": [
           {
            "marker": {
             "colorbar": {
              "outlinewidth": 0,
              "ticks": ""
             }
            },
            "type": "scattergl"
           }
          ],
          "scattermapbox": [
           {
            "marker": {
             "colorbar": {
              "outlinewidth": 0,
              "ticks": ""
             }
            },
            "type": "scattermapbox"
           }
          ],
          "scatterpolar": [
           {
            "marker": {
             "colorbar": {
              "outlinewidth": 0,
              "ticks": ""
             }
            },
            "type": "scatterpolar"
           }
          ],
          "scatterpolargl": [
           {
            "marker": {
             "colorbar": {
              "outlinewidth": 0,
              "ticks": ""
             }
            },
            "type": "scatterpolargl"
           }
          ],
          "scatterternary": [
           {
            "marker": {
             "colorbar": {
              "outlinewidth": 0,
              "ticks": ""
             }
            },
            "type": "scatterternary"
           }
          ],
          "surface": [
           {
            "colorbar": {
             "outlinewidth": 0,
             "ticks": ""
            },
            "colorscale": [
             [
              0,
              "#0d0887"
             ],
             [
              0.1111111111111111,
              "#46039f"
             ],
             [
              0.2222222222222222,
              "#7201a8"
             ],
             [
              0.3333333333333333,
              "#9c179e"
             ],
             [
              0.4444444444444444,
              "#bd3786"
             ],
             [
              0.5555555555555556,
              "#d8576b"
             ],
             [
              0.6666666666666666,
              "#ed7953"
             ],
             [
              0.7777777777777778,
              "#fb9f3a"
             ],
             [
              0.8888888888888888,
              "#fdca26"
             ],
             [
              1,
              "#f0f921"
             ]
            ],
            "type": "surface"
           }
          ],
          "table": [
           {
            "cells": {
             "fill": {
              "color": "#EBF0F8"
             },
             "line": {
              "color": "white"
             }
            },
            "header": {
             "fill": {
              "color": "#C8D4E3"
             },
             "line": {
              "color": "white"
             }
            },
            "type": "table"
           }
          ]
         },
         "layout": {
          "annotationdefaults": {
           "arrowcolor": "#2a3f5f",
           "arrowhead": 0,
           "arrowwidth": 1
          },
          "autotypenumbers": "strict",
          "coloraxis": {
           "colorbar": {
            "outlinewidth": 0,
            "ticks": ""
           }
          },
          "colorscale": {
           "diverging": [
            [
             0,
             "#8e0152"
            ],
            [
             0.1,
             "#c51b7d"
            ],
            [
             0.2,
             "#de77ae"
            ],
            [
             0.3,
             "#f1b6da"
            ],
            [
             0.4,
             "#fde0ef"
            ],
            [
             0.5,
             "#f7f7f7"
            ],
            [
             0.6,
             "#e6f5d0"
            ],
            [
             0.7,
             "#b8e186"
            ],
            [
             0.8,
             "#7fbc41"
            ],
            [
             0.9,
             "#4d9221"
            ],
            [
             1,
             "#276419"
            ]
           ],
           "sequential": [
            [
             0,
             "#0d0887"
            ],
            [
             0.1111111111111111,
             "#46039f"
            ],
            [
             0.2222222222222222,
             "#7201a8"
            ],
            [
             0.3333333333333333,
             "#9c179e"
            ],
            [
             0.4444444444444444,
             "#bd3786"
            ],
            [
             0.5555555555555556,
             "#d8576b"
            ],
            [
             0.6666666666666666,
             "#ed7953"
            ],
            [
             0.7777777777777778,
             "#fb9f3a"
            ],
            [
             0.8888888888888888,
             "#fdca26"
            ],
            [
             1,
             "#f0f921"
            ]
           ],
           "sequentialminus": [
            [
             0,
             "#0d0887"
            ],
            [
             0.1111111111111111,
             "#46039f"
            ],
            [
             0.2222222222222222,
             "#7201a8"
            ],
            [
             0.3333333333333333,
             "#9c179e"
            ],
            [
             0.4444444444444444,
             "#bd3786"
            ],
            [
             0.5555555555555556,
             "#d8576b"
            ],
            [
             0.6666666666666666,
             "#ed7953"
            ],
            [
             0.7777777777777778,
             "#fb9f3a"
            ],
            [
             0.8888888888888888,
             "#fdca26"
            ],
            [
             1,
             "#f0f921"
            ]
           ]
          },
          "colorway": [
           "#636efa",
           "#EF553B",
           "#00cc96",
           "#ab63fa",
           "#FFA15A",
           "#19d3f3",
           "#FF6692",
           "#B6E880",
           "#FF97FF",
           "#FECB52"
          ],
          "font": {
           "color": "#2a3f5f"
          },
          "geo": {
           "bgcolor": "white",
           "lakecolor": "white",
           "landcolor": "#E5ECF6",
           "showlakes": true,
           "showland": true,
           "subunitcolor": "white"
          },
          "hoverlabel": {
           "align": "left"
          },
          "hovermode": "closest",
          "mapbox": {
           "style": "light"
          },
          "paper_bgcolor": "white",
          "plot_bgcolor": "#E5ECF6",
          "polar": {
           "angularaxis": {
            "gridcolor": "white",
            "linecolor": "white",
            "ticks": ""
           },
           "bgcolor": "#E5ECF6",
           "radialaxis": {
            "gridcolor": "white",
            "linecolor": "white",
            "ticks": ""
           }
          },
          "scene": {
           "xaxis": {
            "backgroundcolor": "#E5ECF6",
            "gridcolor": "white",
            "gridwidth": 2,
            "linecolor": "white",
            "showbackground": true,
            "ticks": "",
            "zerolinecolor": "white"
           },
           "yaxis": {
            "backgroundcolor": "#E5ECF6",
            "gridcolor": "white",
            "gridwidth": 2,
            "linecolor": "white",
            "showbackground": true,
            "ticks": "",
            "zerolinecolor": "white"
           },
           "zaxis": {
            "backgroundcolor": "#E5ECF6",
            "gridcolor": "white",
            "gridwidth": 2,
            "linecolor": "white",
            "showbackground": true,
            "ticks": "",
            "zerolinecolor": "white"
           }
          },
          "shapedefaults": {
           "line": {
            "color": "#2a3f5f"
           }
          },
          "ternary": {
           "aaxis": {
            "gridcolor": "white",
            "linecolor": "white",
            "ticks": ""
           },
           "baxis": {
            "gridcolor": "white",
            "linecolor": "white",
            "ticks": ""
           },
           "bgcolor": "#E5ECF6",
           "caxis": {
            "gridcolor": "white",
            "linecolor": "white",
            "ticks": ""
           }
          },
          "title": {
           "x": 0.05
          },
          "xaxis": {
           "automargin": true,
           "gridcolor": "white",
           "linecolor": "white",
           "ticks": "",
           "title": {
            "standoff": 15
           },
           "zerolinecolor": "white",
           "zerolinewidth": 2
          },
          "yaxis": {
           "automargin": true,
           "gridcolor": "white",
           "linecolor": "white",
           "ticks": "",
           "title": {
            "standoff": 15
           },
           "zerolinecolor": "white",
           "zerolinewidth": 2
          }
         }
        },
        "title": {
         "text": "Covariance Matrix Eigenvalues and Cumulative Sum"
        },
        "xaxis": {
         "anchor": "y",
         "domain": [
          0,
          1
         ]
        },
        "xaxis2": {
         "anchor": "y2",
         "domain": [
          0,
          1
         ]
        },
        "yaxis": {
         "anchor": "x",
         "domain": [
          0.625,
          1
         ]
        },
        "yaxis2": {
         "anchor": "x2",
         "domain": [
          0,
          0.375
         ]
        }
       }
      },
      "text/html": [
       "<div>                            <div id=\"3508b8c5-af19-4fd7-ac7c-1dd39c85ab82\" class=\"plotly-graph-div\" style=\"height:525px; width:100%;\"></div>            <script type=\"text/javascript\">                require([\"plotly\"], function(Plotly) {                    window.PLOTLYENV=window.PLOTLYENV || {};                                    if (document.getElementById(\"3508b8c5-af19-4fd7-ac7c-1dd39c85ab82\")) {                    Plotly.newPlot(                        \"3508b8c5-af19-4fd7-ac7c-1dd39c85ab82\",                        [{\"mode\":\"lines+markers\",\"name\":\"Eigenvalues\",\"x\":[1,2,3,4,5,6,7,8,9,10,11,12,13,14,15,16,17,18,19,20,21,22,23,24,25,26,27,28,29,30,31,32,33,34,35,36,37,38,39,40,41,42,43,44,45,46,47,48,49,50,51,52,53,54,55,56,57,58,59,60,61,62,63,64,65,66,67,68,69,70,71,72,73,74,75,76,77,78,79,80,81,82,83,84,85,86,87,88,89,90,91,92,93,94,95,96,97,98,99,100,101,102,103,104,105,106,107,108,109,110,111,112,113,114,115,116,117,118,119,120,121,122,123,124,125,126,127,128,129,130,131,132,133,134,135,136,137,138,139,140,141,142,143,144,145,146,147,148,149,150,151,152,153,154,155,156,157,158,159,160,161,162,163,164,165,166,167,168,169,170,171,172,173,174,175,176,177,178,179,180,181,182,183,184,185,186,187,188,189,190,191,192,193,194,195,196,197,198,199,200,201,202,203,204,205,206,207,208,209,210,211,212,213,214,215,216,217,218,219,220,221,222,223,224,225,226,227,228,229,230,231,232,233,234,235,236,237,238,239,240,241,242,243,244,245,246,247,248,249,250,251,252,253,254,255,256,257,258,259,260,261,262,263,264,265,266,267,268,269,270,271,272,273,274,275,276,277,278,279,280,281,282,283,284,285,286,287,288,289,290,291,292,293,294,295,296,297,298,299,300,301,302,303,304,305,306,307,308,309,310,311,312,313,314,315,316,317,318,319,320,321,322,323,324,325,326,327,328,329,330,331,332,333,334,335,336,337,338,339,340,341,342,343,344,345,346,347,348,349,350,351,352,353,354,355,356,357,358,359,360,361,362,363,364,365,366,367,368,369,370,371,372,373,374,375,376,377,378,379,380,381,382,383,384,385,386,387,388,389,390,391,392,393,394,395,396,397,398,399,400,401,402,403,404,405,406,407,408,409,410,411,412,413,414,415,416,417,418,419,420,421,422,423,424,425,426,427,428,429,430,431,432,433,434,435,436,437,438,439,440,441,442,443,444,445,446,447,448,449,450,451,452,453,454,455,456,457,458,459,460,461,462,463,464,465,466,467,468,469,470,471,472,473,474,475,476,477,478,479,480,481,482,483,484,485,486,487,488,489,490,491,492,493,494,495,496,497,498,499,500,501,502,503,504,505,506,507,508,509,510,511,512,513,514,515,516,517,518,519,520,521,522,523,524,525,526,527,528,529,530,531,532,533,534,535,536,537,538,539,540,541,542,543,544,545,546,547,548,549,550,551,552,553,554,555,556,557,558,559,560,561,562,563,564,565,566,567,568,569,570,571,572,573,574,575,576,577,578,579,580,581,582,583,584,585,586,587,588,589,590,591,592,593,594,595,596,597,598,599,600,601,602,603,604,605,606,607,608,609,610,611,612,613,614,615,616,617,618,619,620,621,622,623,624,625,626,627,628,629,630,631,632,633,634,635,636,637,638,639,640,641,642,643,644,645,646,647,648,649,650,651,652,653,654,655,656,657,658,659,660,661,662,663,664,665,666,667,668,669,670,671,672,673,674,675,676,677,678,679,680,681,682,683,684,685,686,687,688,689,690,691,692,693,694,695,696,697,698,699,700,701,702,703,704,705,706,707,708,709,710,711,712,713,714,715,716,717,718,719,720,721,722,723,724,725,726,727,728,729,730,731,732,733,734,735,736,737,738,739,740,741,742,743,744,745,746,747,748,749,750,751,752,753,754,755,756,757,758,759,760,761,762,763,764,765,766,767,768,769,770,771,772,773,774,775,776,777,778,779,780,781,782,783,784],\"y\":[172.80202113518646,113.24801577782628,43.03842650302557,39.55883209174649,31.278120038899054,23.61001396649082,21.948355856032716,17.73898280970345,13.629539711423183,10.94059805121862,9.370023702743937,7.594130813137786,7.496852082108521,6.924563278923126,6.4169432505794255,5.663352786493337,5.481815379238338,5.048134775996788,4.870879937750907,4.82937191812055,4.400517340531058,4.034462237761073,3.7871245330084635,3.654603516674074,3.5831513984718057,3.426457609776179,3.306902256624102,3.1619238249139987,3.0716941785897864,2.9714836407840455,2.8466316786701533,2.7678389866055526,2.642202791755151,2.6224986159932784,2.5891028704390666,2.4810109642926834,2.4281981249969005,2.370558190701036,2.301228965840636,2.1620223679510917,2.136141954591692,2.0823553321631207,2.0372233008336544,2.0180753960291966,1.9476180044290174,1.889636314013778,1.8397901521013393,1.777320136376748,1.755811104180061,1.7037115627772608,1.6901261510534713,1.6380216684958842,1.6008815245079124,1.578756386626533,1.5360481618815809,1.4796105822182126,1.4912224044769007,1.4235415469639994,1.3980384990079615,1.363811090839678,1.3445289590564526,1.3357873955214556,1.3298856373175592,1.3218960764956527,1.2753537581395704,1.2611496781019291,1.2293550509413074,1.214526010523925,1.1894360667707617,1.17356644155878,1.1641356843747401,1.133602711129293,1.1109353238839597,1.0817264759985217,1.0732029080694263,1.0467312381513363,1.0415306306644165,1.0241005852475333,1.017729129366108,0.9998856555015546,0.9972243119277074,0.9707662285167352,0.964262774994775,0.9406695699454797,0.9318091525549596,0.9227247753952541,0.9061785357199186,0.8782813803787616,0.8734107537190596,0.8514865106281512,0.8445975991641151,0.824634034456188,0.8186362556676194,0.8141840028260395,0.7941035463792403,0.7879713492109885,0.7756134651259005,0.7698989476063807,0.764911081136331,0.7569359428531459,0.7391476134224354,0.7350218328541409,0.7282640165851392,0.7238500638354202,0.708461386309572,0.7015559885988744,0.6968385500573867,0.6824581942123539,0.6805038116736553,0.6707398721943072,0.6578310961843596,0.6548386591922752,0.6492886374631839,0.6423042367303194,0.6339805671442985,0.6281506548948749,0.6153031799056493,0.5928116119150154,0.6094525252312846,0.600979222198084,0.605887455265522,0.5868442348511846,0.5787280393922971,0.572143110430502,0.5676114976063492,0.5695373681983154,0.5530017572090226,0.5610556166787201,0.5456385378510723,0.5409275763441443,0.5360267536930192,0.5161169348620507,0.5245846401069748,0.5284333898325368,0.5280673949537497,0.505251629506869,0.5021047997759124,0.4978049014517005,0.49653834299186683,0.48681590816541415,0.4688503229097042,0.47707182917900404,0.4809555393756818,0.48460818066853706,0.4625076838812958,0.4547609446452167,0.459758893813835,0.45237433665163634,0.4495233102511592,0.4512684623715064,0.43957961817090424,0.44323121340481253,0.4332457054510617,0.4301407099512348,0.4270356036425913,0.4229338546562279,0.41728544539381685,0.41326386803254034,0.4081834141317342,0.40476594163627033,0.4020069415122893,0.39473330620253955,0.3973318565295341,0.40017220976187884,0.39037125492221203,0.3852633777709905,0.38376628589825196,0.38072309066341653,0.3784955531689862,0.374636961868556,0.3738095923293424,0.36884100273338677,0.3643996735107568,0.3599432131347929,0.35799743096925185,0.3637986894887849,0.3545514492916016,0.3501710090359072,0.3474575598060224,0.34903239750644016,0.3435509043282412,0.33461931218328156,0.3376384727101214,0.3385534007668047,0.33206760705346017,0.32815523233605215,0.3262156190651647,0.3229420308874847,0.3216284119527974,0.31946152456617377,0.3166206682346672,0.3154598000756122,0.30821311120305,0.3111199597838203,0.3101495403002196,0.30241986802636667,0.3009577416272606,0.2987026416666318,0.2976441539873436,0.29428851833955866,0.29324919722842807,0.2905965625107881,0.28876671465296777,0.2866198943874762,0.28444705520098024,0.2832884869424055,0.28233302849144665,0.2785893783266261,0.28181543112513563,0.27703785042589313,0.25770731260382185,0.25498585453499273,0.2619102151525516,0.27388747301859845,0.27103539129505577,0.26913186373646947,0.26655057360368145,0.2639566374617441,0.2555566831783361,0.27261465407312363,0.2674320546047955,0.2608974761095096,0.25297735385400505,0.2520281842300971,0.24923923571423295,0.24419347566348126,0.2454340933930291,0.24776374488701441,0.2469299945541092,0.2416088915049006,0.2401583769152003,0.23915727563478717,0.23602889594574436,0.23548594914721213,0.2347654795858512,0.2346772006307458,0.23233689559990336,0.2279636730698907,0.2297869603038287,0.2305185879809759,0.22586042636401985,0.22596667442680504,0.22383975748229992,0.2218723350644379,0.21931828624787802,0.21867599849416547,0.21665145051765478,0.21740902062134193,0.21501149871464414,0.21386525077596238,0.213172579076467,0.21241911149033468,0.2108893875661249,0.20954849501420897,0.20690230371651952,0.2059140216903362,0.20419044122225144,0.20320096103239868,0.20561355006284038,0.20174699451823838,0.19820642440417172,0.1992765785972809,0.19885901700782874,0.1966225184885222,0.194785237048108,0.19364079377126026,0.19256497211072587,0.1915952791428176,0.17644362557628335,0.19322785770604683,0.19068644137994337,0.18315250179491271,0.18712730244549736,0.18867792596684027,0.18817105168396742,0.18039894159795075,0.1848212387967878,0.18393604438242184,0.18017019989482191,0.17800216497875385,0.17843504888085007,0.17944220136891173,0.17821316260437786,0.18418447396715246,0.17220092520293606,0.1744088937529229,0.17596894780469022,0.17051009028914266,0.16889230455746515,0.16826559495221294,0.16778548263681478,0.16769499218153866,0.16609871668110357,0.16510075216186879,0.16342263706408244,0.16418502958362596,0.16249928314216985,0.16218198203575665,0.1611284752519681,0.1604097592515796,0.1585508819002745,0.15908124904044543,0.15581328633232677,0.157603969015558,0.15746821544714446,0.1540963535261707,0.1543258395301291,0.1531185079495901,0.1521729499344549,0.15072438279740202,0.15007010240293056,0.14881477801466747,0.14677242515597883,0.14760613545440165,0.14811795268060335,0.14557332827400016,0.14512866821278628,0.13370390914458505,0.1339938190508256,0.15040547266327767,0.13503684025042897,0.14393092952621708,0.13949910046049402,0.14112936420890368,0.14261055121807648,0.14351887442538572,0.14240647485504668,0.1385730563255702,0.13762126201813976,0.13778767829908278,0.135834125847942,0.13646820545744268,0.13616857887765313,0.14077075032983447,0.004581895349653392,0.005190229097982779,0.13270313955917495,0.13145590940957783,0.13162692287388092,0.13234597366566614,0.13219527938933323,0.1303464186334009,0.12957763565317357,0.12780112605142516,0.12907962704686957,0.12879742258205013,0.12677646440011087,0.12556422907144102,0.12477878144133495,0.12449147990333066,0.12393214101448087,0.12263961992622929,0.11878780061961554,0.1201672561707256,0.12175224737216321,0.12206967164744985,0.12099284305141908,0.12093524299705243,0.11744370662549401,0.11796553212973919,0.11658279576919688,0.11645720822317479,0.11580669026703969,0.11550331382127849,0.11424993426458344,0.11323628754138997,0.11312363471592977,0.11232279771478651,0.11207734959006582,0.11157271319734158,0.11107060712879978,0.10964869616317705,0.10932934313347854,0.10843023055936991,0.11046620116989177,0.10769484555248117,0.10705970662503525,0.10808797593554323,0.1065979900680238,0.1078893715440634,0.10621227231599817,0.10572346011615306,0.10467971099626444,0.10374990444382855,0.00622139649154979,0.10447836202355269,0.1024839840441797,0.10405873607521977,0.1031327081005135,0.1019626570708948,0.10165873197804262,0.10123131894996683,0.1006447081709557,0.09960863817755083,0.09990806606415206,0.09875620635708052,0.09696453293568597,0.09818293885052987,0.09790301963984901,0.0990973449163345,0.09658700840173116,0.09591597858127555,0.09526285625641812,0.09492438177583351,0.09447864314476156,0.09310130388178187,0.09378974109598215,0.09398739871024578,0.09263319629479246,0.09177433760958977,0.09140589277414682,0.09231348109923097,0.09106187902361489,0.07472256835455676,0.07524594582579724,0.09042528738425108,0.0757693039402325,0.07589014572207581,0.08982163287086202,0.0761962981841778,0.08926091507966893,0.0893231526640263,0.08822794216801759,0.0767250049141089,0.0769130277087757,0.08963116377724893,0.08736098700085015,0.08788804372231081,0.07731575219679525,0.08674111826181385,0.07764310287383586,0.08655173432447734,0.07796809727767798,0.08623315928460501,0.08580500305461441,0.07854493355811513,0.07883209973601138,0.07915830718897521,0.07957025381517986,0.08543226684248446,0.08474077825397335,0.08484506980751043,0.08019680612584038,0.0807718168617947,0.08235945683486895,0.08194990000466836,0.0811032590212763,0.08037298909881202,0.08270027414829008,0.08369509048516857,0.08348103032953691,0.08406638756597873,0.08154046775519255,0.08335280828861738,0.004104908927237985,0.005778562172195788,0.07109469395177648,0.07143819764535717,0.07167972379717001,0.07201235011071377,0.07229762568973921,0.07265967473752241,0.0732921058145018,0.07346788929556416,0.07412849635325407,0.07437566464989155,0.07391974397258304,0.006061495061449524,0.00656391619334238,0.007641074170940187,0.007059653276499861,0.006809725020574936,0.0068689320735479415,0.06777945513000815,0.06799586501409499,0.06834410503283568,0.0687506599920783,0.06905659261828213,0.07015752856461699,0.07037915796344837,0.07044489637437315,0.07063212243972451,0.007135104982870564,0.00788998716338684,0.0076072861937497745,0.008746892497370358,0.008364028824894247,0.06494103300401845,0.06509727894821979,0.065279274591401,0.0660919680200256,0.06582877028800649,0.06709559089531938,0.06554757591257088,0.06690907446272082,0.06684674053445046,0.008209015902794983,0.010541582521237049,0.008541543083510243,0.010189341093974461,0.00997012778504005,0.009033747424542079,0.009361364311827316,0.009138517026372143,0.06300198533986914,0.06313296957436518,0.06354326238596826,0.0640140400026625,0.0642537629282255,0.06338379007345894,0.06456889172510223,0.00959057853696182,0.00978998930292133,0.009897154172389533,0.010118140988969022,0.01068279406323737,0.06114628622137834,0.06185042089043573,0.06232313805890345,0.059259557621757684,0.060457088383856446,0.0590418724998573,0.05979805715753534,0.06261004411070116,0.06207465773788576,0.060805858119501656,0.05968214817016985,0.060242147245978275,0.059650734740799426,0.010900824422544187,0.011071092253307714,0.011368827033924103,0.011455285402883415,0.011285971589440523,0.011540515649522923,0.011702566551007484,0.05879331700421622,0.011960728400691489,0.012064050167849111,0.058341832979938384,0.05825506399324886,0.05795241076352755,0.05778433648929185,0.05755295341562868,0.0572691433136106,0.012562583847137498,0.012318663064066229,0.056891258023196764,0.013155298664723194,0.012646142066778854,0.012952699776219437,0.01219701077241874,0.01240403866280762,0.012901105004129733,0.056487394800436797,0.055983566864998335,0.05619783862096774,0.05557826196332801,0.055304907760538216,0.05497026492975514,0.054828962380662434,0.013385868556038266,0.013419596393276266,0.013630152845506383,0.013691903191465724,0.013829881123511056,0.0139706379575171,0.01431619110875545,0.014077320152361305,0.014550470107872408,0.014651797356233578,0.0148301961323902,0.015908570310654378,0.015712038887108176,0.015413843810548965,0.015037739961723579,0.015562570755286512,0.015604914572146073,0.015282055430762905,0.05435603703395576,0.05414908203116013,0.05376197447261733,0.053437912089901216,0.05311418691834767,0.05292407875822347,0.05257260992538408,0.05321791655580128,0.05186931003883061,0.052035054450536744,0.05213830139458702,0.0523306271297354,0.0514782978101831,0.05113034512314708,0.05128566550050361,0.05061279676113024,0.050407325035535765,0.04562812144494347,0.050097500852412664,0.04593709262900212,0.046143276832031545,0.04992475948024261,0.04969296296656304,0.04631656578781472,0.04715777147191791,0.046817256615635655,0.046738001626870924,0.049241380903697875,0.04866063872264807,0.04939805578837079,0.04912697811006172,0.048229799753357186,0.04894861902010137,0.047494946195129666,0.047583762757976794,0.048082168399045194,0.04791362262688692,0.0476948647990189,0.016109362807119363,0.01621172245600768,0.01643157127731504,0.016651359862003577,0.016450723080383683,0.04504315058340783,0.045193913785696746,0.04460683432144762,0.04510147729253831,0.04420262794396599,0.04447571742763607,0.04547978262819332,0.01676598074534561,0.016891359906640764,0.017038338986234282,0.017219356349630226,0.01733992241150055,0.017399788260650664,0.017624773171592938,0.017651149202760123,0.017968168067016264,0.01808025836817028,0.018235433237932152,0.018473298123715592,0.04387893478800804,0.043716478145237755,0.043511860034004965,0.04279295432903705,0.04067092301073449,0.04122403814572456,0.042528845109961154,0.042263885352085646,0.041474209972519806,0.04325940480484465,0.04057091679780425,0.04203378410571169,0.04182675525308429,0.04311434541012858,0.043035079791291175,0.04172456055847305,0.018309075074763925,0.01871288153374972,0.01901376368686658,0.04087403661155634,0.04024594564442711,0.03999865995100563,0.018897631388517043,0.01914113542702808,0.03973180689990084,0.03957963854659475,0.0194392496784635,0.039884795899175436,0.039404288067944486,0.019657721526937583,0.019261552688468905,0.03914771104499302,0.019829526723706237,0.038811592145155845,0.039066654201269965,0.03833279072609993,0.019237558323043146,0.020165312456287346,0.03799082361978698,0.03810586132365014,0.037493627256941386,0.03742200524208505,0.03722811062374975,0.020261504174818777,0.02040920508693591,0.03705542284763234,0.02084187423252604,0.020628645949631746,0.03675352707446878,0.036676393413412334,0.020985978777862135,0.03649065393736579,0.021159138394450317,0.021421053788615967,0.03562726773339563,0.03578508687203501,0.036233067889707565,0.03617904150443879,0.02153591277542554,0.03599261282794964,0.035423803718698625,0.0350090244375398,0.03472953981899275,0.034531970084011016,0.0205861933194818,0.03529553514708282,0.03428262501780435,0.021078254843523474,0.03409789568617423,0.033468780279974686,0.03397038353100336,0.03370531988508457,0.033665810397087034,0.02218787509617445,0.022087194626799686,0.022478470511264607,0.03281030271849159,0.02199193921643703,0.03321543301523861,0.02189056059475029,0.021880536614825235,0.022653173023690288,0.03325786182307135,0.03305169976891446,0.03254797933334284,0.023085331228499085,0.023256881647386454,0.03239946339815009,0.0322310108553172,0.02264413389980645,0.02305401327751426,0.02398050678481341,0.02391765612280003,0.023666887135307995,0.03197128789094937,0.024283014364325964,0.023551137699746417,0.023461647679256514,0.031205663462802763,0.03156606038651309,0.031730600149589484,0.03180056136195313,0.030744005113284012,0.030155442465132257,0.024647815831488173,0.02500165790711374,0.02448804528588889,0.02452238429074427,0.03004728905236745,0.025179443675054612,0.025294174282277815,0.029743846403957948,0.026720029651515195,0.03044744816492972,0.029053450556438317,0.029452684686526516,0.030378500069963447,0.02553074937152325,0.02931913081818223,0.026410229023339196,0.02625943842959259,0.026941367340715575,0.027693706059537374,0.02785862283930396,0.027477448151875642,0.028642446234496407,0.028170200664508573,0.030531934057291564,0.025893068147320026,0.025811525658061118,0.02689716756033345,0.028788022073424548,0.02832410592968495,0.02843188810040342,0.024944221804669656,0.025745530151493685,0.029560994102512745,0.027405781313120683,0.028055104449670222,0.02711772200134375,0.02598434160357663,0.03439309649442047,0.031309516649163156],\"type\":\"scatter\",\"xaxis\":\"x\",\"yaxis\":\"y\"},{\"mode\":\"lines+markers\",\"name\":\"Cumulative Sum\",\"x\":[1,2,3,4,5,6,7,8,9,10,11,12,13,14,15,16,17,18,19,20,21,22,23,24,25,26,27,28,29,30,31,32,33,34,35,36,37,38,39,40,41,42,43,44,45,46,47,48,49,50,51,52,53,54,55,56,57,58,59,60,61,62,63,64,65,66,67,68,69,70,71,72,73,74,75,76,77,78,79,80,81,82,83,84,85,86,87,88,89,90,91,92,93,94,95,96,97,98,99,100,101,102,103,104,105,106,107,108,109,110,111,112,113,114,115,116,117,118,119,120,121,122,123,124,125,126,127,128,129,130,131,132,133,134,135,136,137,138,139,140,141,142,143,144,145,146,147,148,149,150,151,152,153,154,155,156,157,158,159,160,161,162,163,164,165,166,167,168,169,170,171,172,173,174,175,176,177,178,179,180,181,182,183,184,185,186,187,188,189,190,191,192,193,194,195,196,197,198,199,200,201,202,203,204,205,206,207,208,209,210,211,212,213,214,215,216,217,218,219,220,221,222,223,224,225,226,227,228,229,230,231,232,233,234,235,236,237,238,239,240,241,242,243,244,245,246,247,248,249,250,251,252,253,254,255,256,257,258,259,260,261,262,263,264,265,266,267,268,269,270,271,272,273,274,275,276,277,278,279,280,281,282,283,284,285,286,287,288,289,290,291,292,293,294,295,296,297,298,299,300,301,302,303,304,305,306,307,308,309,310,311,312,313,314,315,316,317,318,319,320,321,322,323,324,325,326,327,328,329,330,331,332,333,334,335,336,337,338,339,340,341,342,343,344,345,346,347,348,349,350,351,352,353,354,355,356,357,358,359,360,361,362,363,364,365,366,367,368,369,370,371,372,373,374,375,376,377,378,379,380,381,382,383,384,385,386,387,388,389,390,391,392,393,394,395,396,397,398,399,400,401,402,403,404,405,406,407,408,409,410,411,412,413,414,415,416,417,418,419,420,421,422,423,424,425,426,427,428,429,430,431,432,433,434,435,436,437,438,439,440,441,442,443,444,445,446,447,448,449,450,451,452,453,454,455,456,457,458,459,460,461,462,463,464,465,466,467,468,469,470,471,472,473,474,475,476,477,478,479,480,481,482,483,484,485,486,487,488,489,490,491,492,493,494,495,496,497,498,499,500,501,502,503,504,505,506,507,508,509,510,511,512,513,514,515,516,517,518,519,520,521,522,523,524,525,526,527,528,529,530,531,532,533,534,535,536,537,538,539,540,541,542,543,544,545,546,547,548,549,550,551,552,553,554,555,556,557,558,559,560,561,562,563,564,565,566,567,568,569,570,571,572,573,574,575,576,577,578,579,580,581,582,583,584,585,586,587,588,589,590,591,592,593,594,595,596,597,598,599,600,601,602,603,604,605,606,607,608,609,610,611,612,613,614,615,616,617,618,619,620,621,622,623,624,625,626,627,628,629,630,631,632,633,634,635,636,637,638,639,640,641,642,643,644,645,646,647,648,649,650,651,652,653,654,655,656,657,658,659,660,661,662,663,664,665,666,667,668,669,670,671,672,673,674,675,676,677,678,679,680,681,682,683,684,685,686,687,688,689,690,691,692,693,694,695,696,697,698,699,700,701,702,703,704,705,706,707,708,709,710,711,712,713,714,715,716,717,718,719,720,721,722,723,724,725,726,727,728,729,730,731,732,733,734,735,736,737,738,739,740,741,742,743,744,745,746,747,748,749,750,751,752,753,754,755,756,757,758,759,760,761,762,763,764,765,766,767,768,769,770,771,772,773,774,775,776,777,778,779,780,781,782,783,784],\"y\":[0.2203887001697357,0.364823254986379,0.4197137175633882,0.4701663657885633,0.5100579375065418,0.5401697397579375,0.5681622920799363,0.5907862830383833,0.6081691615555416,0.6221226105241813,0.6340729762134334,0.643758398917587,0.6533197540156741,0.6621512219016374,0.6703352800091047,0.6775582219111642,0.684549634153129,0.6909879376767504,0.6972001734545018,0.7033594706240538,0.7089718141046623,0.7141172972571332,0.7189473301915148,0.7236083481204975,0.7281782372574005,0.7325482818543586,0.736765847627826,0.7407985104244224,0.744716095895305,0.7485058745846161,0.7521364192472466,0.7556664730772299,0.7590362926837043,0.7623809819262192,0.7656830788141682,0.7688473171600818,0.7719441989268987,0.774967567721391,0.7779025152251461,0.7806599210487613,0.7833843194421238,0.7860401193102742,0.7886383585685696,0.7912121769212349,0.7936961351388734,0.7961061445143611,0.798452580959624,0.8007193442304953,0.8029586752548188,0.8051315594278048,0.8072871170023436,0.8093762214236816,0.8114179579496452,0.8134314764585583,0.8153905256384887,0.8172924048250148,0.8191794744948617,0.8209950346897715,0.822778068739718,0.8245174497470275,0.8262322386579465,0.8279358787303723,0.8296319918027624,0.8313179151278746,0.8329444791875222,0.8345529276098872,0.836120825716311,0.8376698111218248,0.8391867972483096,0.8406835435300885,0.8421682619877495,0.843614039220987,0.8450309068617415,0.8464105220445871,0.8477792664167537,0.8491142492803092,0.8504425993792906,0.8517487195007051,0.8530467135778137,0.8543219503978852,0.8555937929865287,0.8568318913945566,0.8580616954107776,0.8592614090625487,0.860449822291681,0.8616266494637699,0.8627823738488035,0.8639025186858452,0.8650164516101356,0.8661024227351064,0.8671796078618975,0.8682313318045668,0.8692754062842123,0.8703138024378165,0.8713265883256031,0.8723315533154959,0.8733207572743982,0.8743026730367854,0.8752782273608011,0.8762436103317945,0.8771863063760051,0.8781237404712485,0.8790525557648499,0.8799757415796828,0.8808793009421457,0.8817740532801559,0.8826627890788834,0.8835331844212213,0.884401087177972,0.8852565371756851,0.8860955235444029,0.8869306934108906,0.8877587848759408,0.8885779685574544,0.8893865363751682,0.8901876688239302,0.8909724158259552,0.8917497010044996,0.8925224393546526,0.8932889178294943,0.8940449794758639,0.8947934304330422,0.8955315301353233,0.8962612315334348,0.8969876096131051,0.8977115314708303,0.8984270920717449,0.8991323809200016,0.8998282788460186,0.9005181684934503,0.9012018077166871,0.9018757624953779,0.9025492504905491,0.9032182966406039,0.9038765432262781,0.9045209323899821,0.9051613081416351,0.9057961998775554,0.906429476266787,0.9070503528312954,0.9076684136984516,0.908281816050265,0.9088902651854641,0.9094882287541853,0.910078103031115,0.9106644715488758,0.911244465768966,0.9118214161506216,0.9123969561194039,0.9129702703514448,0.9135355597523166,0.914096191971971,0.9146487460292165,0.9151973400290637,0.915741973830189,0.9162813763318098,0.9168135749502401,0.9173406445186657,0.9178612345643167,0.9183774660248296,0.9188901787044446,0.919400551399012,0.9199073015563384,0.9204107375676546,0.920908610294436,0.921399968523305,0.9218894173871693,0.9223749850126213,0.9228577116753938,0.9233355171577565,0.9238122674273612,0.9242826808439851,0.9247474298663619,0.9252114124041423,0.9256704777342615,0.9261270614475602,0.9265792502156044,0.9270258522461338,0.9274710021112699,0.9279141434557214,0.9283523023195451,0.928784087454018,0.9292147057051185,0.9296414733712564,0.9300649866369359,0.9304835101277686,0.930899559869482,0.9313114345336203,0.9317216338309565,0.9321290695177087,0.9325328820255758,0.9329352139823304,0.9333320109820598,0.9337275703256136,0.934120659981088,0.9345063610347099,0.9348901973176857,0.9352711574852909,0.9356507676760715,0.9360260981473568,0.9364001030865261,0.9367707249013916,0.9371390129600414,0.9375045630013654,0.9378673418412831,0.9382286430633414,0.9385887257102656,0.9389481482224876,0.9393034562829325,0.9396567855516071,0.9400060968835858,0.9403537848843609,0.9406994587207843,0.9410427048311798,0.9413837830344953,0.941723737012233,0.9420603827288121,0.9423944184738772,0.9427271625891347,0.9430558380251967,0.9433817705857962,0.9437069751214461,0.9440296180501688,0.9443510504244184,0.9446689258221105,0.9449849194043969,0.9452998496359717,0.945612872021155,0.9459243121440069,0.9462324559330576,0.9465387497609626,0.9468437668016606,0.947144793961171,0.947445128655753,0.9477445444759545,0.9480438477067079,0.9483401661530221,0.9486341655613412,0.9489272318644123,0.9492179727785738,0.9495061667553076,0.9497942252251054,0.9500797065688638,0.9503626786961992,0.9506423934339788,0.9509212890090991,0.9511985687026187,0.9514748822043694,0.9517491041400388,0.952021864170971,0.9522937407804335,0.952564656430407,0.9528336210970235,0.9531008756125398,0.9533647552215783,0.9536273743928642,0.9538896103478487,0.9541500312945045,0.9544091902752906,0.9546664948924064,0.9549206487839108,0.9551742701246074,0.9554270591600178,0.9556778281092992,0.9559262538217028,0.9561732199310037,0.9564196593888101,0.9566652534138274,0.9569096107092545,0.9571528088887644,0.9573934454425581,0.9576334355376841,0.9578720944531373,0.958107812255016,0.9583427179380769,0.958577306778355,0.958810896302009,0.9590409739827537,0.9592707599302981,0.9594996174011511,0.9597271903671919,0.9599544803433246,0.9601815012167458,0.9604065343560491,0.9606309620995566,0.9608534001771887,0.9610730222500335,0.9612904878613602,0.9615058901768283,0.9617204931977373,0.9619344838917279,0.9621483591757615,0.9623601985977123,0.9625707652330269,0.9627801639716501,0.9629885903680792,0.9631958391349336,0.963402683221461,0.9636081836837116,0.9638127675080428,0.9640156569734963,0.9642178700178995,0.9644188753860355,0.9646197076164253,0.96481842917893,0.9650152536775859,0.9652117854937732,0.9654070701826747,0.9656011489232862,0.9657933801864994,0.9659852047172596,0.9661766015226074,0.9663663973090065,0.9665553043764623,0.9667435586811063,0.9669307496860979,0.967116411383727,0.9673015059696274,0.9674850729803841,0.9676681144632131,0.9678499974863801,0.9680316202340938,0.9682116141770434,0.9683911507500724,0.9685690654829174,0.9687457991551367,0.9689215311698449,0.9690970509401152,0.9692711001220501,0.9694447671654427,0.9696180076532429,0.9697902312968225,0.9699611246892573,0.9701316483356268,0.9703008956178274,0.9704696873768431,0.9706382869429929,0.9708061616371021,0.9709738182236055,0.9711400597848192,0.9713053208535559,0.9714699467707552,0.9716342127692753,0.971797208108483,0.9719588966119953,0.972119039051598,0.9722781797449184,0.972436954018841,0.9725950149216476,0.9727514273654795,0.9729071129071635,0.9730623936114331,0.9732167057846054,0.9733709444956676,0.9735242037296538,0.9736757036299594,0.9738261548232968,0.9739759404894381,0.9741246281648076,0.9742731556679994,0.9744208535118745,0.9745681644346932,0.9747138768189676,0.9748582964157949,0.9750025723371628,0.9751458268849116,0.9752887683923799,0.9754310662953467,0.9755727238209437,0.9757136104976654,0.9758534545426827,0.9759928912903857,0.9761311813255086,0.9762690348550213,0.9764066350879382,0.97654398722578,0.9766805293184514,0.9768164825458353,0.9769519438354893,0.977086781702543,0.9772202883900751,0.9773535382806202,0.97748625298751,0.9776185738158945,0.977750107482769,0.9778808137782355,0.9780108551823238,0.9781405089656208,0.9782696176337561,0.9783979781486797,0.9785253991630388,0.9786524382922656,0.9787788253269363,0.9789047772794063,0.9790299980964429,0.9791548619093738,0.9792785287926422,0.9794017141876689,0.9795240437629028,0.9796455403572533,0.9797666052671227,0.9798871016896743,0.9800069715875956,0.9801265893964246,0.9802453291843728,0.9803634719560248,0.9804812069684624,0.9805982543666458,0.9807148318566775,0.9808309705975394,0.9809462974404674,0.9810608543929005,0.9811751684243557,0.9812890896237801,0.9814029314464692,0.9815154558334256,0.9816275467198005,0.9817389654071756,0.9818495935247139,0.9819599801052638,0.982069960380734,0.9821793945931757,0.9822883534243183,0.9823965633545486,0.9825046402731407,0.9826118570855479,0.982718600352099,0.982825070610041,0.9829313773358163,0.9830368518308684,0.9831418916534311,0.9832464091343172,0.9833504044324146,0.9834538421220771,0.9835568570961588,0.9836593634122301,0.983761645027594,0.9838631275490095,0.9839640846808441,0.9840646257733517,0.9841648006190976,0.9842642397778577,0.9843632644443928,0.984461871613553,0.9845599651548872,0.9846578188952106,0.9847549983321422,0.9848517873075344,0.9849484221634143,0.9850443895374337,0.9851396894049053,0.9852345468374096,0.9853290890357561,0.9854233649949374,0.985517064666502,0.9856105401468641,0.9857032090356014,0.9857954161732636,0.985887259475401,0.9859786785517082,0.986069789589751,0.9861604625291418,0.9862505455128503,0.9863403897116829,0.9864301500688866,0.9865196277637995,0.9866077013441044,0.9866953847432448,0.9867825496292427,0.9868692703759616,0.9869557151172683,0.9870412876699931,0.9871266223428953,0.9872118775161866,0.987296170065706,0.9873801269374037,0.9874637251786729,0.9875469812330911,0.9876300051734231,0.9877128298403883,0.9877951798848219,0.9878771280194545,0.9879587704156263,0.9880398123901922,0.9881206509765372,0.9882011696707687,0.9882815213099796,0.9883613730741457,0.9884408589233104,0.9885200278649839,0.9885989108188722,0.9886768957316181,0.9887544464682683,0.9888315523900476,0.9889083841796283,0.9889846495844138,0.9890607671608874,0.9891368446732182,0.989212423285037,0.9892877242650275,0.9893627082416506,0.9894371164033811,0.989511413901451,0.9895853254008419,0.989659022541219,0.9897324245796377,0.9898054646515756,0.9898780227751692,0.9899500658186143,0.990021739567131,0.9900931400371671,0.9901640235883624,0.9902345585083494,0.990304666630675,0.9903745945381806,0.9904439192849028,0.9905129800848046,0.9905815471744412,0.9906497009605365,0.9907175741681439,0.990785315080771,0.9908528135327485,0.9909198637274734,0.9909866053015385,0.9910531015866972,0.9911194661924946,0.9911856194107443,0.9912512739387805,0.9913166827869105,0.9913818935421257,0.9914464442251377,0.9915107328530752,0.9915746263366241,0.9916382995088234,0.9917016770517701,0.9917646784752175,0.9918274800782348,0.9918901357739137,0.9919525639935033,0.9920146249280171,0.9920761363779831,0.9921374595414808,0.9921985677446244,0.9922593969478292,0.992320084453418,0.9923806586839033,0.9924408028875956,0.9925005128045471,0.9925601216410608,0.992619192985616,0.992678043320443,0.9927366306915141,0.9927948240060968,0.9928528281319258,0.992910467665592,0.9929679893073583,0.9930254365602516,0.9930823273429531,0.9931390509014427,0.9931954261663422,0.9932513885986056,0.993307143836485,0.9933626381079748,0.9934178104024446,0.9934727976906788,0.9935276838849176,0.9935822612765421,0.9936365018278501,0.9936904044540792,0.9937440136131701,0.9937973587312537,0.9938505735119966,0.993903468999945,0.9939560454230851,0.9940081754603401,0.994060046450032,0.9941117898935347,0.9941631188744656,0.9942141324715128,0.9942650008483235,0.9943156741056184,0.9943661532900352,0.9944164088354933,0.9944663371470671,0.9945161620801486,0.9945656617115082,0.9946145506878437,0.9946631502423557,0.9947116030797759,0.9947594218015797,0.9948071491779082,0.994854629264404,0.9949018891079058,0.9949487639187754,0.9949955403547117,0.9950420799017423,0.995088290927996,0.9951344330499351,0.9951803374039742,0.9952259770830091,0.9952714154822522,0.9953165943870205,0.9953616097002775,0.9954062596027458,0.9954505530553797,0.9954945945310009,0.9955384588896549,0.9955821823549039,0.9956256702195679,0.9956689954574413,0.9957119826377385,0.9957549194283202,0.9957976049301084,0.9958400214301555,0.995882383817237,0.9959245373817766,0.9959663830727054,0.9960078942009393,0.9960492159145258,0.9960903227866613,0.9961310984126335,0.9961716562969521,0.9962121249539542,0.9962523837597966,0.9962923153742067,0.9963321145360644,0.9963713249068715,0.9964102648059326,0.9964490969531522,0.9964878411651674,0.9965263008933828,0.9965646226846117,0.9966025574703505,0.9966402590494361,0.9966778224925714,0.9967152156034198,0.9967522698702711,0.9967889856142395,0.9968255156933081,0.9968617772301852,0.9968979013035514,0.9969338290888121,0.9969696100823571,0.9970051404866644,0.9970404605589718,0.9970755048196951,0.9971104576777754,0.9971450431500064,0.9971794037025625,0.9972137078834855,0.9972477861457923,0.997281469293752,0.9973149601260043,0.9973481001045367,0.9973811236744863,0.9974140432465596,0.9974468786491086,0.9974794401239767,0.9975116998750798,0.9975438133007567,0.9975756999815492,0.997607513409333,0.9976389488060803,0.9976702242296164,0.9977014558577814,0.9977324259930657,0.9977630103154306,0.9977935144791514,0.9978236988164557,0.9978537355289379,0.9978836581074002,0.9979133195308176,0.9979427621618067,0.9979721648504243,0.9980010563143354,0.9980299362499049,0.9980586049012623,0.9980869029322682,0.99811507255715,0.9981431206949338,0.9981710395361821,0.9981989455930204,0.998226412122592,0.9982537321630043,0.9982807181610663,0.9983076010016506,0.9983343661549414,0.9983609475197949,0.9983872569369951,0.9984135122108474,0.998439541756978,0.9984653829279275,0.9984911014176279,0.9985163916520297,0.9985414627690639,0.9985662552508923,0.9985908211010621,0.9986153563492346,0.9986397686213181,0.9986640184456937,0.9986881201569506,0.9987119862414475,0.9987355467654193,0.9987588978421633,0.998782154997386,0.9988052142452716,0.9988281305351315,0.9988506425046313,0.9988731208345984,0.998895312222713,0.998917427258962,0.9989393885273472,0.9989611189293273,0.9989826618767388,0.999004044917743,0.9990252817732609,0.9990462627401079,0.9990672192810776,0.9990878954306742,0.9991084410325503,0.9991287305471594,0.9991487694090003,0.9991686716463481,0.9991885198791265,0.9992081784281395,0.999227668896539,0.9992468477692275,0.9992657619441162,0.9992844485923005,0.99930300600947,0.999321264631268,0.9993392186011919,0.9993570365104951,0.999374674900974,0.9993921373167918,0.9994095209772895,0.9994266360977406,0.9994437082022931,0.9994604862420059,0.9994770058906108,0.9994934597361385,0.9995095884063586,0.9995256105078749,0.9995414304036133,0.9995571414127942,0.9995726972687525,0.9995880835490623,0.9996033380545825,0.999618263304958,0.9996329818784248,0.9996475917507135,0.9996620913554982,0.9996764852878863,0.9996906051668967,0.9997045078892692,0.9997181325395037,0.9997315770909871,0.9997445723998645,0.9997574769013631,0.9997701926293889,0.9997828152881351,0.9997953012706656,0.9998075329281645,0.9998194722498168,0.999831127355907,0.9998426488406643,0.9998538044756237,0.9998646982115027,0.9998753655487757,0.9998858351852568,0.9998958979380178,0.9999056432314661,0.9999153454323145,0.9999244454214374,0.9999334491807629,0.9999422096975745,0.9999508947027379,0.999959266207587,0.9999672008687501,0.9999749315944031,0.9999823014723571,0.9999889210005141,0.9999947646703612,0.9999999999999993],\"type\":\"scatter\",\"xaxis\":\"x2\",\"yaxis\":\"y2\"}],                        {\"template\":{\"data\":{\"bar\":[{\"error_x\":{\"color\":\"#2a3f5f\"},\"error_y\":{\"color\":\"#2a3f5f\"},\"marker\":{\"line\":{\"color\":\"#E5ECF6\",\"width\":0.5},\"pattern\":{\"fillmode\":\"overlay\",\"size\":10,\"solidity\":0.2}},\"type\":\"bar\"}],\"barpolar\":[{\"marker\":{\"line\":{\"color\":\"#E5ECF6\",\"width\":0.5},\"pattern\":{\"fillmode\":\"overlay\",\"size\":10,\"solidity\":0.2}},\"type\":\"barpolar\"}],\"carpet\":[{\"aaxis\":{\"endlinecolor\":\"#2a3f5f\",\"gridcolor\":\"white\",\"linecolor\":\"white\",\"minorgridcolor\":\"white\",\"startlinecolor\":\"#2a3f5f\"},\"baxis\":{\"endlinecolor\":\"#2a3f5f\",\"gridcolor\":\"white\",\"linecolor\":\"white\",\"minorgridcolor\":\"white\",\"startlinecolor\":\"#2a3f5f\"},\"type\":\"carpet\"}],\"choropleth\":[{\"colorbar\":{\"outlinewidth\":0,\"ticks\":\"\"},\"type\":\"choropleth\"}],\"contour\":[{\"colorbar\":{\"outlinewidth\":0,\"ticks\":\"\"},\"colorscale\":[[0.0,\"#0d0887\"],[0.1111111111111111,\"#46039f\"],[0.2222222222222222,\"#7201a8\"],[0.3333333333333333,\"#9c179e\"],[0.4444444444444444,\"#bd3786\"],[0.5555555555555556,\"#d8576b\"],[0.6666666666666666,\"#ed7953\"],[0.7777777777777778,\"#fb9f3a\"],[0.8888888888888888,\"#fdca26\"],[1.0,\"#f0f921\"]],\"type\":\"contour\"}],\"contourcarpet\":[{\"colorbar\":{\"outlinewidth\":0,\"ticks\":\"\"},\"type\":\"contourcarpet\"}],\"heatmap\":[{\"colorbar\":{\"outlinewidth\":0,\"ticks\":\"\"},\"colorscale\":[[0.0,\"#0d0887\"],[0.1111111111111111,\"#46039f\"],[0.2222222222222222,\"#7201a8\"],[0.3333333333333333,\"#9c179e\"],[0.4444444444444444,\"#bd3786\"],[0.5555555555555556,\"#d8576b\"],[0.6666666666666666,\"#ed7953\"],[0.7777777777777778,\"#fb9f3a\"],[0.8888888888888888,\"#fdca26\"],[1.0,\"#f0f921\"]],\"type\":\"heatmap\"}],\"heatmapgl\":[{\"colorbar\":{\"outlinewidth\":0,\"ticks\":\"\"},\"colorscale\":[[0.0,\"#0d0887\"],[0.1111111111111111,\"#46039f\"],[0.2222222222222222,\"#7201a8\"],[0.3333333333333333,\"#9c179e\"],[0.4444444444444444,\"#bd3786\"],[0.5555555555555556,\"#d8576b\"],[0.6666666666666666,\"#ed7953\"],[0.7777777777777778,\"#fb9f3a\"],[0.8888888888888888,\"#fdca26\"],[1.0,\"#f0f921\"]],\"type\":\"heatmapgl\"}],\"histogram\":[{\"marker\":{\"pattern\":{\"fillmode\":\"overlay\",\"size\":10,\"solidity\":0.2}},\"type\":\"histogram\"}],\"histogram2d\":[{\"colorbar\":{\"outlinewidth\":0,\"ticks\":\"\"},\"colorscale\":[[0.0,\"#0d0887\"],[0.1111111111111111,\"#46039f\"],[0.2222222222222222,\"#7201a8\"],[0.3333333333333333,\"#9c179e\"],[0.4444444444444444,\"#bd3786\"],[0.5555555555555556,\"#d8576b\"],[0.6666666666666666,\"#ed7953\"],[0.7777777777777778,\"#fb9f3a\"],[0.8888888888888888,\"#fdca26\"],[1.0,\"#f0f921\"]],\"type\":\"histogram2d\"}],\"histogram2dcontour\":[{\"colorbar\":{\"outlinewidth\":0,\"ticks\":\"\"},\"colorscale\":[[0.0,\"#0d0887\"],[0.1111111111111111,\"#46039f\"],[0.2222222222222222,\"#7201a8\"],[0.3333333333333333,\"#9c179e\"],[0.4444444444444444,\"#bd3786\"],[0.5555555555555556,\"#d8576b\"],[0.6666666666666666,\"#ed7953\"],[0.7777777777777778,\"#fb9f3a\"],[0.8888888888888888,\"#fdca26\"],[1.0,\"#f0f921\"]],\"type\":\"histogram2dcontour\"}],\"mesh3d\":[{\"colorbar\":{\"outlinewidth\":0,\"ticks\":\"\"},\"type\":\"mesh3d\"}],\"parcoords\":[{\"line\":{\"colorbar\":{\"outlinewidth\":0,\"ticks\":\"\"}},\"type\":\"parcoords\"}],\"pie\":[{\"automargin\":true,\"type\":\"pie\"}],\"scatter\":[{\"marker\":{\"colorbar\":{\"outlinewidth\":0,\"ticks\":\"\"}},\"type\":\"scatter\"}],\"scatter3d\":[{\"line\":{\"colorbar\":{\"outlinewidth\":0,\"ticks\":\"\"}},\"marker\":{\"colorbar\":{\"outlinewidth\":0,\"ticks\":\"\"}},\"type\":\"scatter3d\"}],\"scattercarpet\":[{\"marker\":{\"colorbar\":{\"outlinewidth\":0,\"ticks\":\"\"}},\"type\":\"scattercarpet\"}],\"scattergeo\":[{\"marker\":{\"colorbar\":{\"outlinewidth\":0,\"ticks\":\"\"}},\"type\":\"scattergeo\"}],\"scattergl\":[{\"marker\":{\"colorbar\":{\"outlinewidth\":0,\"ticks\":\"\"}},\"type\":\"scattergl\"}],\"scattermapbox\":[{\"marker\":{\"colorbar\":{\"outlinewidth\":0,\"ticks\":\"\"}},\"type\":\"scattermapbox\"}],\"scatterpolar\":[{\"marker\":{\"colorbar\":{\"outlinewidth\":0,\"ticks\":\"\"}},\"type\":\"scatterpolar\"}],\"scatterpolargl\":[{\"marker\":{\"colorbar\":{\"outlinewidth\":0,\"ticks\":\"\"}},\"type\":\"scatterpolargl\"}],\"scatterternary\":[{\"marker\":{\"colorbar\":{\"outlinewidth\":0,\"ticks\":\"\"}},\"type\":\"scatterternary\"}],\"surface\":[{\"colorbar\":{\"outlinewidth\":0,\"ticks\":\"\"},\"colorscale\":[[0.0,\"#0d0887\"],[0.1111111111111111,\"#46039f\"],[0.2222222222222222,\"#7201a8\"],[0.3333333333333333,\"#9c179e\"],[0.4444444444444444,\"#bd3786\"],[0.5555555555555556,\"#d8576b\"],[0.6666666666666666,\"#ed7953\"],[0.7777777777777778,\"#fb9f3a\"],[0.8888888888888888,\"#fdca26\"],[1.0,\"#f0f921\"]],\"type\":\"surface\"}],\"table\":[{\"cells\":{\"fill\":{\"color\":\"#EBF0F8\"},\"line\":{\"color\":\"white\"}},\"header\":{\"fill\":{\"color\":\"#C8D4E3\"},\"line\":{\"color\":\"white\"}},\"type\":\"table\"}]},\"layout\":{\"annotationdefaults\":{\"arrowcolor\":\"#2a3f5f\",\"arrowhead\":0,\"arrowwidth\":1},\"autotypenumbers\":\"strict\",\"coloraxis\":{\"colorbar\":{\"outlinewidth\":0,\"ticks\":\"\"}},\"colorscale\":{\"diverging\":[[0,\"#8e0152\"],[0.1,\"#c51b7d\"],[0.2,\"#de77ae\"],[0.3,\"#f1b6da\"],[0.4,\"#fde0ef\"],[0.5,\"#f7f7f7\"],[0.6,\"#e6f5d0\"],[0.7,\"#b8e186\"],[0.8,\"#7fbc41\"],[0.9,\"#4d9221\"],[1,\"#276419\"]],\"sequential\":[[0.0,\"#0d0887\"],[0.1111111111111111,\"#46039f\"],[0.2222222222222222,\"#7201a8\"],[0.3333333333333333,\"#9c179e\"],[0.4444444444444444,\"#bd3786\"],[0.5555555555555556,\"#d8576b\"],[0.6666666666666666,\"#ed7953\"],[0.7777777777777778,\"#fb9f3a\"],[0.8888888888888888,\"#fdca26\"],[1.0,\"#f0f921\"]],\"sequentialminus\":[[0.0,\"#0d0887\"],[0.1111111111111111,\"#46039f\"],[0.2222222222222222,\"#7201a8\"],[0.3333333333333333,\"#9c179e\"],[0.4444444444444444,\"#bd3786\"],[0.5555555555555556,\"#d8576b\"],[0.6666666666666666,\"#ed7953\"],[0.7777777777777778,\"#fb9f3a\"],[0.8888888888888888,\"#fdca26\"],[1.0,\"#f0f921\"]]},\"colorway\":[\"#636efa\",\"#EF553B\",\"#00cc96\",\"#ab63fa\",\"#FFA15A\",\"#19d3f3\",\"#FF6692\",\"#B6E880\",\"#FF97FF\",\"#FECB52\"],\"font\":{\"color\":\"#2a3f5f\"},\"geo\":{\"bgcolor\":\"white\",\"lakecolor\":\"white\",\"landcolor\":\"#E5ECF6\",\"showlakes\":true,\"showland\":true,\"subunitcolor\":\"white\"},\"hoverlabel\":{\"align\":\"left\"},\"hovermode\":\"closest\",\"mapbox\":{\"style\":\"light\"},\"paper_bgcolor\":\"white\",\"plot_bgcolor\":\"#E5ECF6\",\"polar\":{\"angularaxis\":{\"gridcolor\":\"white\",\"linecolor\":\"white\",\"ticks\":\"\"},\"bgcolor\":\"#E5ECF6\",\"radialaxis\":{\"gridcolor\":\"white\",\"linecolor\":\"white\",\"ticks\":\"\"}},\"scene\":{\"xaxis\":{\"backgroundcolor\":\"#E5ECF6\",\"gridcolor\":\"white\",\"gridwidth\":2,\"linecolor\":\"white\",\"showbackground\":true,\"ticks\":\"\",\"zerolinecolor\":\"white\"},\"yaxis\":{\"backgroundcolor\":\"#E5ECF6\",\"gridcolor\":\"white\",\"gridwidth\":2,\"linecolor\":\"white\",\"showbackground\":true,\"ticks\":\"\",\"zerolinecolor\":\"white\"},\"zaxis\":{\"backgroundcolor\":\"#E5ECF6\",\"gridcolor\":\"white\",\"gridwidth\":2,\"linecolor\":\"white\",\"showbackground\":true,\"ticks\":\"\",\"zerolinecolor\":\"white\"}},\"shapedefaults\":{\"line\":{\"color\":\"#2a3f5f\"}},\"ternary\":{\"aaxis\":{\"gridcolor\":\"white\",\"linecolor\":\"white\",\"ticks\":\"\"},\"baxis\":{\"gridcolor\":\"white\",\"linecolor\":\"white\",\"ticks\":\"\"},\"bgcolor\":\"#E5ECF6\",\"caxis\":{\"gridcolor\":\"white\",\"linecolor\":\"white\",\"ticks\":\"\"}},\"title\":{\"x\":0.05},\"xaxis\":{\"automargin\":true,\"gridcolor\":\"white\",\"linecolor\":\"white\",\"ticks\":\"\",\"title\":{\"standoff\":15},\"zerolinecolor\":\"white\",\"zerolinewidth\":2},\"yaxis\":{\"automargin\":true,\"gridcolor\":\"white\",\"linecolor\":\"white\",\"ticks\":\"\",\"title\":{\"standoff\":15},\"zerolinecolor\":\"white\",\"zerolinewidth\":2}}},\"xaxis\":{\"anchor\":\"y\",\"domain\":[0.0,1.0]},\"yaxis\":{\"anchor\":\"x\",\"domain\":[0.625,1.0]},\"xaxis2\":{\"anchor\":\"y2\",\"domain\":[0.0,1.0]},\"yaxis2\":{\"anchor\":\"x2\",\"domain\":[0.0,0.375]},\"annotations\":[{\"font\":{\"size\":16},\"showarrow\":false,\"text\":\"Eigenvalues of Covariance Matrix\",\"x\":0.5,\"xanchor\":\"center\",\"xref\":\"paper\",\"y\":1.0,\"yanchor\":\"bottom\",\"yref\":\"paper\"},{\"font\":{\"size\":16},\"showarrow\":false,\"text\":\"Cumulative Sum of Eigenvalues\",\"x\":0.5,\"xanchor\":\"center\",\"xref\":\"paper\",\"y\":0.375,\"yanchor\":\"bottom\",\"yref\":\"paper\"}],\"title\":{\"text\":\"Covariance Matrix Eigenvalues and Cumulative Sum\"},\"showlegend\":true},                        {\"responsive\": true}                    ).then(function(){\n",
       "                            \n",
       "var gd = document.getElementById('3508b8c5-af19-4fd7-ac7c-1dd39c85ab82');\n",
       "var x = new MutationObserver(function (mutations, observer) {{\n",
       "        var display = window.getComputedStyle(gd).display;\n",
       "        if (!display || display === 'none') {{\n",
       "            console.log([gd, 'removed!']);\n",
       "            Plotly.purge(gd);\n",
       "            observer.disconnect();\n",
       "        }}\n",
       "}});\n",
       "\n",
       "// Listen for the removal of the full notebook cells\n",
       "var notebookContainer = gd.closest('#notebook-container');\n",
       "if (notebookContainer) {{\n",
       "    x.observe(notebookContainer, {childList: true});\n",
       "}}\n",
       "\n",
       "// Listen for the clearing of the current output cell\n",
       "var outputEl = gd.closest('.output');\n",
       "if (outputEl) {{\n",
       "    x.observe(outputEl, {childList: true});\n",
       "}}\n",
       "\n",
       "                        })                };                });            </script>        </div>"
      ]
     },
     "metadata": {},
     "output_type": "display_data"
    }
   ],
   "source": [
    "import chart_studio.plotly as py\n",
    "import chart_studio.tools as tls\n",
    "# Get the eigenvalues and eigenvectors from the PCA Algorithm:\n",
    "eig_vals, eig_vecs = pca.compute_eigen_vector(cov_mat) \n",
    "\n",
    "# get Explained variance and cumulative variance from PCA Algorithm:\n",
    "explained_variance = pca.compute_explained_variance( eig_vals)\n",
    "cumulative_sum     = pca.cumulative_sum(explained_variance)\n",
    " \n",
    "# visualize the eigenvalues and the cumulative \n",
    "from plotly.subplots import make_subplots\n",
    "# Create subplots\n",
    "fig = make_subplots(rows=2, cols=1, subplot_titles=('Eigenvalues of Covariance Matrix', 'Cumulative Sum of Eigenvalues'))\n",
    "\n",
    "# Plot the sorted eigenvalues in the top subplot\n",
    "trace1 = go.Scatter(x=np.arange(1, len(eig_vals) + 1), y=eig_vals, mode='lines+markers', name='Eigenvalues')\n",
    "fig.add_trace(trace1, row=1, col=1)\n",
    "\n",
    "# Plot the cumulative sum of the sorted eigenvalues in the bottom subplot\n",
    "trace2 = go.Scatter(x=np.arange(1, len(cumulative_sum) + 1), y=cumulative_sum, mode='lines+markers', name='Cumulative Sum')\n",
    "fig.add_trace(trace2, row=2, col=1)\n",
    "\n",
    "# Update layout\n",
    "fig.update_layout(title='Covariance Matrix Eigenvalues and Cumulative Sum', showlegend=True)\n",
    "\n",
    "# Show the plot\n",
    "fig.show()"
   ]
  },
  {
   "cell_type": "markdown",
   "id": "ef4b2ebb",
   "metadata": {},
   "source": [
    "### Check Orthogonality of Eigenvectors"
   ]
  },
  {
   "cell_type": "code",
   "execution_count": 12,
   "id": "feecddca",
   "metadata": {},
   "outputs": [
    {
     "name": "stdout",
     "output_type": "stream",
     "text": [
      "Eigenvectors are orthogonal.\n"
     ]
    },
    {
     "data": {
      "text/plain": [
       "True"
      ]
     },
     "execution_count": 12,
     "metadata": {},
     "output_type": "execute_result"
    }
   ],
   "source": [
    "# Check orthogonality\n",
    "# Check the dot product between each pair of PC is null\n",
    "is_orthogonal = np.allclose(np.dot(eig_vecs.T, eig_vecs), np.eye(eig_vecs.shape[1]))\n",
    "\n",
    "if is_orthogonal:\n",
    "    print(\"Eigenvectors are orthogonal.\")\n",
    "else:\n",
    "    print(\"Eigenvectors are not orthogonal.\")\n",
    "is_orthogonal"
   ]
  },
  {
   "cell_type": "markdown",
   "id": "8b16c697",
   "metadata": {},
   "source": [
    "## The Sum of Squares of The Loadings:\n"
   ]
  },
  {
   "cell_type": "code",
   "execution_count": 15,
   "id": "8fba3873",
   "metadata": {},
   "outputs": [],
   "source": [
    "# Calculate the sum of squares for each column\n",
    "sum_of_squares = np.sum(eig_vecs ** 2, axis=0)\n",
    "#sum_of_squares"
   ]
  },
  {
   "cell_type": "markdown",
   "id": "9a9c6045",
   "metadata": {},
   "source": [
    "## The Weight Matrix "
   ]
  },
  {
   "cell_type": "code",
   "execution_count": 7,
   "id": "76af9a37",
   "metadata": {},
   "outputs": [
    {
     "data": {
      "text/plain": [
       "(784, 47)"
      ]
     },
     "execution_count": 7,
     "metadata": {},
     "output_type": "execute_result"
    }
   ],
   "source": [
    "# Sort eigenvalues and corresponding eigenvectors\n",
    "sorted_indices = np.argsort(eig_vals)[::-1]  # Sort in descending order\n",
    "sorted_eig_vals = eig_vals[sorted_indices]\n",
    "sorted_eig_vecs = eig_vecs[:, sorted_indices]\n",
    "# Create a list of tuples\n",
    "eigenvalue_vector_tuples = [(eig_val, eig_vec) for eig_val, eig_vec in zip(sorted_eig_vals, sorted_eig_vecs.T)]\n",
    "pca_components = pca.compute_weight_matrix(eigenvalue_vector_tuples, cumulative_sum)\n",
    "# the number of principal components needed to capture 80% of explained variance\n",
    "pca_components.shape"
   ]
  },
  {
   "cell_type": "code",
   "execution_count": 16,
   "id": "043fe659",
   "metadata": {},
   "outputs": [
    {
     "data": {
      "application/vnd.plotly.v1+json": {
       "config": {
        "plotlyServerURL": "https://plotly.com"
       },
       "data": [
        {
         "colorbar": {
          "title": {
           "text": "Colorbar Title"
          }
         },
         "colorscale": [
          [
           0,
           "#440154"
          ],
          [
           0.1111111111111111,
           "#482878"
          ],
          [
           0.2222222222222222,
           "#3e4989"
          ],
          [
           0.3333333333333333,
           "#31688e"
          ],
          [
           0.4444444444444444,
           "#26828e"
          ],
          [
           0.5555555555555556,
           "#1f9e89"
          ],
          [
           0.6666666666666666,
           "#35b779"
          ],
          [
           0.7777777777777778,
           "#6ece58"
          ],
          [
           0.8888888888888888,
           "#b5de2b"
          ],
          [
           1,
           "#fde725"
          ]
         ],
         "showscale": true,
         "type": "heatmap",
         "x": [
          "PC1",
          "PC2",
          "PC3",
          "PC4",
          "PC5",
          "PC6",
          "PC7",
          "PC8",
          "PC9",
          "PC10"
         ],
         "xaxis": "x",
         "y": [
          "pixel1",
          "pixel2",
          "pixel3",
          "pixel4",
          "pixel5",
          "pixel6",
          "pixel7",
          "pixel8",
          "pixel9",
          "pixel10"
         ],
         "yaxis": "y",
         "z": [
          [
           0,
           0.002,
           -0.002,
           -0.004,
           0.004,
           -0.005,
           0.009,
           -0.004,
           0.004,
           -0.006
          ],
          [
           0.002,
           0.004,
           -0.002,
           -0.012,
           0.018,
           -0.003,
           0.015,
           -0.024,
           -0.071,
           -0.093
          ],
          [
           0.002,
           0.004,
           -0.002,
           -0.012,
           0.017,
           -0.003,
           0.015,
           -0.024,
           -0.067,
           -0.091
          ],
          [
           0.003,
           0.003,
           -0.004,
           -0.013,
           0.024,
           0.001,
           0.008,
           -0.025,
           -0.069,
           -0.094
          ],
          [
           0.004,
           0.003,
           -0.005,
           -0.015,
           0.025,
           -0.001,
           0.001,
           -0.03,
           -0.069,
           -0.094
          ],
          [
           0.005,
           0.003,
           -0.008,
           -0.017,
           0.026,
           -0.001,
           -0.004,
           -0.035,
           -0.066,
           -0.097
          ],
          [
           0.006,
           0.002,
           -0.014,
           -0.016,
           0.028,
           -0.005,
           -0.014,
           -0.034,
           -0.049,
           -0.096
          ],
          [
           0.009,
           -0.001,
           -0.018,
           -0.017,
           0.032,
           -0.013,
           -0.025,
           -0.03,
           -0.03,
           -0.09
          ],
          [
           0.014,
           -0.005,
           -0.019,
           -0.018,
           0.036,
           -0.013,
           -0.035,
           -0.032,
           -0.006,
           -0.083
          ],
          [
           0.019,
           -0.018,
           -0.011,
           -0.017,
           0.035,
           0,
           -0.029,
           -0.033,
           0.024,
           -0.075
          ]
         ]
        },
        {
         "text": [
          "22.04%",
          "14.44%",
          "5.49%",
          "5.05%",
          "3.99%",
          "3.01%",
          "2.8%",
          "2.26%",
          "1.74%",
          "1.4%"
         ],
         "type": "bar",
         "x": [
          "PC1",
          "PC2",
          "PC3",
          "PC4",
          "PC5",
          "PC6",
          "PC7",
          "PC8",
          "PC9",
          "PC10"
         ],
         "xaxis": "x2",
         "y": [
          22.03887001697357,
          14.443455481664335,
          5.489046257700921,
          5.04526482251751,
          3.989157171797849,
          3.0111802251395594,
          2.7992552321998843,
          2.262399095844702,
          1.73828785171582,
          1.3953448968639652
         ],
         "yaxis": "y2"
        }
       ],
       "layout": {
        "annotations": [
         {
          "font": {
           "size": 16
          },
          "showarrow": false,
          "text": "PCA Heatmap",
          "x": 0.225,
          "xanchor": "center",
          "xref": "paper",
          "y": 1,
          "yanchor": "bottom",
          "yref": "paper"
         },
         {
          "font": {
           "size": 16
          },
          "showarrow": false,
          "text": "Explained Variance",
          "x": 0.775,
          "xanchor": "center",
          "xref": "paper",
          "y": 1,
          "yanchor": "bottom",
          "yref": "paper"
         },
         {
          "font": {
           "size": 10
          },
          "showarrow": false,
          "text": "0.0",
          "x": "PC1",
          "y": "pixel1"
         },
         {
          "font": {
           "size": 10
          },
          "showarrow": false,
          "text": "0.002",
          "x": "PC2",
          "y": "pixel1"
         },
         {
          "font": {
           "size": 10
          },
          "showarrow": false,
          "text": "-0.002",
          "x": "PC3",
          "y": "pixel1"
         },
         {
          "font": {
           "size": 10
          },
          "showarrow": false,
          "text": "-0.004",
          "x": "PC4",
          "y": "pixel1"
         },
         {
          "font": {
           "size": 10
          },
          "showarrow": false,
          "text": "0.004",
          "x": "PC5",
          "y": "pixel1"
         },
         {
          "font": {
           "size": 10
          },
          "showarrow": false,
          "text": "-0.005",
          "x": "PC6",
          "y": "pixel1"
         },
         {
          "font": {
           "size": 10
          },
          "showarrow": false,
          "text": "0.009",
          "x": "PC7",
          "y": "pixel1"
         },
         {
          "font": {
           "size": 10
          },
          "showarrow": false,
          "text": "-0.004",
          "x": "PC8",
          "y": "pixel1"
         },
         {
          "font": {
           "size": 10
          },
          "showarrow": false,
          "text": "0.004",
          "x": "PC9",
          "y": "pixel1"
         },
         {
          "font": {
           "size": 10
          },
          "showarrow": false,
          "text": "-0.006",
          "x": "PC10",
          "y": "pixel1"
         },
         {
          "font": {
           "size": 10
          },
          "showarrow": false,
          "text": "0.002",
          "x": "PC1",
          "y": "pixel2"
         },
         {
          "font": {
           "size": 10
          },
          "showarrow": false,
          "text": "0.004",
          "x": "PC2",
          "y": "pixel2"
         },
         {
          "font": {
           "size": 10
          },
          "showarrow": false,
          "text": "-0.002",
          "x": "PC3",
          "y": "pixel2"
         },
         {
          "font": {
           "size": 10
          },
          "showarrow": false,
          "text": "-0.012",
          "x": "PC4",
          "y": "pixel2"
         },
         {
          "font": {
           "size": 10
          },
          "showarrow": false,
          "text": "0.018",
          "x": "PC5",
          "y": "pixel2"
         },
         {
          "font": {
           "size": 10
          },
          "showarrow": false,
          "text": "-0.003",
          "x": "PC6",
          "y": "pixel2"
         },
         {
          "font": {
           "size": 10
          },
          "showarrow": false,
          "text": "0.015",
          "x": "PC7",
          "y": "pixel2"
         },
         {
          "font": {
           "size": 10
          },
          "showarrow": false,
          "text": "-0.024",
          "x": "PC8",
          "y": "pixel2"
         },
         {
          "font": {
           "size": 10
          },
          "showarrow": false,
          "text": "-0.071",
          "x": "PC9",
          "y": "pixel2"
         },
         {
          "font": {
           "size": 10
          },
          "showarrow": false,
          "text": "-0.093",
          "x": "PC10",
          "y": "pixel2"
         },
         {
          "font": {
           "size": 10
          },
          "showarrow": false,
          "text": "0.002",
          "x": "PC1",
          "y": "pixel3"
         },
         {
          "font": {
           "size": 10
          },
          "showarrow": false,
          "text": "0.004",
          "x": "PC2",
          "y": "pixel3"
         },
         {
          "font": {
           "size": 10
          },
          "showarrow": false,
          "text": "-0.002",
          "x": "PC3",
          "y": "pixel3"
         },
         {
          "font": {
           "size": 10
          },
          "showarrow": false,
          "text": "-0.012",
          "x": "PC4",
          "y": "pixel3"
         },
         {
          "font": {
           "size": 10
          },
          "showarrow": false,
          "text": "0.017",
          "x": "PC5",
          "y": "pixel3"
         },
         {
          "font": {
           "size": 10
          },
          "showarrow": false,
          "text": "-0.003",
          "x": "PC6",
          "y": "pixel3"
         },
         {
          "font": {
           "size": 10
          },
          "showarrow": false,
          "text": "0.015",
          "x": "PC7",
          "y": "pixel3"
         },
         {
          "font": {
           "size": 10
          },
          "showarrow": false,
          "text": "-0.024",
          "x": "PC8",
          "y": "pixel3"
         },
         {
          "font": {
           "size": 10
          },
          "showarrow": false,
          "text": "-0.067",
          "x": "PC9",
          "y": "pixel3"
         },
         {
          "font": {
           "size": 10
          },
          "showarrow": false,
          "text": "-0.091",
          "x": "PC10",
          "y": "pixel3"
         },
         {
          "font": {
           "size": 10
          },
          "showarrow": false,
          "text": "0.003",
          "x": "PC1",
          "y": "pixel4"
         },
         {
          "font": {
           "size": 10
          },
          "showarrow": false,
          "text": "0.003",
          "x": "PC2",
          "y": "pixel4"
         },
         {
          "font": {
           "size": 10
          },
          "showarrow": false,
          "text": "-0.004",
          "x": "PC3",
          "y": "pixel4"
         },
         {
          "font": {
           "size": 10
          },
          "showarrow": false,
          "text": "-0.013",
          "x": "PC4",
          "y": "pixel4"
         },
         {
          "font": {
           "size": 10
          },
          "showarrow": false,
          "text": "0.024",
          "x": "PC5",
          "y": "pixel4"
         },
         {
          "font": {
           "size": 10
          },
          "showarrow": false,
          "text": "0.001",
          "x": "PC6",
          "y": "pixel4"
         },
         {
          "font": {
           "size": 10
          },
          "showarrow": false,
          "text": "0.008",
          "x": "PC7",
          "y": "pixel4"
         },
         {
          "font": {
           "size": 10
          },
          "showarrow": false,
          "text": "-0.025",
          "x": "PC8",
          "y": "pixel4"
         },
         {
          "font": {
           "size": 10
          },
          "showarrow": false,
          "text": "-0.069",
          "x": "PC9",
          "y": "pixel4"
         },
         {
          "font": {
           "size": 10
          },
          "showarrow": false,
          "text": "-0.094",
          "x": "PC10",
          "y": "pixel4"
         },
         {
          "font": {
           "size": 10
          },
          "showarrow": false,
          "text": "0.004",
          "x": "PC1",
          "y": "pixel5"
         },
         {
          "font": {
           "size": 10
          },
          "showarrow": false,
          "text": "0.003",
          "x": "PC2",
          "y": "pixel5"
         },
         {
          "font": {
           "size": 10
          },
          "showarrow": false,
          "text": "-0.005",
          "x": "PC3",
          "y": "pixel5"
         },
         {
          "font": {
           "size": 10
          },
          "showarrow": false,
          "text": "-0.015",
          "x": "PC4",
          "y": "pixel5"
         },
         {
          "font": {
           "size": 10
          },
          "showarrow": false,
          "text": "0.025",
          "x": "PC5",
          "y": "pixel5"
         },
         {
          "font": {
           "size": 10
          },
          "showarrow": false,
          "text": "-0.001",
          "x": "PC6",
          "y": "pixel5"
         },
         {
          "font": {
           "size": 10
          },
          "showarrow": false,
          "text": "0.001",
          "x": "PC7",
          "y": "pixel5"
         },
         {
          "font": {
           "size": 10
          },
          "showarrow": false,
          "text": "-0.03",
          "x": "PC8",
          "y": "pixel5"
         },
         {
          "font": {
           "size": 10
          },
          "showarrow": false,
          "text": "-0.069",
          "x": "PC9",
          "y": "pixel5"
         },
         {
          "font": {
           "size": 10
          },
          "showarrow": false,
          "text": "-0.094",
          "x": "PC10",
          "y": "pixel5"
         },
         {
          "font": {
           "size": 10
          },
          "showarrow": false,
          "text": "0.005",
          "x": "PC1",
          "y": "pixel6"
         },
         {
          "font": {
           "size": 10
          },
          "showarrow": false,
          "text": "0.003",
          "x": "PC2",
          "y": "pixel6"
         },
         {
          "font": {
           "size": 10
          },
          "showarrow": false,
          "text": "-0.008",
          "x": "PC3",
          "y": "pixel6"
         },
         {
          "font": {
           "size": 10
          },
          "showarrow": false,
          "text": "-0.017",
          "x": "PC4",
          "y": "pixel6"
         },
         {
          "font": {
           "size": 10
          },
          "showarrow": false,
          "text": "0.026",
          "x": "PC5",
          "y": "pixel6"
         },
         {
          "font": {
           "size": 10
          },
          "showarrow": false,
          "text": "-0.001",
          "x": "PC6",
          "y": "pixel6"
         },
         {
          "font": {
           "size": 10
          },
          "showarrow": false,
          "text": "-0.004",
          "x": "PC7",
          "y": "pixel6"
         },
         {
          "font": {
           "size": 10
          },
          "showarrow": false,
          "text": "-0.035",
          "x": "PC8",
          "y": "pixel6"
         },
         {
          "font": {
           "size": 10
          },
          "showarrow": false,
          "text": "-0.066",
          "x": "PC9",
          "y": "pixel6"
         },
         {
          "font": {
           "size": 10
          },
          "showarrow": false,
          "text": "-0.097",
          "x": "PC10",
          "y": "pixel6"
         },
         {
          "font": {
           "size": 10
          },
          "showarrow": false,
          "text": "0.006",
          "x": "PC1",
          "y": "pixel7"
         },
         {
          "font": {
           "size": 10
          },
          "showarrow": false,
          "text": "0.002",
          "x": "PC2",
          "y": "pixel7"
         },
         {
          "font": {
           "size": 10
          },
          "showarrow": false,
          "text": "-0.014",
          "x": "PC3",
          "y": "pixel7"
         },
         {
          "font": {
           "size": 10
          },
          "showarrow": false,
          "text": "-0.016",
          "x": "PC4",
          "y": "pixel7"
         },
         {
          "font": {
           "size": 10
          },
          "showarrow": false,
          "text": "0.028",
          "x": "PC5",
          "y": "pixel7"
         },
         {
          "font": {
           "size": 10
          },
          "showarrow": false,
          "text": "-0.005",
          "x": "PC6",
          "y": "pixel7"
         },
         {
          "font": {
           "size": 10
          },
          "showarrow": false,
          "text": "-0.014",
          "x": "PC7",
          "y": "pixel7"
         },
         {
          "font": {
           "size": 10
          },
          "showarrow": false,
          "text": "-0.034",
          "x": "PC8",
          "y": "pixel7"
         },
         {
          "font": {
           "size": 10
          },
          "showarrow": false,
          "text": "-0.049",
          "x": "PC9",
          "y": "pixel7"
         },
         {
          "font": {
           "size": 10
          },
          "showarrow": false,
          "text": "-0.096",
          "x": "PC10",
          "y": "pixel7"
         },
         {
          "font": {
           "size": 10
          },
          "showarrow": false,
          "text": "0.009",
          "x": "PC1",
          "y": "pixel8"
         },
         {
          "font": {
           "size": 10
          },
          "showarrow": false,
          "text": "-0.001",
          "x": "PC2",
          "y": "pixel8"
         },
         {
          "font": {
           "size": 10
          },
          "showarrow": false,
          "text": "-0.018",
          "x": "PC3",
          "y": "pixel8"
         },
         {
          "font": {
           "size": 10
          },
          "showarrow": false,
          "text": "-0.017",
          "x": "PC4",
          "y": "pixel8"
         },
         {
          "font": {
           "size": 10
          },
          "showarrow": false,
          "text": "0.032",
          "x": "PC5",
          "y": "pixel8"
         },
         {
          "font": {
           "size": 10
          },
          "showarrow": false,
          "text": "-0.013",
          "x": "PC6",
          "y": "pixel8"
         },
         {
          "font": {
           "size": 10
          },
          "showarrow": false,
          "text": "-0.025",
          "x": "PC7",
          "y": "pixel8"
         },
         {
          "font": {
           "size": 10
          },
          "showarrow": false,
          "text": "-0.03",
          "x": "PC8",
          "y": "pixel8"
         },
         {
          "font": {
           "size": 10
          },
          "showarrow": false,
          "text": "-0.03",
          "x": "PC9",
          "y": "pixel8"
         },
         {
          "font": {
           "size": 10
          },
          "showarrow": false,
          "text": "-0.09",
          "x": "PC10",
          "y": "pixel8"
         },
         {
          "font": {
           "size": 10
          },
          "showarrow": false,
          "text": "0.014",
          "x": "PC1",
          "y": "pixel9"
         },
         {
          "font": {
           "size": 10
          },
          "showarrow": false,
          "text": "-0.005",
          "x": "PC2",
          "y": "pixel9"
         },
         {
          "font": {
           "size": 10
          },
          "showarrow": false,
          "text": "-0.019",
          "x": "PC3",
          "y": "pixel9"
         },
         {
          "font": {
           "size": 10
          },
          "showarrow": false,
          "text": "-0.018",
          "x": "PC4",
          "y": "pixel9"
         },
         {
          "font": {
           "size": 10
          },
          "showarrow": false,
          "text": "0.036",
          "x": "PC5",
          "y": "pixel9"
         },
         {
          "font": {
           "size": 10
          },
          "showarrow": false,
          "text": "-0.013",
          "x": "PC6",
          "y": "pixel9"
         },
         {
          "font": {
           "size": 10
          },
          "showarrow": false,
          "text": "-0.035",
          "x": "PC7",
          "y": "pixel9"
         },
         {
          "font": {
           "size": 10
          },
          "showarrow": false,
          "text": "-0.032",
          "x": "PC8",
          "y": "pixel9"
         },
         {
          "font": {
           "size": 10
          },
          "showarrow": false,
          "text": "-0.006",
          "x": "PC9",
          "y": "pixel9"
         },
         {
          "font": {
           "size": 10
          },
          "showarrow": false,
          "text": "-0.083",
          "x": "PC10",
          "y": "pixel9"
         },
         {
          "font": {
           "size": 10
          },
          "showarrow": false,
          "text": "0.019",
          "x": "PC1",
          "y": "pixel10"
         },
         {
          "font": {
           "size": 10
          },
          "showarrow": false,
          "text": "-0.018",
          "x": "PC2",
          "y": "pixel10"
         },
         {
          "font": {
           "size": 10
          },
          "showarrow": false,
          "text": "-0.011",
          "x": "PC3",
          "y": "pixel10"
         },
         {
          "font": {
           "size": 10
          },
          "showarrow": false,
          "text": "-0.017",
          "x": "PC4",
          "y": "pixel10"
         },
         {
          "font": {
           "size": 10
          },
          "showarrow": false,
          "text": "0.035",
          "x": "PC5",
          "y": "pixel10"
         },
         {
          "font": {
           "size": 10
          },
          "showarrow": false,
          "text": "-0.0",
          "x": "PC6",
          "y": "pixel10"
         },
         {
          "font": {
           "size": 10
          },
          "showarrow": false,
          "text": "-0.029",
          "x": "PC7",
          "y": "pixel10"
         },
         {
          "font": {
           "size": 10
          },
          "showarrow": false,
          "text": "-0.033",
          "x": "PC8",
          "y": "pixel10"
         },
         {
          "font": {
           "size": 10
          },
          "showarrow": false,
          "text": "0.024",
          "x": "PC9",
          "y": "pixel10"
         },
         {
          "font": {
           "size": 10
          },
          "showarrow": false,
          "text": "-0.075",
          "x": "PC10",
          "y": "pixel10"
         }
        ],
        "height": 400,
        "showlegend": false,
        "template": {
         "data": {
          "bar": [
           {
            "error_x": {
             "color": "#2a3f5f"
            },
            "error_y": {
             "color": "#2a3f5f"
            },
            "marker": {
             "line": {
              "color": "#E5ECF6",
              "width": 0.5
             },
             "pattern": {
              "fillmode": "overlay",
              "size": 10,
              "solidity": 0.2
             }
            },
            "type": "bar"
           }
          ],
          "barpolar": [
           {
            "marker": {
             "line": {
              "color": "#E5ECF6",
              "width": 0.5
             },
             "pattern": {
              "fillmode": "overlay",
              "size": 10,
              "solidity": 0.2
             }
            },
            "type": "barpolar"
           }
          ],
          "carpet": [
           {
            "aaxis": {
             "endlinecolor": "#2a3f5f",
             "gridcolor": "white",
             "linecolor": "white",
             "minorgridcolor": "white",
             "startlinecolor": "#2a3f5f"
            },
            "baxis": {
             "endlinecolor": "#2a3f5f",
             "gridcolor": "white",
             "linecolor": "white",
             "minorgridcolor": "white",
             "startlinecolor": "#2a3f5f"
            },
            "type": "carpet"
           }
          ],
          "choropleth": [
           {
            "colorbar": {
             "outlinewidth": 0,
             "ticks": ""
            },
            "type": "choropleth"
           }
          ],
          "contour": [
           {
            "colorbar": {
             "outlinewidth": 0,
             "ticks": ""
            },
            "colorscale": [
             [
              0,
              "#0d0887"
             ],
             [
              0.1111111111111111,
              "#46039f"
             ],
             [
              0.2222222222222222,
              "#7201a8"
             ],
             [
              0.3333333333333333,
              "#9c179e"
             ],
             [
              0.4444444444444444,
              "#bd3786"
             ],
             [
              0.5555555555555556,
              "#d8576b"
             ],
             [
              0.6666666666666666,
              "#ed7953"
             ],
             [
              0.7777777777777778,
              "#fb9f3a"
             ],
             [
              0.8888888888888888,
              "#fdca26"
             ],
             [
              1,
              "#f0f921"
             ]
            ],
            "type": "contour"
           }
          ],
          "contourcarpet": [
           {
            "colorbar": {
             "outlinewidth": 0,
             "ticks": ""
            },
            "type": "contourcarpet"
           }
          ],
          "heatmap": [
           {
            "colorbar": {
             "outlinewidth": 0,
             "ticks": ""
            },
            "colorscale": [
             [
              0,
              "#0d0887"
             ],
             [
              0.1111111111111111,
              "#46039f"
             ],
             [
              0.2222222222222222,
              "#7201a8"
             ],
             [
              0.3333333333333333,
              "#9c179e"
             ],
             [
              0.4444444444444444,
              "#bd3786"
             ],
             [
              0.5555555555555556,
              "#d8576b"
             ],
             [
              0.6666666666666666,
              "#ed7953"
             ],
             [
              0.7777777777777778,
              "#fb9f3a"
             ],
             [
              0.8888888888888888,
              "#fdca26"
             ],
             [
              1,
              "#f0f921"
             ]
            ],
            "type": "heatmap"
           }
          ],
          "heatmapgl": [
           {
            "colorbar": {
             "outlinewidth": 0,
             "ticks": ""
            },
            "colorscale": [
             [
              0,
              "#0d0887"
             ],
             [
              0.1111111111111111,
              "#46039f"
             ],
             [
              0.2222222222222222,
              "#7201a8"
             ],
             [
              0.3333333333333333,
              "#9c179e"
             ],
             [
              0.4444444444444444,
              "#bd3786"
             ],
             [
              0.5555555555555556,
              "#d8576b"
             ],
             [
              0.6666666666666666,
              "#ed7953"
             ],
             [
              0.7777777777777778,
              "#fb9f3a"
             ],
             [
              0.8888888888888888,
              "#fdca26"
             ],
             [
              1,
              "#f0f921"
             ]
            ],
            "type": "heatmapgl"
           }
          ],
          "histogram": [
           {
            "marker": {
             "pattern": {
              "fillmode": "overlay",
              "size": 10,
              "solidity": 0.2
             }
            },
            "type": "histogram"
           }
          ],
          "histogram2d": [
           {
            "colorbar": {
             "outlinewidth": 0,
             "ticks": ""
            },
            "colorscale": [
             [
              0,
              "#0d0887"
             ],
             [
              0.1111111111111111,
              "#46039f"
             ],
             [
              0.2222222222222222,
              "#7201a8"
             ],
             [
              0.3333333333333333,
              "#9c179e"
             ],
             [
              0.4444444444444444,
              "#bd3786"
             ],
             [
              0.5555555555555556,
              "#d8576b"
             ],
             [
              0.6666666666666666,
              "#ed7953"
             ],
             [
              0.7777777777777778,
              "#fb9f3a"
             ],
             [
              0.8888888888888888,
              "#fdca26"
             ],
             [
              1,
              "#f0f921"
             ]
            ],
            "type": "histogram2d"
           }
          ],
          "histogram2dcontour": [
           {
            "colorbar": {
             "outlinewidth": 0,
             "ticks": ""
            },
            "colorscale": [
             [
              0,
              "#0d0887"
             ],
             [
              0.1111111111111111,
              "#46039f"
             ],
             [
              0.2222222222222222,
              "#7201a8"
             ],
             [
              0.3333333333333333,
              "#9c179e"
             ],
             [
              0.4444444444444444,
              "#bd3786"
             ],
             [
              0.5555555555555556,
              "#d8576b"
             ],
             [
              0.6666666666666666,
              "#ed7953"
             ],
             [
              0.7777777777777778,
              "#fb9f3a"
             ],
             [
              0.8888888888888888,
              "#fdca26"
             ],
             [
              1,
              "#f0f921"
             ]
            ],
            "type": "histogram2dcontour"
           }
          ],
          "mesh3d": [
           {
            "colorbar": {
             "outlinewidth": 0,
             "ticks": ""
            },
            "type": "mesh3d"
           }
          ],
          "parcoords": [
           {
            "line": {
             "colorbar": {
              "outlinewidth": 0,
              "ticks": ""
             }
            },
            "type": "parcoords"
           }
          ],
          "pie": [
           {
            "automargin": true,
            "type": "pie"
           }
          ],
          "scatter": [
           {
            "marker": {
             "colorbar": {
              "outlinewidth": 0,
              "ticks": ""
             }
            },
            "type": "scatter"
           }
          ],
          "scatter3d": [
           {
            "line": {
             "colorbar": {
              "outlinewidth": 0,
              "ticks": ""
             }
            },
            "marker": {
             "colorbar": {
              "outlinewidth": 0,
              "ticks": ""
             }
            },
            "type": "scatter3d"
           }
          ],
          "scattercarpet": [
           {
            "marker": {
             "colorbar": {
              "outlinewidth": 0,
              "ticks": ""
             }
            },
            "type": "scattercarpet"
           }
          ],
          "scattergeo": [
           {
            "marker": {
             "colorbar": {
              "outlinewidth": 0,
              "ticks": ""
             }
            },
            "type": "scattergeo"
           }
          ],
          "scattergl": [
           {
            "marker": {
             "colorbar": {
              "outlinewidth": 0,
              "ticks": ""
             }
            },
            "type": "scattergl"
           }
          ],
          "scattermapbox": [
           {
            "marker": {
             "colorbar": {
              "outlinewidth": 0,
              "ticks": ""
             }
            },
            "type": "scattermapbox"
           }
          ],
          "scatterpolar": [
           {
            "marker": {
             "colorbar": {
              "outlinewidth": 0,
              "ticks": ""
             }
            },
            "type": "scatterpolar"
           }
          ],
          "scatterpolargl": [
           {
            "marker": {
             "colorbar": {
              "outlinewidth": 0,
              "ticks": ""
             }
            },
            "type": "scatterpolargl"
           }
          ],
          "scatterternary": [
           {
            "marker": {
             "colorbar": {
              "outlinewidth": 0,
              "ticks": ""
             }
            },
            "type": "scatterternary"
           }
          ],
          "surface": [
           {
            "colorbar": {
             "outlinewidth": 0,
             "ticks": ""
            },
            "colorscale": [
             [
              0,
              "#0d0887"
             ],
             [
              0.1111111111111111,
              "#46039f"
             ],
             [
              0.2222222222222222,
              "#7201a8"
             ],
             [
              0.3333333333333333,
              "#9c179e"
             ],
             [
              0.4444444444444444,
              "#bd3786"
             ],
             [
              0.5555555555555556,
              "#d8576b"
             ],
             [
              0.6666666666666666,
              "#ed7953"
             ],
             [
              0.7777777777777778,
              "#fb9f3a"
             ],
             [
              0.8888888888888888,
              "#fdca26"
             ],
             [
              1,
              "#f0f921"
             ]
            ],
            "type": "surface"
           }
          ],
          "table": [
           {
            "cells": {
             "fill": {
              "color": "#EBF0F8"
             },
             "line": {
              "color": "white"
             }
            },
            "header": {
             "fill": {
              "color": "#C8D4E3"
             },
             "line": {
              "color": "white"
             }
            },
            "type": "table"
           }
          ]
         },
         "layout": {
          "annotationdefaults": {
           "arrowcolor": "#2a3f5f",
           "arrowhead": 0,
           "arrowwidth": 1
          },
          "autotypenumbers": "strict",
          "coloraxis": {
           "colorbar": {
            "outlinewidth": 0,
            "ticks": ""
           }
          },
          "colorscale": {
           "diverging": [
            [
             0,
             "#8e0152"
            ],
            [
             0.1,
             "#c51b7d"
            ],
            [
             0.2,
             "#de77ae"
            ],
            [
             0.3,
             "#f1b6da"
            ],
            [
             0.4,
             "#fde0ef"
            ],
            [
             0.5,
             "#f7f7f7"
            ],
            [
             0.6,
             "#e6f5d0"
            ],
            [
             0.7,
             "#b8e186"
            ],
            [
             0.8,
             "#7fbc41"
            ],
            [
             0.9,
             "#4d9221"
            ],
            [
             1,
             "#276419"
            ]
           ],
           "sequential": [
            [
             0,
             "#0d0887"
            ],
            [
             0.1111111111111111,
             "#46039f"
            ],
            [
             0.2222222222222222,
             "#7201a8"
            ],
            [
             0.3333333333333333,
             "#9c179e"
            ],
            [
             0.4444444444444444,
             "#bd3786"
            ],
            [
             0.5555555555555556,
             "#d8576b"
            ],
            [
             0.6666666666666666,
             "#ed7953"
            ],
            [
             0.7777777777777778,
             "#fb9f3a"
            ],
            [
             0.8888888888888888,
             "#fdca26"
            ],
            [
             1,
             "#f0f921"
            ]
           ],
           "sequentialminus": [
            [
             0,
             "#0d0887"
            ],
            [
             0.1111111111111111,
             "#46039f"
            ],
            [
             0.2222222222222222,
             "#7201a8"
            ],
            [
             0.3333333333333333,
             "#9c179e"
            ],
            [
             0.4444444444444444,
             "#bd3786"
            ],
            [
             0.5555555555555556,
             "#d8576b"
            ],
            [
             0.6666666666666666,
             "#ed7953"
            ],
            [
             0.7777777777777778,
             "#fb9f3a"
            ],
            [
             0.8888888888888888,
             "#fdca26"
            ],
            [
             1,
             "#f0f921"
            ]
           ]
          },
          "colorway": [
           "#636efa",
           "#EF553B",
           "#00cc96",
           "#ab63fa",
           "#FFA15A",
           "#19d3f3",
           "#FF6692",
           "#B6E880",
           "#FF97FF",
           "#FECB52"
          ],
          "font": {
           "color": "#2a3f5f"
          },
          "geo": {
           "bgcolor": "white",
           "lakecolor": "white",
           "landcolor": "#E5ECF6",
           "showlakes": true,
           "showland": true,
           "subunitcolor": "white"
          },
          "hoverlabel": {
           "align": "left"
          },
          "hovermode": "closest",
          "mapbox": {
           "style": "light"
          },
          "paper_bgcolor": "white",
          "plot_bgcolor": "#E5ECF6",
          "polar": {
           "angularaxis": {
            "gridcolor": "white",
            "linecolor": "white",
            "ticks": ""
           },
           "bgcolor": "#E5ECF6",
           "radialaxis": {
            "gridcolor": "white",
            "linecolor": "white",
            "ticks": ""
           }
          },
          "scene": {
           "xaxis": {
            "backgroundcolor": "#E5ECF6",
            "gridcolor": "white",
            "gridwidth": 2,
            "linecolor": "white",
            "showbackground": true,
            "ticks": "",
            "zerolinecolor": "white"
           },
           "yaxis": {
            "backgroundcolor": "#E5ECF6",
            "gridcolor": "white",
            "gridwidth": 2,
            "linecolor": "white",
            "showbackground": true,
            "ticks": "",
            "zerolinecolor": "white"
           },
           "zaxis": {
            "backgroundcolor": "#E5ECF6",
            "gridcolor": "white",
            "gridwidth": 2,
            "linecolor": "white",
            "showbackground": true,
            "ticks": "",
            "zerolinecolor": "white"
           }
          },
          "shapedefaults": {
           "line": {
            "color": "#2a3f5f"
           }
          },
          "ternary": {
           "aaxis": {
            "gridcolor": "white",
            "linecolor": "white",
            "ticks": ""
           },
           "baxis": {
            "gridcolor": "white",
            "linecolor": "white",
            "ticks": ""
           },
           "bgcolor": "#E5ECF6",
           "caxis": {
            "gridcolor": "white",
            "linecolor": "white",
            "ticks": ""
           }
          },
          "title": {
           "x": 0.05
          },
          "xaxis": {
           "automargin": true,
           "gridcolor": "white",
           "linecolor": "white",
           "ticks": "",
           "title": {
            "standoff": 15
           },
           "zerolinecolor": "white",
           "zerolinewidth": 2
          },
          "yaxis": {
           "automargin": true,
           "gridcolor": "white",
           "linecolor": "white",
           "ticks": "",
           "title": {
            "standoff": 15
           },
           "zerolinecolor": "white",
           "zerolinewidth": 2
          }
         }
        },
        "title": {
         "text": "PCA Component (First 10 Features)"
        },
        "width": 1000,
        "xaxis": {
         "anchor": "y",
         "domain": [
          0,
          0.45
         ],
         "title": {
          "text": "Principal Components"
         }
        },
        "xaxis2": {
         "anchor": "y2",
         "domain": [
          0.55,
          1
         ],
         "title": {
          "text": "Principal Components"
         }
        },
        "yaxis": {
         "anchor": "x",
         "domain": [
          0,
          1
         ],
         "title": {
          "text": "Features"
         }
        },
        "yaxis2": {
         "anchor": "x2",
         "domain": [
          0,
          1
         ],
         "title": {
          "text": "Explained Variance (%)"
         }
        }
       }
      },
      "text/html": [
       "<div>                            <div id=\"88dcadbe-a11b-4278-9c5e-75d53beb6c54\" class=\"plotly-graph-div\" style=\"height:400px; width:1000px;\"></div>            <script type=\"text/javascript\">                require([\"plotly\"], function(Plotly) {                    window.PLOTLYENV=window.PLOTLYENV || {};                                    if (document.getElementById(\"88dcadbe-a11b-4278-9c5e-75d53beb6c54\")) {                    Plotly.newPlot(                        \"88dcadbe-a11b-4278-9c5e-75d53beb6c54\",                        [{\"colorbar\":{\"title\":{\"text\":\"Colorbar Title\"}},\"colorscale\":[[0.0,\"#440154\"],[0.1111111111111111,\"#482878\"],[0.2222222222222222,\"#3e4989\"],[0.3333333333333333,\"#31688e\"],[0.4444444444444444,\"#26828e\"],[0.5555555555555556,\"#1f9e89\"],[0.6666666666666666,\"#35b779\"],[0.7777777777777778,\"#6ece58\"],[0.8888888888888888,\"#b5de2b\"],[1.0,\"#fde725\"]],\"showscale\":true,\"x\":[\"PC1\",\"PC2\",\"PC3\",\"PC4\",\"PC5\",\"PC6\",\"PC7\",\"PC8\",\"PC9\",\"PC10\"],\"y\":[\"pixel1\",\"pixel2\",\"pixel3\",\"pixel4\",\"pixel5\",\"pixel6\",\"pixel7\",\"pixel8\",\"pixel9\",\"pixel10\"],\"z\":[[0.0,0.002,-0.002,-0.004,0.004,-0.005,0.009,-0.004,0.004,-0.006],[0.002,0.004,-0.002,-0.012,0.018,-0.003,0.015,-0.024,-0.071,-0.093],[0.002,0.004,-0.002,-0.012,0.017,-0.003,0.015,-0.024,-0.067,-0.091],[0.003,0.003,-0.004,-0.013,0.024,0.001,0.008,-0.025,-0.069,-0.094],[0.004,0.003,-0.005,-0.015,0.025,-0.001,0.001,-0.03,-0.069,-0.094],[0.005,0.003,-0.008,-0.017,0.026,-0.001,-0.004,-0.035,-0.066,-0.097],[0.006,0.002,-0.014,-0.016,0.028,-0.005,-0.014,-0.034,-0.049,-0.096],[0.009,-0.001,-0.018,-0.017,0.032,-0.013,-0.025,-0.03,-0.03,-0.09],[0.014,-0.005,-0.019,-0.018,0.036,-0.013,-0.035,-0.032,-0.006,-0.083],[0.019,-0.018,-0.011,-0.017,0.035,-0.0,-0.029,-0.033,0.024,-0.075]],\"type\":\"heatmap\",\"xaxis\":\"x\",\"yaxis\":\"y\"},{\"text\":[\"22.04%\",\"14.44%\",\"5.49%\",\"5.05%\",\"3.99%\",\"3.01%\",\"2.8%\",\"2.26%\",\"1.74%\",\"1.4%\"],\"x\":[\"PC1\",\"PC2\",\"PC3\",\"PC4\",\"PC5\",\"PC6\",\"PC7\",\"PC8\",\"PC9\",\"PC10\"],\"y\":[22.03887001697357,14.443455481664335,5.489046257700921,5.04526482251751,3.989157171797849,3.0111802251395594,2.7992552321998843,2.262399095844702,1.73828785171582,1.3953448968639652],\"type\":\"bar\",\"xaxis\":\"x2\",\"yaxis\":\"y2\"}],                        {\"template\":{\"data\":{\"bar\":[{\"error_x\":{\"color\":\"#2a3f5f\"},\"error_y\":{\"color\":\"#2a3f5f\"},\"marker\":{\"line\":{\"color\":\"#E5ECF6\",\"width\":0.5},\"pattern\":{\"fillmode\":\"overlay\",\"size\":10,\"solidity\":0.2}},\"type\":\"bar\"}],\"barpolar\":[{\"marker\":{\"line\":{\"color\":\"#E5ECF6\",\"width\":0.5},\"pattern\":{\"fillmode\":\"overlay\",\"size\":10,\"solidity\":0.2}},\"type\":\"barpolar\"}],\"carpet\":[{\"aaxis\":{\"endlinecolor\":\"#2a3f5f\",\"gridcolor\":\"white\",\"linecolor\":\"white\",\"minorgridcolor\":\"white\",\"startlinecolor\":\"#2a3f5f\"},\"baxis\":{\"endlinecolor\":\"#2a3f5f\",\"gridcolor\":\"white\",\"linecolor\":\"white\",\"minorgridcolor\":\"white\",\"startlinecolor\":\"#2a3f5f\"},\"type\":\"carpet\"}],\"choropleth\":[{\"colorbar\":{\"outlinewidth\":0,\"ticks\":\"\"},\"type\":\"choropleth\"}],\"contour\":[{\"colorbar\":{\"outlinewidth\":0,\"ticks\":\"\"},\"colorscale\":[[0.0,\"#0d0887\"],[0.1111111111111111,\"#46039f\"],[0.2222222222222222,\"#7201a8\"],[0.3333333333333333,\"#9c179e\"],[0.4444444444444444,\"#bd3786\"],[0.5555555555555556,\"#d8576b\"],[0.6666666666666666,\"#ed7953\"],[0.7777777777777778,\"#fb9f3a\"],[0.8888888888888888,\"#fdca26\"],[1.0,\"#f0f921\"]],\"type\":\"contour\"}],\"contourcarpet\":[{\"colorbar\":{\"outlinewidth\":0,\"ticks\":\"\"},\"type\":\"contourcarpet\"}],\"heatmap\":[{\"colorbar\":{\"outlinewidth\":0,\"ticks\":\"\"},\"colorscale\":[[0.0,\"#0d0887\"],[0.1111111111111111,\"#46039f\"],[0.2222222222222222,\"#7201a8\"],[0.3333333333333333,\"#9c179e\"],[0.4444444444444444,\"#bd3786\"],[0.5555555555555556,\"#d8576b\"],[0.6666666666666666,\"#ed7953\"],[0.7777777777777778,\"#fb9f3a\"],[0.8888888888888888,\"#fdca26\"],[1.0,\"#f0f921\"]],\"type\":\"heatmap\"}],\"heatmapgl\":[{\"colorbar\":{\"outlinewidth\":0,\"ticks\":\"\"},\"colorscale\":[[0.0,\"#0d0887\"],[0.1111111111111111,\"#46039f\"],[0.2222222222222222,\"#7201a8\"],[0.3333333333333333,\"#9c179e\"],[0.4444444444444444,\"#bd3786\"],[0.5555555555555556,\"#d8576b\"],[0.6666666666666666,\"#ed7953\"],[0.7777777777777778,\"#fb9f3a\"],[0.8888888888888888,\"#fdca26\"],[1.0,\"#f0f921\"]],\"type\":\"heatmapgl\"}],\"histogram\":[{\"marker\":{\"pattern\":{\"fillmode\":\"overlay\",\"size\":10,\"solidity\":0.2}},\"type\":\"histogram\"}],\"histogram2d\":[{\"colorbar\":{\"outlinewidth\":0,\"ticks\":\"\"},\"colorscale\":[[0.0,\"#0d0887\"],[0.1111111111111111,\"#46039f\"],[0.2222222222222222,\"#7201a8\"],[0.3333333333333333,\"#9c179e\"],[0.4444444444444444,\"#bd3786\"],[0.5555555555555556,\"#d8576b\"],[0.6666666666666666,\"#ed7953\"],[0.7777777777777778,\"#fb9f3a\"],[0.8888888888888888,\"#fdca26\"],[1.0,\"#f0f921\"]],\"type\":\"histogram2d\"}],\"histogram2dcontour\":[{\"colorbar\":{\"outlinewidth\":0,\"ticks\":\"\"},\"colorscale\":[[0.0,\"#0d0887\"],[0.1111111111111111,\"#46039f\"],[0.2222222222222222,\"#7201a8\"],[0.3333333333333333,\"#9c179e\"],[0.4444444444444444,\"#bd3786\"],[0.5555555555555556,\"#d8576b\"],[0.6666666666666666,\"#ed7953\"],[0.7777777777777778,\"#fb9f3a\"],[0.8888888888888888,\"#fdca26\"],[1.0,\"#f0f921\"]],\"type\":\"histogram2dcontour\"}],\"mesh3d\":[{\"colorbar\":{\"outlinewidth\":0,\"ticks\":\"\"},\"type\":\"mesh3d\"}],\"parcoords\":[{\"line\":{\"colorbar\":{\"outlinewidth\":0,\"ticks\":\"\"}},\"type\":\"parcoords\"}],\"pie\":[{\"automargin\":true,\"type\":\"pie\"}],\"scatter\":[{\"marker\":{\"colorbar\":{\"outlinewidth\":0,\"ticks\":\"\"}},\"type\":\"scatter\"}],\"scatter3d\":[{\"line\":{\"colorbar\":{\"outlinewidth\":0,\"ticks\":\"\"}},\"marker\":{\"colorbar\":{\"outlinewidth\":0,\"ticks\":\"\"}},\"type\":\"scatter3d\"}],\"scattercarpet\":[{\"marker\":{\"colorbar\":{\"outlinewidth\":0,\"ticks\":\"\"}},\"type\":\"scattercarpet\"}],\"scattergeo\":[{\"marker\":{\"colorbar\":{\"outlinewidth\":0,\"ticks\":\"\"}},\"type\":\"scattergeo\"}],\"scattergl\":[{\"marker\":{\"colorbar\":{\"outlinewidth\":0,\"ticks\":\"\"}},\"type\":\"scattergl\"}],\"scattermapbox\":[{\"marker\":{\"colorbar\":{\"outlinewidth\":0,\"ticks\":\"\"}},\"type\":\"scattermapbox\"}],\"scatterpolar\":[{\"marker\":{\"colorbar\":{\"outlinewidth\":0,\"ticks\":\"\"}},\"type\":\"scatterpolar\"}],\"scatterpolargl\":[{\"marker\":{\"colorbar\":{\"outlinewidth\":0,\"ticks\":\"\"}},\"type\":\"scatterpolargl\"}],\"scatterternary\":[{\"marker\":{\"colorbar\":{\"outlinewidth\":0,\"ticks\":\"\"}},\"type\":\"scatterternary\"}],\"surface\":[{\"colorbar\":{\"outlinewidth\":0,\"ticks\":\"\"},\"colorscale\":[[0.0,\"#0d0887\"],[0.1111111111111111,\"#46039f\"],[0.2222222222222222,\"#7201a8\"],[0.3333333333333333,\"#9c179e\"],[0.4444444444444444,\"#bd3786\"],[0.5555555555555556,\"#d8576b\"],[0.6666666666666666,\"#ed7953\"],[0.7777777777777778,\"#fb9f3a\"],[0.8888888888888888,\"#fdca26\"],[1.0,\"#f0f921\"]],\"type\":\"surface\"}],\"table\":[{\"cells\":{\"fill\":{\"color\":\"#EBF0F8\"},\"line\":{\"color\":\"white\"}},\"header\":{\"fill\":{\"color\":\"#C8D4E3\"},\"line\":{\"color\":\"white\"}},\"type\":\"table\"}]},\"layout\":{\"annotationdefaults\":{\"arrowcolor\":\"#2a3f5f\",\"arrowhead\":0,\"arrowwidth\":1},\"autotypenumbers\":\"strict\",\"coloraxis\":{\"colorbar\":{\"outlinewidth\":0,\"ticks\":\"\"}},\"colorscale\":{\"diverging\":[[0,\"#8e0152\"],[0.1,\"#c51b7d\"],[0.2,\"#de77ae\"],[0.3,\"#f1b6da\"],[0.4,\"#fde0ef\"],[0.5,\"#f7f7f7\"],[0.6,\"#e6f5d0\"],[0.7,\"#b8e186\"],[0.8,\"#7fbc41\"],[0.9,\"#4d9221\"],[1,\"#276419\"]],\"sequential\":[[0.0,\"#0d0887\"],[0.1111111111111111,\"#46039f\"],[0.2222222222222222,\"#7201a8\"],[0.3333333333333333,\"#9c179e\"],[0.4444444444444444,\"#bd3786\"],[0.5555555555555556,\"#d8576b\"],[0.6666666666666666,\"#ed7953\"],[0.7777777777777778,\"#fb9f3a\"],[0.8888888888888888,\"#fdca26\"],[1.0,\"#f0f921\"]],\"sequentialminus\":[[0.0,\"#0d0887\"],[0.1111111111111111,\"#46039f\"],[0.2222222222222222,\"#7201a8\"],[0.3333333333333333,\"#9c179e\"],[0.4444444444444444,\"#bd3786\"],[0.5555555555555556,\"#d8576b\"],[0.6666666666666666,\"#ed7953\"],[0.7777777777777778,\"#fb9f3a\"],[0.8888888888888888,\"#fdca26\"],[1.0,\"#f0f921\"]]},\"colorway\":[\"#636efa\",\"#EF553B\",\"#00cc96\",\"#ab63fa\",\"#FFA15A\",\"#19d3f3\",\"#FF6692\",\"#B6E880\",\"#FF97FF\",\"#FECB52\"],\"font\":{\"color\":\"#2a3f5f\"},\"geo\":{\"bgcolor\":\"white\",\"lakecolor\":\"white\",\"landcolor\":\"#E5ECF6\",\"showlakes\":true,\"showland\":true,\"subunitcolor\":\"white\"},\"hoverlabel\":{\"align\":\"left\"},\"hovermode\":\"closest\",\"mapbox\":{\"style\":\"light\"},\"paper_bgcolor\":\"white\",\"plot_bgcolor\":\"#E5ECF6\",\"polar\":{\"angularaxis\":{\"gridcolor\":\"white\",\"linecolor\":\"white\",\"ticks\":\"\"},\"bgcolor\":\"#E5ECF6\",\"radialaxis\":{\"gridcolor\":\"white\",\"linecolor\":\"white\",\"ticks\":\"\"}},\"scene\":{\"xaxis\":{\"backgroundcolor\":\"#E5ECF6\",\"gridcolor\":\"white\",\"gridwidth\":2,\"linecolor\":\"white\",\"showbackground\":true,\"ticks\":\"\",\"zerolinecolor\":\"white\"},\"yaxis\":{\"backgroundcolor\":\"#E5ECF6\",\"gridcolor\":\"white\",\"gridwidth\":2,\"linecolor\":\"white\",\"showbackground\":true,\"ticks\":\"\",\"zerolinecolor\":\"white\"},\"zaxis\":{\"backgroundcolor\":\"#E5ECF6\",\"gridcolor\":\"white\",\"gridwidth\":2,\"linecolor\":\"white\",\"showbackground\":true,\"ticks\":\"\",\"zerolinecolor\":\"white\"}},\"shapedefaults\":{\"line\":{\"color\":\"#2a3f5f\"}},\"ternary\":{\"aaxis\":{\"gridcolor\":\"white\",\"linecolor\":\"white\",\"ticks\":\"\"},\"baxis\":{\"gridcolor\":\"white\",\"linecolor\":\"white\",\"ticks\":\"\"},\"bgcolor\":\"#E5ECF6\",\"caxis\":{\"gridcolor\":\"white\",\"linecolor\":\"white\",\"ticks\":\"\"}},\"title\":{\"x\":0.05},\"xaxis\":{\"automargin\":true,\"gridcolor\":\"white\",\"linecolor\":\"white\",\"ticks\":\"\",\"title\":{\"standoff\":15},\"zerolinecolor\":\"white\",\"zerolinewidth\":2},\"yaxis\":{\"automargin\":true,\"gridcolor\":\"white\",\"linecolor\":\"white\",\"ticks\":\"\",\"title\":{\"standoff\":15},\"zerolinecolor\":\"white\",\"zerolinewidth\":2}}},\"xaxis\":{\"anchor\":\"y\",\"domain\":[0.0,0.45],\"title\":{\"text\":\"Principal Components\"}},\"yaxis\":{\"anchor\":\"x\",\"domain\":[0.0,1.0],\"title\":{\"text\":\"Features\"}},\"xaxis2\":{\"anchor\":\"y2\",\"domain\":[0.55,1.0],\"title\":{\"text\":\"Principal Components\"}},\"yaxis2\":{\"anchor\":\"x2\",\"domain\":[0.0,1.0],\"title\":{\"text\":\"Explained Variance (%)\"}},\"annotations\":[{\"font\":{\"size\":16},\"showarrow\":false,\"text\":\"PCA Heatmap\",\"x\":0.225,\"xanchor\":\"center\",\"xref\":\"paper\",\"y\":1.0,\"yanchor\":\"bottom\",\"yref\":\"paper\"},{\"font\":{\"size\":16},\"showarrow\":false,\"text\":\"Explained Variance\",\"x\":0.775,\"xanchor\":\"center\",\"xref\":\"paper\",\"y\":1.0,\"yanchor\":\"bottom\",\"yref\":\"paper\"},{\"font\":{\"size\":10},\"showarrow\":false,\"text\":\"0.0\",\"x\":\"PC1\",\"y\":\"pixel1\"},{\"font\":{\"size\":10},\"showarrow\":false,\"text\":\"0.002\",\"x\":\"PC2\",\"y\":\"pixel1\"},{\"font\":{\"size\":10},\"showarrow\":false,\"text\":\"-0.002\",\"x\":\"PC3\",\"y\":\"pixel1\"},{\"font\":{\"size\":10},\"showarrow\":false,\"text\":\"-0.004\",\"x\":\"PC4\",\"y\":\"pixel1\"},{\"font\":{\"size\":10},\"showarrow\":false,\"text\":\"0.004\",\"x\":\"PC5\",\"y\":\"pixel1\"},{\"font\":{\"size\":10},\"showarrow\":false,\"text\":\"-0.005\",\"x\":\"PC6\",\"y\":\"pixel1\"},{\"font\":{\"size\":10},\"showarrow\":false,\"text\":\"0.009\",\"x\":\"PC7\",\"y\":\"pixel1\"},{\"font\":{\"size\":10},\"showarrow\":false,\"text\":\"-0.004\",\"x\":\"PC8\",\"y\":\"pixel1\"},{\"font\":{\"size\":10},\"showarrow\":false,\"text\":\"0.004\",\"x\":\"PC9\",\"y\":\"pixel1\"},{\"font\":{\"size\":10},\"showarrow\":false,\"text\":\"-0.006\",\"x\":\"PC10\",\"y\":\"pixel1\"},{\"font\":{\"size\":10},\"showarrow\":false,\"text\":\"0.002\",\"x\":\"PC1\",\"y\":\"pixel2\"},{\"font\":{\"size\":10},\"showarrow\":false,\"text\":\"0.004\",\"x\":\"PC2\",\"y\":\"pixel2\"},{\"font\":{\"size\":10},\"showarrow\":false,\"text\":\"-0.002\",\"x\":\"PC3\",\"y\":\"pixel2\"},{\"font\":{\"size\":10},\"showarrow\":false,\"text\":\"-0.012\",\"x\":\"PC4\",\"y\":\"pixel2\"},{\"font\":{\"size\":10},\"showarrow\":false,\"text\":\"0.018\",\"x\":\"PC5\",\"y\":\"pixel2\"},{\"font\":{\"size\":10},\"showarrow\":false,\"text\":\"-0.003\",\"x\":\"PC6\",\"y\":\"pixel2\"},{\"font\":{\"size\":10},\"showarrow\":false,\"text\":\"0.015\",\"x\":\"PC7\",\"y\":\"pixel2\"},{\"font\":{\"size\":10},\"showarrow\":false,\"text\":\"-0.024\",\"x\":\"PC8\",\"y\":\"pixel2\"},{\"font\":{\"size\":10},\"showarrow\":false,\"text\":\"-0.071\",\"x\":\"PC9\",\"y\":\"pixel2\"},{\"font\":{\"size\":10},\"showarrow\":false,\"text\":\"-0.093\",\"x\":\"PC10\",\"y\":\"pixel2\"},{\"font\":{\"size\":10},\"showarrow\":false,\"text\":\"0.002\",\"x\":\"PC1\",\"y\":\"pixel3\"},{\"font\":{\"size\":10},\"showarrow\":false,\"text\":\"0.004\",\"x\":\"PC2\",\"y\":\"pixel3\"},{\"font\":{\"size\":10},\"showarrow\":false,\"text\":\"-0.002\",\"x\":\"PC3\",\"y\":\"pixel3\"},{\"font\":{\"size\":10},\"showarrow\":false,\"text\":\"-0.012\",\"x\":\"PC4\",\"y\":\"pixel3\"},{\"font\":{\"size\":10},\"showarrow\":false,\"text\":\"0.017\",\"x\":\"PC5\",\"y\":\"pixel3\"},{\"font\":{\"size\":10},\"showarrow\":false,\"text\":\"-0.003\",\"x\":\"PC6\",\"y\":\"pixel3\"},{\"font\":{\"size\":10},\"showarrow\":false,\"text\":\"0.015\",\"x\":\"PC7\",\"y\":\"pixel3\"},{\"font\":{\"size\":10},\"showarrow\":false,\"text\":\"-0.024\",\"x\":\"PC8\",\"y\":\"pixel3\"},{\"font\":{\"size\":10},\"showarrow\":false,\"text\":\"-0.067\",\"x\":\"PC9\",\"y\":\"pixel3\"},{\"font\":{\"size\":10},\"showarrow\":false,\"text\":\"-0.091\",\"x\":\"PC10\",\"y\":\"pixel3\"},{\"font\":{\"size\":10},\"showarrow\":false,\"text\":\"0.003\",\"x\":\"PC1\",\"y\":\"pixel4\"},{\"font\":{\"size\":10},\"showarrow\":false,\"text\":\"0.003\",\"x\":\"PC2\",\"y\":\"pixel4\"},{\"font\":{\"size\":10},\"showarrow\":false,\"text\":\"-0.004\",\"x\":\"PC3\",\"y\":\"pixel4\"},{\"font\":{\"size\":10},\"showarrow\":false,\"text\":\"-0.013\",\"x\":\"PC4\",\"y\":\"pixel4\"},{\"font\":{\"size\":10},\"showarrow\":false,\"text\":\"0.024\",\"x\":\"PC5\",\"y\":\"pixel4\"},{\"font\":{\"size\":10},\"showarrow\":false,\"text\":\"0.001\",\"x\":\"PC6\",\"y\":\"pixel4\"},{\"font\":{\"size\":10},\"showarrow\":false,\"text\":\"0.008\",\"x\":\"PC7\",\"y\":\"pixel4\"},{\"font\":{\"size\":10},\"showarrow\":false,\"text\":\"-0.025\",\"x\":\"PC8\",\"y\":\"pixel4\"},{\"font\":{\"size\":10},\"showarrow\":false,\"text\":\"-0.069\",\"x\":\"PC9\",\"y\":\"pixel4\"},{\"font\":{\"size\":10},\"showarrow\":false,\"text\":\"-0.094\",\"x\":\"PC10\",\"y\":\"pixel4\"},{\"font\":{\"size\":10},\"showarrow\":false,\"text\":\"0.004\",\"x\":\"PC1\",\"y\":\"pixel5\"},{\"font\":{\"size\":10},\"showarrow\":false,\"text\":\"0.003\",\"x\":\"PC2\",\"y\":\"pixel5\"},{\"font\":{\"size\":10},\"showarrow\":false,\"text\":\"-0.005\",\"x\":\"PC3\",\"y\":\"pixel5\"},{\"font\":{\"size\":10},\"showarrow\":false,\"text\":\"-0.015\",\"x\":\"PC4\",\"y\":\"pixel5\"},{\"font\":{\"size\":10},\"showarrow\":false,\"text\":\"0.025\",\"x\":\"PC5\",\"y\":\"pixel5\"},{\"font\":{\"size\":10},\"showarrow\":false,\"text\":\"-0.001\",\"x\":\"PC6\",\"y\":\"pixel5\"},{\"font\":{\"size\":10},\"showarrow\":false,\"text\":\"0.001\",\"x\":\"PC7\",\"y\":\"pixel5\"},{\"font\":{\"size\":10},\"showarrow\":false,\"text\":\"-0.03\",\"x\":\"PC8\",\"y\":\"pixel5\"},{\"font\":{\"size\":10},\"showarrow\":false,\"text\":\"-0.069\",\"x\":\"PC9\",\"y\":\"pixel5\"},{\"font\":{\"size\":10},\"showarrow\":false,\"text\":\"-0.094\",\"x\":\"PC10\",\"y\":\"pixel5\"},{\"font\":{\"size\":10},\"showarrow\":false,\"text\":\"0.005\",\"x\":\"PC1\",\"y\":\"pixel6\"},{\"font\":{\"size\":10},\"showarrow\":false,\"text\":\"0.003\",\"x\":\"PC2\",\"y\":\"pixel6\"},{\"font\":{\"size\":10},\"showarrow\":false,\"text\":\"-0.008\",\"x\":\"PC3\",\"y\":\"pixel6\"},{\"font\":{\"size\":10},\"showarrow\":false,\"text\":\"-0.017\",\"x\":\"PC4\",\"y\":\"pixel6\"},{\"font\":{\"size\":10},\"showarrow\":false,\"text\":\"0.026\",\"x\":\"PC5\",\"y\":\"pixel6\"},{\"font\":{\"size\":10},\"showarrow\":false,\"text\":\"-0.001\",\"x\":\"PC6\",\"y\":\"pixel6\"},{\"font\":{\"size\":10},\"showarrow\":false,\"text\":\"-0.004\",\"x\":\"PC7\",\"y\":\"pixel6\"},{\"font\":{\"size\":10},\"showarrow\":false,\"text\":\"-0.035\",\"x\":\"PC8\",\"y\":\"pixel6\"},{\"font\":{\"size\":10},\"showarrow\":false,\"text\":\"-0.066\",\"x\":\"PC9\",\"y\":\"pixel6\"},{\"font\":{\"size\":10},\"showarrow\":false,\"text\":\"-0.097\",\"x\":\"PC10\",\"y\":\"pixel6\"},{\"font\":{\"size\":10},\"showarrow\":false,\"text\":\"0.006\",\"x\":\"PC1\",\"y\":\"pixel7\"},{\"font\":{\"size\":10},\"showarrow\":false,\"text\":\"0.002\",\"x\":\"PC2\",\"y\":\"pixel7\"},{\"font\":{\"size\":10},\"showarrow\":false,\"text\":\"-0.014\",\"x\":\"PC3\",\"y\":\"pixel7\"},{\"font\":{\"size\":10},\"showarrow\":false,\"text\":\"-0.016\",\"x\":\"PC4\",\"y\":\"pixel7\"},{\"font\":{\"size\":10},\"showarrow\":false,\"text\":\"0.028\",\"x\":\"PC5\",\"y\":\"pixel7\"},{\"font\":{\"size\":10},\"showarrow\":false,\"text\":\"-0.005\",\"x\":\"PC6\",\"y\":\"pixel7\"},{\"font\":{\"size\":10},\"showarrow\":false,\"text\":\"-0.014\",\"x\":\"PC7\",\"y\":\"pixel7\"},{\"font\":{\"size\":10},\"showarrow\":false,\"text\":\"-0.034\",\"x\":\"PC8\",\"y\":\"pixel7\"},{\"font\":{\"size\":10},\"showarrow\":false,\"text\":\"-0.049\",\"x\":\"PC9\",\"y\":\"pixel7\"},{\"font\":{\"size\":10},\"showarrow\":false,\"text\":\"-0.096\",\"x\":\"PC10\",\"y\":\"pixel7\"},{\"font\":{\"size\":10},\"showarrow\":false,\"text\":\"0.009\",\"x\":\"PC1\",\"y\":\"pixel8\"},{\"font\":{\"size\":10},\"showarrow\":false,\"text\":\"-0.001\",\"x\":\"PC2\",\"y\":\"pixel8\"},{\"font\":{\"size\":10},\"showarrow\":false,\"text\":\"-0.018\",\"x\":\"PC3\",\"y\":\"pixel8\"},{\"font\":{\"size\":10},\"showarrow\":false,\"text\":\"-0.017\",\"x\":\"PC4\",\"y\":\"pixel8\"},{\"font\":{\"size\":10},\"showarrow\":false,\"text\":\"0.032\",\"x\":\"PC5\",\"y\":\"pixel8\"},{\"font\":{\"size\":10},\"showarrow\":false,\"text\":\"-0.013\",\"x\":\"PC6\",\"y\":\"pixel8\"},{\"font\":{\"size\":10},\"showarrow\":false,\"text\":\"-0.025\",\"x\":\"PC7\",\"y\":\"pixel8\"},{\"font\":{\"size\":10},\"showarrow\":false,\"text\":\"-0.03\",\"x\":\"PC8\",\"y\":\"pixel8\"},{\"font\":{\"size\":10},\"showarrow\":false,\"text\":\"-0.03\",\"x\":\"PC9\",\"y\":\"pixel8\"},{\"font\":{\"size\":10},\"showarrow\":false,\"text\":\"-0.09\",\"x\":\"PC10\",\"y\":\"pixel8\"},{\"font\":{\"size\":10},\"showarrow\":false,\"text\":\"0.014\",\"x\":\"PC1\",\"y\":\"pixel9\"},{\"font\":{\"size\":10},\"showarrow\":false,\"text\":\"-0.005\",\"x\":\"PC2\",\"y\":\"pixel9\"},{\"font\":{\"size\":10},\"showarrow\":false,\"text\":\"-0.019\",\"x\":\"PC3\",\"y\":\"pixel9\"},{\"font\":{\"size\":10},\"showarrow\":false,\"text\":\"-0.018\",\"x\":\"PC4\",\"y\":\"pixel9\"},{\"font\":{\"size\":10},\"showarrow\":false,\"text\":\"0.036\",\"x\":\"PC5\",\"y\":\"pixel9\"},{\"font\":{\"size\":10},\"showarrow\":false,\"text\":\"-0.013\",\"x\":\"PC6\",\"y\":\"pixel9\"},{\"font\":{\"size\":10},\"showarrow\":false,\"text\":\"-0.035\",\"x\":\"PC7\",\"y\":\"pixel9\"},{\"font\":{\"size\":10},\"showarrow\":false,\"text\":\"-0.032\",\"x\":\"PC8\",\"y\":\"pixel9\"},{\"font\":{\"size\":10},\"showarrow\":false,\"text\":\"-0.006\",\"x\":\"PC9\",\"y\":\"pixel9\"},{\"font\":{\"size\":10},\"showarrow\":false,\"text\":\"-0.083\",\"x\":\"PC10\",\"y\":\"pixel9\"},{\"font\":{\"size\":10},\"showarrow\":false,\"text\":\"0.019\",\"x\":\"PC1\",\"y\":\"pixel10\"},{\"font\":{\"size\":10},\"showarrow\":false,\"text\":\"-0.018\",\"x\":\"PC2\",\"y\":\"pixel10\"},{\"font\":{\"size\":10},\"showarrow\":false,\"text\":\"-0.011\",\"x\":\"PC3\",\"y\":\"pixel10\"},{\"font\":{\"size\":10},\"showarrow\":false,\"text\":\"-0.017\",\"x\":\"PC4\",\"y\":\"pixel10\"},{\"font\":{\"size\":10},\"showarrow\":false,\"text\":\"0.035\",\"x\":\"PC5\",\"y\":\"pixel10\"},{\"font\":{\"size\":10},\"showarrow\":false,\"text\":\"-0.0\",\"x\":\"PC6\",\"y\":\"pixel10\"},{\"font\":{\"size\":10},\"showarrow\":false,\"text\":\"-0.029\",\"x\":\"PC7\",\"y\":\"pixel10\"},{\"font\":{\"size\":10},\"showarrow\":false,\"text\":\"-0.033\",\"x\":\"PC8\",\"y\":\"pixel10\"},{\"font\":{\"size\":10},\"showarrow\":false,\"text\":\"0.024\",\"x\":\"PC9\",\"y\":\"pixel10\"},{\"font\":{\"size\":10},\"showarrow\":false,\"text\":\"-0.075\",\"x\":\"PC10\",\"y\":\"pixel10\"}],\"title\":{\"text\":\"PCA Component (First 10 Features)\"},\"width\":1000,\"height\":400,\"showlegend\":false},                        {\"responsive\": true}                    ).then(function(){\n",
       "                            \n",
       "var gd = document.getElementById('88dcadbe-a11b-4278-9c5e-75d53beb6c54');\n",
       "var x = new MutationObserver(function (mutations, observer) {{\n",
       "        var display = window.getComputedStyle(gd).display;\n",
       "        if (!display || display === 'none') {{\n",
       "            console.log([gd, 'removed!']);\n",
       "            Plotly.purge(gd);\n",
       "            observer.disconnect();\n",
       "        }}\n",
       "}});\n",
       "\n",
       "// Listen for the removal of the full notebook cells\n",
       "var notebookContainer = gd.closest('#notebook-container');\n",
       "if (notebookContainer) {{\n",
       "    x.observe(notebookContainer, {childList: true});\n",
       "}}\n",
       "\n",
       "// Listen for the clearing of the current output cell\n",
       "var outputEl = gd.closest('.output');\n",
       "if (outputEl) {{\n",
       "    x.observe(outputEl, {childList: true});\n",
       "}}\n",
       "\n",
       "                        })                };                });            </script>        </div>"
      ]
     },
     "metadata": {},
     "output_type": "display_data"
    }
   ],
   "source": [
    "# Create the bar plot using Plotly\n",
    "explained_variance_ratios_percentage = [item * 100 for item in explained_variance]\n",
    "explained_variance_ratios_percentage_10 = explained_variance_ratios_percentage[:10]\n",
    "\n",
    "# Principal components\n",
    "pc_list = [f\"PC{i+1}\" for i in range(len(explained_variance_ratios_percentage_10))]\n",
    "\n",
    "# Create a DataFrame for plotting\n",
    "data = pd.DataFrame({'Principal Components': pc_list, 'Explained Variance (%)': explained_variance_ratios_percentage_10})\n",
    "\n",
    "\n",
    "\n",
    "# Choose a subset of features to display (e.g., the first 10)\n",
    "num_features_to_display = 10\n",
    "selected_feature_names = feature_names[:num_features_to_display]\n",
    "\n",
    "# Principal components\n",
    "columns_names = [f\"PC{i+1}\" for i in range(len(selected_feature_names))]\n",
    "\n",
    "# Extract the PCA components for the selected features\n",
    "pca_component = pd.DataFrame(pca_components[:num_features_to_display, :10].round(3), index=selected_feature_names, columns=columns_names)\n",
    "\n",
    "#plot2\n",
    "\n",
    "\n",
    "# Create a subplot with 1 row and 2 columns\n",
    "fig = sp.make_subplots(rows=1, cols=2, subplot_titles=(\"PCA Heatmap\", \"Explained Variance\"))\n",
    "\n",
    "\n",
    "# Create the PCA heatmap using go.Heatmap\n",
    "heatmap = go.Heatmap(\n",
    "    z=pca_component.values,\n",
    "    x=list(pca_component.columns),\n",
    "    y=list(pca_component.index),\n",
    "    colorscale='Viridis',\n",
    "    showscale=True,\n",
    "    colorbar=dict(title='Colorbar Title'),\n",
    ")\n",
    "\n",
    "# Add the PCA heatmap to the first column\n",
    "fig.add_trace(heatmap, row=1, col=1)\n",
    "\n",
    "# Manually add text annotations to the PCA heatmap cells\n",
    "for i in range(len(pca_component.index)):\n",
    "    for j in range(len(pca_component.columns)):\n",
    "        text_annotation = pca_component.iloc[i, j]\n",
    "        fig.add_annotation(\n",
    "            x=pca_component.columns[j],\n",
    "            y=pca_component.index[i],\n",
    "            text=str(text_annotation),\n",
    "            showarrow=False,\n",
    "            font=dict(size=10),\n",
    "        )\n",
    "\n",
    "# Add the Explained Variance bar plot to the second column\n",
    "fig.add_trace(go.Bar(\n",
    "    x=data['Principal Components'], y=data['Explained Variance (%)'],\n",
    "    text=data['Explained Variance (%)'].round(2).astype(str) + '%'\n",
    "), row=1, col=2)\n",
    "\n",
    "# Update layout for the first subplot (PCA Heatmap)\n",
    "fig.update_xaxes(title_text=\"Principal Components\", row=1, col=1)\n",
    "fig.update_yaxes(title_text=\"Features\", row=1, col=1)\n",
    "fig.update_layout(title_text=\"PCA Component (First 10 Features)\", width=1000, height=400)\n",
    "\n",
    "# Update layout for the second subplot (Explained Variance)\n",
    "fig.update_xaxes(title_text=\"Principal Components\", row=1, col=2)\n",
    "fig.update_yaxes(title_text=\"Explained Variance (%)\", row=1, col=2)\n",
    "fig.update_layout(showlegend=False)\n",
    "\n",
    "\n",
    "# Show the combined subplot\n",
    "fig.show()"
   ]
  },
  {
   "cell_type": "markdown",
   "id": "dab6c8c2",
   "metadata": {},
   "source": [
    "## Step 3: Determine The Number of Principal Component."
   ]
  },
  {
   "cell_type": "code",
   "execution_count": 11,
   "id": "89ab2f59",
   "metadata": {},
   "outputs": [
    {
     "data": {
      "text/plain": [
       "(784, 47)"
      ]
     },
     "execution_count": 11,
     "metadata": {},
     "output_type": "execute_result"
    }
   ],
   "source": [
    "# Sort eigenvalues and corresponding eigenvectors\n",
    "sorted_indices = np.argsort(eig_vals)[::-1]  # Sort in descending order\n",
    "sorted_eig_vals = eig_vals[sorted_indices]\n",
    "sorted_eig_vecs = eig_vecs[:, sorted_indices]\n",
    "# Create a list of tuples\n",
    "eigenvalue_vector_tuples = [(eig_val, eig_vec) for eig_val, eig_vec in zip(sorted_eig_vals, sorted_eig_vecs.T)]\n",
    "pca_components = pca.compute_weight_matrix(eigenvalue_vector_tuples, cumulative_sum)\n",
    "# the number of principal components needed to capture 80% of explained variance\n",
    "pca_components.shape"
   ]
  },
  {
   "cell_type": "markdown",
   "id": "7c6d51a8",
   "metadata": {},
   "source": [
    "## Step 4: Transform The Original Data"
   ]
  },
  {
   "cell_type": "code",
   "execution_count": 17,
   "id": "a12bcb71",
   "metadata": {},
   "outputs": [
    {
     "data": {
      "image/png": "[encoded data removed]",
      "text/plain": [
       "<Figure size 720x288 with 4 Axes>"
      ]
     },
     "metadata": {},
     "output_type": "display_data"
    }
   ],
   "source": [
    "X_pca = pca.transform_data( X_std, pca_components[ : , :10])\n",
    "\n",
    "df_pc   = pd.DataFrame(X_pca, columns=[f'PC {i+1}' for i in range(10)])\n",
    "\n",
    "df1  = pd.DataFrame(X, columns=feature_names)\n",
    "\n",
    "# Calculate the correlation matrix\n",
    "corr_matrix = df_pc.corr()\n",
    "corr_matrix1 = df1.corr()\n",
    "\n",
    "# Create subplots for the two correlation matrices\n",
    "fig, axes = plt.subplots(1, 2, figsize=(10, 4))\n",
    "\n",
    "# Plot the first correlation matrix\n",
    "sns.heatmap(round(corr_matrix.iloc[:10, :10],2), cmap='viridis', annot=True, ax=axes[0])\n",
    "axes[0].set_title('Correlation Matrix for data after PCA')\n",
    "\n",
    "# Plot the second correlation matrix\n",
    "sns.heatmap(# Calculate the correlation matrix\n",
    "round(corr_matrix1.iloc[:10, :10],2), cmap='viridis', annot=True, ax=axes[1])\n",
    "axes[1].set_title('Correlation Matrix for the original data')\n",
    "\n",
    "# Adjust spacing between subplots\n",
    "plt.tight_layout()\n",
    "\n",
    "# Show the subplots\n",
    "plt.show()"
   ]
  },
  {
   "cell_type": "code",
   "execution_count": null,
   "id": "54a74ce9",
   "metadata": {},
   "outputs": [],
   "source": [
    "##"
   ]
  },
  {
   "cell_type": "code",
   "execution_count": 26,
   "id": "cb5aa7e1",
   "metadata": {},
   "outputs": [
    {
     "data": {
      "text/plain": [
       "(10000, 47)"
      ]
     },
     "execution_count": 26,
     "metadata": {},
     "output_type": "execute_result"
    }
   ],
   "source": [
    "# Check the independence of the PC\"\n",
    "from sklearn.decomposition import  FastICA\n",
    "# Step 1: Perform PCA to obtain principal components\n",
    "\n",
    "X_pca = pca.transform_data( X_std, pca_components)\n",
    "\n",
    "# Step 2: Apply ICA to the PCA-transformed data to extract independent components\n",
    "\n",
    "ica = FastICA()\n",
    "ica_result = ica.fit_transform(X_pca)\n",
    "ica_result.shape "
   ]
  },
  {
   "cell_type": "code",
   "execution_count": 30,
   "id": "5bd3b5e0",
   "metadata": {},
   "outputs": [
    {
     "data": {
      "image/png": "[encoded data removed]",
      "text/plain": [
       "<Figure size 576x432 with 2 Axes>"
      ]
     },
     "metadata": {},
     "output_type": "display_data"
    }
   ],
   "source": [
    "# Create a scatter plot of the data after PCA\n",
    "plt.figure(figsize=(8, 6))\n",
    "sc =plt.scatter(X_pca[:, 0], X_pca[:, 1], c=y, cmap='viridis')\n",
    "plt.xlabel('Principal Component 1')\n",
    "plt.ylabel('Principal Component 2')\n",
    "plt.title('Data After PCA (2D)')\n",
    "# Add color bar for the labels\n",
    "cbar = plt.colorbar(sc)\n",
    "cbar.set_label('Class Labels')\n",
    "plt.show()"
   ]
  },
  {
   "cell_type": "code",
   "execution_count": null,
   "id": "7fb2a43f",
   "metadata": {},
   "outputs": [],
   "source": []
  }
 ],
 "metadata": {
  "kernelspec": {
   "display_name": "Python 3 (ipykernel)",
   "language": "python",
   "name": "python3"
  },
  "language_info": {
   "codemirror_mode": {
    "name": "ipython",
    "version": 3
   },
   "file_extension": ".py",
   "mimetype": "text/x-python",
   "name": "python",
   "nbconvert_exporter": "python",
   "pygments_lexer": "ipython3",
   "version": "3.9.12"
  }
 },
 "nbformat": 4,
 "nbformat_minor": 5
}
